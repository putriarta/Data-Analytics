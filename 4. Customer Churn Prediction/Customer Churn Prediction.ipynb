{
 "cells": [
  {
   "cell_type": "markdown",
   "metadata": {
    "id": "stexbMQWCTke"
   },
   "source": [
    "## Customer Churn Prediction\n",
    "This project aims to perform data analysis and build model to predict whether user is a churn customer or not.\n",
    "The algorithms I used in this project are Logistic Regression, Random Forest, and Gradient Boosting models.\n",
    "\n",
    "Table of Contents:\n",
    "1. Data Analysis and Visualization\n",
    "2. Prepare the Dataset\n",
    "3. Classification  using Machine Learning Algorithm"
   ]
  },
  {
   "cell_type": "code",
   "execution_count": 1,
   "metadata": {
    "id": "hSr1sf6cs3FB"
   },
   "outputs": [],
   "source": [
    "#Import Library\n",
    "import pandas as pd\n",
    "import numpy as np\n",
    "import matplotlib.pyplot as plt\n",
    "import seaborn as sns\n",
    "from sklearn.preprocessing import LabelEncoder\n",
    "from sklearn.model_selection import train_test_split\n",
    "from sklearn.linear_model import LogisticRegression\n",
    "from sklearn.ensemble import RandomForestClassifier\n",
    "from sklearn.ensemble import GradientBoostingClassifier\n",
    "from sklearn import svm\n",
    "from sklearn.metrics import confusion_matrix, classification_report"
   ]
  },
  {
   "cell_type": "markdown",
   "metadata": {},
   "source": [
    "### 1. Data Analysis and Visualization"
   ]
  },
  {
   "cell_type": "code",
   "execution_count": 2,
   "metadata": {
    "colab": {
     "base_uri": "https://localhost:8080/",
     "height": 406
    },
    "id": "szOKOo-BuULA",
    "outputId": "46e14ed8-bd11-4a93-ddc8-2ff0d1c1b910"
   },
   "outputs": [],
   "source": [
    "df_load = pd.read_csv('https://storage.googleapis.com/dqlab-dataset/dqlab_telco_final.csv')"
   ]
  },
  {
   "cell_type": "code",
   "execution_count": 3,
   "metadata": {},
   "outputs": [
    {
     "data": {
      "text/html": [
       "<div>\n",
       "<style scoped>\n",
       "    .dataframe tbody tr th:only-of-type {\n",
       "        vertical-align: middle;\n",
       "    }\n",
       "\n",
       "    .dataframe tbody tr th {\n",
       "        vertical-align: top;\n",
       "    }\n",
       "\n",
       "    .dataframe thead th {\n",
       "        text-align: right;\n",
       "    }\n",
       "</style>\n",
       "<table border=\"1\" class=\"dataframe\">\n",
       "  <thead>\n",
       "    <tr style=\"text-align: right;\">\n",
       "      <th></th>\n",
       "      <th>UpdatedAt</th>\n",
       "      <th>customerID</th>\n",
       "      <th>gender</th>\n",
       "      <th>SeniorCitizen</th>\n",
       "      <th>Partner</th>\n",
       "      <th>tenure</th>\n",
       "      <th>PhoneService</th>\n",
       "      <th>StreamingTV</th>\n",
       "      <th>InternetService</th>\n",
       "      <th>PaperlessBilling</th>\n",
       "      <th>MonthlyCharges</th>\n",
       "      <th>TotalCharges</th>\n",
       "      <th>Churn</th>\n",
       "    </tr>\n",
       "  </thead>\n",
       "  <tbody>\n",
       "    <tr>\n",
       "      <th>0</th>\n",
       "      <td>202006</td>\n",
       "      <td>45759018157</td>\n",
       "      <td>Female</td>\n",
       "      <td>No</td>\n",
       "      <td>Yes</td>\n",
       "      <td>1</td>\n",
       "      <td>No</td>\n",
       "      <td>No</td>\n",
       "      <td>Yes</td>\n",
       "      <td>Yes</td>\n",
       "      <td>29.85</td>\n",
       "      <td>29.85</td>\n",
       "      <td>No</td>\n",
       "    </tr>\n",
       "    <tr>\n",
       "      <th>1</th>\n",
       "      <td>202006</td>\n",
       "      <td>45315483266</td>\n",
       "      <td>Male</td>\n",
       "      <td>No</td>\n",
       "      <td>Yes</td>\n",
       "      <td>60</td>\n",
       "      <td>Yes</td>\n",
       "      <td>No</td>\n",
       "      <td>No</td>\n",
       "      <td>Yes</td>\n",
       "      <td>20.50</td>\n",
       "      <td>1198.80</td>\n",
       "      <td>No</td>\n",
       "    </tr>\n",
       "    <tr>\n",
       "      <th>2</th>\n",
       "      <td>202006</td>\n",
       "      <td>45236961615</td>\n",
       "      <td>Male</td>\n",
       "      <td>No</td>\n",
       "      <td>No</td>\n",
       "      <td>5</td>\n",
       "      <td>Yes</td>\n",
       "      <td>Yes</td>\n",
       "      <td>Yes</td>\n",
       "      <td>No</td>\n",
       "      <td>104.10</td>\n",
       "      <td>541.90</td>\n",
       "      <td>Yes</td>\n",
       "    </tr>\n",
       "    <tr>\n",
       "      <th>3</th>\n",
       "      <td>202006</td>\n",
       "      <td>45929827382</td>\n",
       "      <td>Female</td>\n",
       "      <td>No</td>\n",
       "      <td>Yes</td>\n",
       "      <td>72</td>\n",
       "      <td>Yes</td>\n",
       "      <td>Yes</td>\n",
       "      <td>Yes</td>\n",
       "      <td>Yes</td>\n",
       "      <td>115.50</td>\n",
       "      <td>8312.75</td>\n",
       "      <td>No</td>\n",
       "    </tr>\n",
       "    <tr>\n",
       "      <th>4</th>\n",
       "      <td>202006</td>\n",
       "      <td>45305082233</td>\n",
       "      <td>Female</td>\n",
       "      <td>No</td>\n",
       "      <td>Yes</td>\n",
       "      <td>56</td>\n",
       "      <td>Yes</td>\n",
       "      <td>Yes</td>\n",
       "      <td>Yes</td>\n",
       "      <td>No</td>\n",
       "      <td>81.25</td>\n",
       "      <td>4620.40</td>\n",
       "      <td>No</td>\n",
       "    </tr>\n",
       "  </tbody>\n",
       "</table>\n",
       "</div>"
      ],
      "text/plain": [
       "   UpdatedAt   customerID  gender SeniorCitizen Partner  tenure PhoneService  \\\n",
       "0     202006  45759018157  Female            No     Yes       1           No   \n",
       "1     202006  45315483266    Male            No     Yes      60          Yes   \n",
       "2     202006  45236961615    Male            No      No       5          Yes   \n",
       "3     202006  45929827382  Female            No     Yes      72          Yes   \n",
       "4     202006  45305082233  Female            No     Yes      56          Yes   \n",
       "\n",
       "  StreamingTV InternetService PaperlessBilling  MonthlyCharges  TotalCharges  \\\n",
       "0          No             Yes              Yes           29.85         29.85   \n",
       "1          No              No              Yes           20.50       1198.80   \n",
       "2         Yes             Yes               No          104.10        541.90   \n",
       "3         Yes             Yes              Yes          115.50       8312.75   \n",
       "4         Yes             Yes               No           81.25       4620.40   \n",
       "\n",
       "  Churn  \n",
       "0    No  \n",
       "1    No  \n",
       "2   Yes  \n",
       "3    No  \n",
       "4    No  "
      ]
     },
     "execution_count": 3,
     "metadata": {},
     "output_type": "execute_result"
    }
   ],
   "source": [
    "df_load.head()"
   ]
  },
  {
   "cell_type": "code",
   "execution_count": 4,
   "metadata": {
    "colab": {
     "base_uri": "https://localhost:8080/"
    },
    "id": "J4GoUwkAvNiJ",
    "outputId": "8d3585ec-d438-4bb7-99ec-8f64b19d4df1"
   },
   "outputs": [
    {
     "name": "stdout",
     "output_type": "stream",
     "text": [
      "<class 'pandas.core.frame.DataFrame'>\n",
      "RangeIndex: 6950 entries, 0 to 6949\n",
      "Data columns (total 13 columns):\n",
      " #   Column            Non-Null Count  Dtype  \n",
      "---  ------            --------------  -----  \n",
      " 0   UpdatedAt         6950 non-null   int64  \n",
      " 1   customerID        6950 non-null   int64  \n",
      " 2   gender            6950 non-null   object \n",
      " 3   SeniorCitizen     6950 non-null   object \n",
      " 4   Partner           6950 non-null   object \n",
      " 5   tenure            6950 non-null   int64  \n",
      " 6   PhoneService      6950 non-null   object \n",
      " 7   StreamingTV       6950 non-null   object \n",
      " 8   InternetService   6950 non-null   object \n",
      " 9   PaperlessBilling  6950 non-null   object \n",
      " 10  MonthlyCharges    6950 non-null   float64\n",
      " 11  TotalCharges      6950 non-null   float64\n",
      " 12  Churn             6950 non-null   object \n",
      "dtypes: float64(2), int64(3), object(8)\n",
      "memory usage: 706.0+ KB\n",
      "None \n",
      "\n",
      "No     5114\n",
      "Yes    1836\n",
      "Name: Churn, dtype: int64\n"
     ]
    }
   ],
   "source": [
    "print(df_load.info(), '\\n')\n",
    "print(df_load['Churn'].value_counts())"
   ]
  },
  {
   "cell_type": "markdown",
   "metadata": {
    "id": "no8IS8xCtk70"
   },
   "source": [
    "* UpdatedAt : Periode of Data taken\n",
    "* customerID : Customer ID\n",
    "* gender : Whether the customer is a male or a female (Male, Female)\n",
    "* SeniorCitizen : Whether the customer is a senior citizen or not (Yes, No)\n",
    "* Partner : Whether the customer has a partner or not (Yes, No)\n",
    "* tenure : Number of months the customer has stayed with the company\n",
    "* PhoneService : Whether the customer has a phone service or not (Yes, No)\n",
    "* InternetService : Customer’s internet service provider (Yes, No)\n",
    "* StreamingTV : Whether the customer has streaming TV or not (Yes, No)\n",
    "* PaperlessBilling : Whether the customer has paperless billing or not (Yes, No)\n",
    "* MonthlyCharges : The amount charged to the customer monthly\n",
    "* TotalCharges : The total amount charged to the customer\n",
    "* (target label) Churn : Whether the customer churned or not (Yes, No)"
   ]
  },
  {
   "cell_type": "code",
   "execution_count": 5,
   "metadata": {
    "colab": {
     "base_uri": "https://localhost:8080/",
     "height": 318
    },
    "id": "RW9yIyoJuTAd",
    "outputId": "2d2fdf30-6914-4e0b-92be-f4a5a5960805"
   },
   "outputs": [
    {
     "data": {
      "image/png": "[encoded data removed]",
      "text/plain": [
       "<Figure size 432x288 with 1 Axes>"
      ]
     },
     "metadata": {},
     "output_type": "display_data"
    }
   ],
   "source": [
    "fig = plt.figure()\n",
    "ax = fig.add_axes([0,0,1,1])\n",
    "ax.axis('equal')\n",
    "labels = ['Yes','No']\n",
    "churn = df_load.Churn.value_counts()\n",
    "ax.pie(churn, labels=labels, autopct='%.0f%%', colors=('coral','pink'))\n",
    "plt.show()"
   ]
  },
  {
   "cell_type": "code",
   "execution_count": 6,
   "metadata": {
    "colab": {
     "base_uri": "https://localhost:8080/",
     "height": 390
    },
    "id": "tJ-qEBkH0Zfn",
    "outputId": "ad62073e-49cc-4d2b-8839-00ca2693efaf"
   },
   "outputs": [
    {
     "data": {
      "image/png": "[encoded data removed]",
      "text/plain": [
       "<Figure size 1080x432 with 3 Axes>"
      ]
     },
     "metadata": {
      "needs_background": "light"
     },
     "output_type": "display_data"
    }
   ],
   "source": [
    "#EDA variabel numerik\n",
    "\n",
    "#creating bin in chart\n",
    "numerical_features = ['MonthlyCharges','TotalCharges','tenure']\n",
    "fig, ax = plt.subplots(1, 3, figsize=(15, 6))\n",
    "# Use the following code to plot two overlays of histogram per each numerical_features, use a color of blue and orange, respectively\n",
    "df_load[df_load.Churn == 'No'][numerical_features].hist(bins=20, color='blue', alpha=0.5, ax=ax)\n",
    "df_load[df_load.Churn == 'Yes'][numerical_features].hist(bins=20, color='orange', alpha=0.5, ax=ax)\n",
    "plt.show()"
   ]
  },
  {
   "cell_type": "markdown",
   "metadata": {
    "id": "v1wZV9yb19Yg"
   },
   "source": [
    "* MonthlyCharges ada kecenderungan: semakin kecil nilai biaya bulanan yang dikenakan, semakin kecil juga kecenderungan untuk melakukan Churn. \n",
    "* Untuk TotalCharges terlihat tidak ada kecenderungan apapun terhadap Churn customers. \n",
    "* Untuk tenure ada kecenderungan semakin lama berlangganan customer, semakin kecil kecenderungan untuk melakukan Churn"
   ]
  },
  {
   "cell_type": "code",
   "execution_count": 7,
   "metadata": {
    "colab": {
     "base_uri": "https://localhost:8080/",
     "height": 868
    },
    "id": "i1eTDOiq0bfN",
    "outputId": "ca4cf15c-a088-4331-b0cd-35447520eea0"
   },
   "outputs": [
    {
     "data": {
      "image/png": "[encoded data removed]",
      "text/plain": [
       "<Figure size 1008x864 with 9 Axes>"
      ]
     },
     "metadata": {},
     "output_type": "display_data"
    }
   ],
   "source": [
    "#EDA varibel kategorik\n",
    "\n",
    "sns.set(style='darkgrid')\n",
    "# Your code goes here\n",
    "fig, ax = plt.subplots(3, 3, figsize=(14, 12))\n",
    "sns.countplot(data=df_load, x='gender', hue='Churn', ax=ax[0][0])\n",
    "sns.countplot(data=df_load, x='Partner', hue='Churn', ax=ax[0][1])\n",
    "sns.countplot(data=df_load, x='SeniorCitizen', hue='Churn', ax=ax[0][2])\n",
    "sns.countplot(data=df_load, x='PhoneService', hue='Churn', ax=ax[1][0])\n",
    "sns.countplot(data=df_load, x='StreamingTV', hue='Churn', ax=ax[1][1])\n",
    "sns.countplot(data=df_load, x='InternetService', hue='Churn', ax=ax[1][2])\n",
    "sns.countplot(data=df_load, x='PaperlessBilling', hue='Churn', ax=ax[2][1])\n",
    "plt.tight_layout()\n",
    "plt.show()"
   ]
  },
  {
   "cell_type": "markdown",
   "metadata": {
    "id": "gO7y2MAs2J9I"
   },
   "source": [
    "* Tidak ada perbedaan yang signifikan untuk orang melakukan churn dilihat dari faktor jenis kelamin (gender) dan layanan telfonnya (PhoneService). \n",
    "* Ada kecenderungan bahwa orang yang melakukan churn adalah orang-orang yang tidak memiliki partner (partner: No), orang-orang yang statusnya adalah senior citizen(SeniorCitizen: Yes), orang-orang yang mempunyai layanan streaming TV (StreamingTV: Yes), orang-orang yang mempunyai layanan Internet (internetService: Yes) dan orang-orang yang tagihannya paperless (PaperlessBilling: Yes)."
   ]
  },
  {
   "cell_type": "markdown",
   "metadata": {},
   "source": [
    "---"
   ]
  },
  {
   "cell_type": "markdown",
   "metadata": {},
   "source": [
    "## 2. Prepare the Dataset"
   ]
  },
  {
   "cell_type": "markdown",
   "metadata": {},
   "source": [
    "**a. Dropping unnecessary columns**"
   ]
  },
  {
   "cell_type": "code",
   "execution_count": 8,
   "metadata": {
    "colab": {
     "base_uri": "https://localhost:8080/",
     "height": 406
    },
    "id": "sx8Ete3P22Yj",
    "outputId": "31d18235-1cd7-409e-e62a-97821a2cafab"
   },
   "outputs": [
    {
     "data": {
      "text/html": [
       "<div>\n",
       "<style scoped>\n",
       "    .dataframe tbody tr th:only-of-type {\n",
       "        vertical-align: middle;\n",
       "    }\n",
       "\n",
       "    .dataframe tbody tr th {\n",
       "        vertical-align: top;\n",
       "    }\n",
       "\n",
       "    .dataframe thead th {\n",
       "        text-align: right;\n",
       "    }\n",
       "</style>\n",
       "<table border=\"1\" class=\"dataframe\">\n",
       "  <thead>\n",
       "    <tr style=\"text-align: right;\">\n",
       "      <th></th>\n",
       "      <th>gender</th>\n",
       "      <th>SeniorCitizen</th>\n",
       "      <th>Partner</th>\n",
       "      <th>tenure</th>\n",
       "      <th>PhoneService</th>\n",
       "      <th>StreamingTV</th>\n",
       "      <th>InternetService</th>\n",
       "      <th>PaperlessBilling</th>\n",
       "      <th>MonthlyCharges</th>\n",
       "      <th>TotalCharges</th>\n",
       "      <th>Churn</th>\n",
       "    </tr>\n",
       "  </thead>\n",
       "  <tbody>\n",
       "    <tr>\n",
       "      <th>0</th>\n",
       "      <td>Female</td>\n",
       "      <td>No</td>\n",
       "      <td>Yes</td>\n",
       "      <td>1</td>\n",
       "      <td>No</td>\n",
       "      <td>No</td>\n",
       "      <td>Yes</td>\n",
       "      <td>Yes</td>\n",
       "      <td>29.85</td>\n",
       "      <td>29.85</td>\n",
       "      <td>No</td>\n",
       "    </tr>\n",
       "    <tr>\n",
       "      <th>1</th>\n",
       "      <td>Male</td>\n",
       "      <td>No</td>\n",
       "      <td>Yes</td>\n",
       "      <td>60</td>\n",
       "      <td>Yes</td>\n",
       "      <td>No</td>\n",
       "      <td>No</td>\n",
       "      <td>Yes</td>\n",
       "      <td>20.50</td>\n",
       "      <td>1198.80</td>\n",
       "      <td>No</td>\n",
       "    </tr>\n",
       "    <tr>\n",
       "      <th>2</th>\n",
       "      <td>Male</td>\n",
       "      <td>No</td>\n",
       "      <td>No</td>\n",
       "      <td>5</td>\n",
       "      <td>Yes</td>\n",
       "      <td>Yes</td>\n",
       "      <td>Yes</td>\n",
       "      <td>No</td>\n",
       "      <td>104.10</td>\n",
       "      <td>541.90</td>\n",
       "      <td>Yes</td>\n",
       "    </tr>\n",
       "    <tr>\n",
       "      <th>3</th>\n",
       "      <td>Female</td>\n",
       "      <td>No</td>\n",
       "      <td>Yes</td>\n",
       "      <td>72</td>\n",
       "      <td>Yes</td>\n",
       "      <td>Yes</td>\n",
       "      <td>Yes</td>\n",
       "      <td>Yes</td>\n",
       "      <td>115.50</td>\n",
       "      <td>8312.75</td>\n",
       "      <td>No</td>\n",
       "    </tr>\n",
       "    <tr>\n",
       "      <th>4</th>\n",
       "      <td>Female</td>\n",
       "      <td>No</td>\n",
       "      <td>Yes</td>\n",
       "      <td>56</td>\n",
       "      <td>Yes</td>\n",
       "      <td>Yes</td>\n",
       "      <td>Yes</td>\n",
       "      <td>No</td>\n",
       "      <td>81.25</td>\n",
       "      <td>4620.40</td>\n",
       "      <td>No</td>\n",
       "    </tr>\n",
       "  </tbody>\n",
       "</table>\n",
       "</div>"
      ],
      "text/plain": [
       "   gender SeniorCitizen Partner  tenure PhoneService StreamingTV  \\\n",
       "0  Female            No     Yes       1           No          No   \n",
       "1    Male            No     Yes      60          Yes          No   \n",
       "2    Male            No      No       5          Yes         Yes   \n",
       "3  Female            No     Yes      72          Yes         Yes   \n",
       "4  Female            No     Yes      56          Yes         Yes   \n",
       "\n",
       "  InternetService PaperlessBilling  MonthlyCharges  TotalCharges Churn  \n",
       "0             Yes              Yes           29.85         29.85    No  \n",
       "1              No              Yes           20.50       1198.80    No  \n",
       "2             Yes               No          104.10        541.90   Yes  \n",
       "3             Yes              Yes          115.50       8312.75    No  \n",
       "4             Yes               No           81.25       4620.40    No  "
      ]
     },
     "execution_count": 8,
     "metadata": {},
     "output_type": "execute_result"
    }
   ],
   "source": [
    "cleaned_df = df_load.drop(['customerID','UpdatedAt'], axis=1)\n",
    "cleaned_df.head()"
   ]
  },
  {
   "cell_type": "markdown",
   "metadata": {},
   "source": [
    "**b. Performed one hot encoding to categorical variables**"
   ]
  },
  {
   "cell_type": "code",
   "execution_count": 9,
   "metadata": {},
   "outputs": [],
   "source": [
    "encoded_columns = pd.get_dummies(cleaned_df['gender'])\n",
    "cleaned_df  = cleaned_df.join(encoded_columns).drop('gender', axis=1)\n",
    "\n",
    "encoded_columns = pd.get_dummies(cleaned_df['SeniorCitizen'], prefix='SeniorCitizen')\n",
    "cleaned_df  = cleaned_df.join(encoded_columns).drop('SeniorCitizen', axis=1)\n",
    "\n",
    "encoded_columns = pd.get_dummies(cleaned_df['Partner'], prefix='Partner')\n",
    "cleaned_df  = cleaned_df.join(encoded_columns).drop('Partner', axis=1)\n",
    "\n",
    "encoded_columns = pd.get_dummies(cleaned_df['PhoneService'], prefix='PhoneService')\n",
    "cleaned_df  = cleaned_df.join(encoded_columns).drop('PhoneService', axis=1)\n",
    "\n",
    "encoded_columns = pd.get_dummies(cleaned_df['StreamingTV'], prefix='StreamTV')\n",
    "cleaned_df  = cleaned_df.join(encoded_columns).drop('StreamingTV', axis=1)\n",
    "\n",
    "encoded_columns = pd.get_dummies(cleaned_df['PaperlessBilling'], prefix='PaperlessBilling')\n",
    "cleaned_df  = cleaned_df.join(encoded_columns).drop('PaperlessBilling', axis=1)\n",
    "\n",
    "encoded_columns = pd.get_dummies(cleaned_df['InternetService'], prefix='InternetService')\n",
    "cleaned_df  = cleaned_df.join(encoded_columns).drop('InternetService', axis=1)"
   ]
  },
  {
   "cell_type": "code",
   "execution_count": 10,
   "metadata": {},
   "outputs": [
    {
     "name": "stdout",
     "output_type": "stream",
     "text": [
      "            tenure  MonthlyCharges  TotalCharges        Churn       Female  \\\n",
      "count  6950.000000     6950.000000   6950.000000  6950.000000  6950.000000   \n",
      "mean     32.415827       64.992201   2286.058750     0.264173     0.495683   \n",
      "std      24.561336       30.032040   2265.702553     0.440923     0.500017   \n",
      "min       0.000000        0.000000     19.000000     0.000000     0.000000   \n",
      "25%       9.000000       36.462500    406.975000     0.000000     0.000000   \n",
      "50%      29.000000       70.450000   1400.850000     0.000000     0.000000   \n",
      "75%      55.000000       89.850000   3799.837500     1.000000     1.000000   \n",
      "max      73.000000      169.931250   8889.131250     1.000000     1.000000   \n",
      "\n",
      "              Male  SeniorCitizen_No  SeniorCitizen_Yes   Partner_No  \\\n",
      "count  6950.000000       6950.000000        6950.000000  6950.000000   \n",
      "mean      0.504317          0.837698           0.162302     0.516691   \n",
      "std       0.500017          0.368754           0.368754     0.499757   \n",
      "min       0.000000          0.000000           0.000000     0.000000   \n",
      "25%       0.000000          1.000000           0.000000     0.000000   \n",
      "50%       1.000000          1.000000           0.000000     1.000000   \n",
      "75%       1.000000          1.000000           0.000000     1.000000   \n",
      "max       1.000000          1.000000           1.000000     1.000000   \n",
      "\n",
      "       Partner_Yes  PhoneService_No  PhoneService_Yes  StreamTV_No  \\\n",
      "count  6950.000000      6950.000000       6950.000000  6950.000000   \n",
      "mean      0.483309         0.096259          0.903741     0.615683   \n",
      "std       0.499757         0.294967          0.294967     0.486468   \n",
      "min       0.000000         0.000000          0.000000     0.000000   \n",
      "25%       0.000000         0.000000          1.000000     0.000000   \n",
      "50%       0.000000         0.000000          1.000000     1.000000   \n",
      "75%       1.000000         0.000000          1.000000     1.000000   \n",
      "max       1.000000         1.000000          1.000000     1.000000   \n",
      "\n",
      "       StreamTV_Yes  PaperlessBilling_No  PaperlessBilling_Yes  \\\n",
      "count   6950.000000          6950.000000           6950.000000   \n",
      "mean       0.384317             0.408058              0.591942   \n",
      "std        0.486468             0.491509              0.491509   \n",
      "min        0.000000             0.000000              0.000000   \n",
      "25%        0.000000             0.000000              0.000000   \n",
      "50%        0.000000             0.000000              1.000000   \n",
      "75%        1.000000             1.000000              1.000000   \n",
      "max        1.000000             1.000000              1.000000   \n",
      "\n",
      "       InternetService_No  InternetService_Yes  \n",
      "count         6950.000000          6950.000000  \n",
      "mean             0.216547             0.783453  \n",
      "std              0.411921             0.411921  \n",
      "min              0.000000             0.000000  \n",
      "25%              0.000000             1.000000  \n",
      "50%              0.000000             1.000000  \n",
      "75%              0.000000             1.000000  \n",
      "max              1.000000             1.000000   \n",
      "\n",
      "<class 'pandas.core.frame.DataFrame'>\n",
      "RangeIndex: 6950 entries, 0 to 6949\n",
      "Data columns (total 18 columns):\n",
      " #   Column                Non-Null Count  Dtype  \n",
      "---  ------                --------------  -----  \n",
      " 0   tenure                6950 non-null   int64  \n",
      " 1   MonthlyCharges        6950 non-null   float64\n",
      " 2   TotalCharges          6950 non-null   float64\n",
      " 3   Churn                 6950 non-null   int32  \n",
      " 4   Female                6950 non-null   int64  \n",
      " 5   Male                  6950 non-null   int64  \n",
      " 6   SeniorCitizen_No      6950 non-null   int64  \n",
      " 7   SeniorCitizen_Yes     6950 non-null   int64  \n",
      " 8   Partner_No            6950 non-null   int64  \n",
      " 9   Partner_Yes           6950 non-null   int64  \n",
      " 10  PhoneService_No       6950 non-null   int64  \n",
      " 11  PhoneService_Yes      6950 non-null   int64  \n",
      " 12  StreamTV_No           6950 non-null   int64  \n",
      " 13  StreamTV_Yes          6950 non-null   int64  \n",
      " 14  PaperlessBilling_No   6950 non-null   int64  \n",
      " 15  PaperlessBilling_Yes  6950 non-null   int64  \n",
      " 16  InternetService_No    6950 non-null   int64  \n",
      " 17  InternetService_Yes   6950 non-null   int64  \n",
      "dtypes: float64(2), int32(1), int64(15)\n",
      "memory usage: 950.3 KB\n"
     ]
    },
    {
     "name": "stderr",
     "output_type": "stream",
     "text": [
      "C:\\Users\\Hp\\anaconda3\\envs\\Python36\\lib\\site-packages\\ipykernel_launcher.py:4: DeprecationWarning: Converting `np.inexact` or `np.floating` to a dtype is deprecated. The current result is `float64` which is not strictly correct.\n",
      "  after removing the cwd from sys.path.\n"
     ]
    }
   ],
   "source": [
    "#Encode kolom yang kategorik ke numerik\n",
    "#Convert all the non-numeric columns to numerical data types\n",
    "for column in cleaned_df.columns:\n",
    "    if cleaned_df[column].dtype == np.number: continue\n",
    "    # Perform encoding for each non-numeric column\n",
    "    cleaned_df[column] = LabelEncoder().fit_transform(cleaned_df[column])\n",
    "print(cleaned_df.describe(), '\\n')\n",
    "cleaned_df.info()"
   ]
  },
  {
   "cell_type": "code",
   "execution_count": 11,
   "metadata": {},
   "outputs": [
    {
     "data": {
      "text/html": [
       "<div>\n",
       "<style scoped>\n",
       "    .dataframe tbody tr th:only-of-type {\n",
       "        vertical-align: middle;\n",
       "    }\n",
       "\n",
       "    .dataframe tbody tr th {\n",
       "        vertical-align: top;\n",
       "    }\n",
       "\n",
       "    .dataframe thead th {\n",
       "        text-align: right;\n",
       "    }\n",
       "</style>\n",
       "<table border=\"1\" class=\"dataframe\">\n",
       "  <thead>\n",
       "    <tr style=\"text-align: right;\">\n",
       "      <th></th>\n",
       "      <th>tenure</th>\n",
       "      <th>MonthlyCharges</th>\n",
       "      <th>TotalCharges</th>\n",
       "      <th>Churn</th>\n",
       "      <th>Female</th>\n",
       "      <th>Male</th>\n",
       "      <th>SeniorCitizen_No</th>\n",
       "      <th>SeniorCitizen_Yes</th>\n",
       "      <th>Partner_No</th>\n",
       "      <th>Partner_Yes</th>\n",
       "      <th>PhoneService_No</th>\n",
       "      <th>PhoneService_Yes</th>\n",
       "      <th>StreamTV_No</th>\n",
       "      <th>StreamTV_Yes</th>\n",
       "      <th>PaperlessBilling_No</th>\n",
       "      <th>PaperlessBilling_Yes</th>\n",
       "      <th>InternetService_No</th>\n",
       "      <th>InternetService_Yes</th>\n",
       "    </tr>\n",
       "  </thead>\n",
       "  <tbody>\n",
       "    <tr>\n",
       "      <th>0</th>\n",
       "      <td>1</td>\n",
       "      <td>29.85</td>\n",
       "      <td>29.85</td>\n",
       "      <td>0</td>\n",
       "      <td>1</td>\n",
       "      <td>0</td>\n",
       "      <td>1</td>\n",
       "      <td>0</td>\n",
       "      <td>0</td>\n",
       "      <td>1</td>\n",
       "      <td>1</td>\n",
       "      <td>0</td>\n",
       "      <td>1</td>\n",
       "      <td>0</td>\n",
       "      <td>0</td>\n",
       "      <td>1</td>\n",
       "      <td>0</td>\n",
       "      <td>1</td>\n",
       "    </tr>\n",
       "    <tr>\n",
       "      <th>1</th>\n",
       "      <td>60</td>\n",
       "      <td>20.50</td>\n",
       "      <td>1198.80</td>\n",
       "      <td>0</td>\n",
       "      <td>0</td>\n",
       "      <td>1</td>\n",
       "      <td>1</td>\n",
       "      <td>0</td>\n",
       "      <td>0</td>\n",
       "      <td>1</td>\n",
       "      <td>0</td>\n",
       "      <td>1</td>\n",
       "      <td>1</td>\n",
       "      <td>0</td>\n",
       "      <td>0</td>\n",
       "      <td>1</td>\n",
       "      <td>1</td>\n",
       "      <td>0</td>\n",
       "    </tr>\n",
       "    <tr>\n",
       "      <th>2</th>\n",
       "      <td>5</td>\n",
       "      <td>104.10</td>\n",
       "      <td>541.90</td>\n",
       "      <td>1</td>\n",
       "      <td>0</td>\n",
       "      <td>1</td>\n",
       "      <td>1</td>\n",
       "      <td>0</td>\n",
       "      <td>1</td>\n",
       "      <td>0</td>\n",
       "      <td>0</td>\n",
       "      <td>1</td>\n",
       "      <td>0</td>\n",
       "      <td>1</td>\n",
       "      <td>1</td>\n",
       "      <td>0</td>\n",
       "      <td>0</td>\n",
       "      <td>1</td>\n",
       "    </tr>\n",
       "    <tr>\n",
       "      <th>3</th>\n",
       "      <td>72</td>\n",
       "      <td>115.50</td>\n",
       "      <td>8312.75</td>\n",
       "      <td>0</td>\n",
       "      <td>1</td>\n",
       "      <td>0</td>\n",
       "      <td>1</td>\n",
       "      <td>0</td>\n",
       "      <td>0</td>\n",
       "      <td>1</td>\n",
       "      <td>0</td>\n",
       "      <td>1</td>\n",
       "      <td>0</td>\n",
       "      <td>1</td>\n",
       "      <td>0</td>\n",
       "      <td>1</td>\n",
       "      <td>0</td>\n",
       "      <td>1</td>\n",
       "    </tr>\n",
       "    <tr>\n",
       "      <th>4</th>\n",
       "      <td>56</td>\n",
       "      <td>81.25</td>\n",
       "      <td>4620.40</td>\n",
       "      <td>0</td>\n",
       "      <td>1</td>\n",
       "      <td>0</td>\n",
       "      <td>1</td>\n",
       "      <td>0</td>\n",
       "      <td>0</td>\n",
       "      <td>1</td>\n",
       "      <td>0</td>\n",
       "      <td>1</td>\n",
       "      <td>0</td>\n",
       "      <td>1</td>\n",
       "      <td>1</td>\n",
       "      <td>0</td>\n",
       "      <td>0</td>\n",
       "      <td>1</td>\n",
       "    </tr>\n",
       "  </tbody>\n",
       "</table>\n",
       "</div>"
      ],
      "text/plain": [
       "   tenure  MonthlyCharges  TotalCharges  Churn  Female  Male  \\\n",
       "0       1           29.85         29.85      0       1     0   \n",
       "1      60           20.50       1198.80      0       0     1   \n",
       "2       5          104.10        541.90      1       0     1   \n",
       "3      72          115.50       8312.75      0       1     0   \n",
       "4      56           81.25       4620.40      0       1     0   \n",
       "\n",
       "   SeniorCitizen_No  SeniorCitizen_Yes  Partner_No  Partner_Yes  \\\n",
       "0                 1                  0           0            1   \n",
       "1                 1                  0           0            1   \n",
       "2                 1                  0           1            0   \n",
       "3                 1                  0           0            1   \n",
       "4                 1                  0           0            1   \n",
       "\n",
       "   PhoneService_No  PhoneService_Yes  StreamTV_No  StreamTV_Yes  \\\n",
       "0                1                 0            1             0   \n",
       "1                0                 1            1             0   \n",
       "2                0                 1            0             1   \n",
       "3                0                 1            0             1   \n",
       "4                0                 1            0             1   \n",
       "\n",
       "   PaperlessBilling_No  PaperlessBilling_Yes  InternetService_No  \\\n",
       "0                    0                     1                   0   \n",
       "1                    0                     1                   1   \n",
       "2                    1                     0                   0   \n",
       "3                    0                     1                   0   \n",
       "4                    1                     0                   0   \n",
       "\n",
       "   InternetService_Yes  \n",
       "0                    1  \n",
       "1                    0  \n",
       "2                    1  \n",
       "3                    1  \n",
       "4                    1  "
      ]
     },
     "execution_count": 11,
     "metadata": {},
     "output_type": "execute_result"
    }
   ],
   "source": [
    "cleaned_df.head()"
   ]
  },
  {
   "cell_type": "markdown",
   "metadata": {},
   "source": [
    "**c. Encode label for Churn variable**"
   ]
  },
  {
   "cell_type": "code",
   "execution_count": 12,
   "metadata": {},
   "outputs": [],
   "source": [
    "from sklearn import preprocessing\n",
    "label_encoder = preprocessing.LabelEncoder()\n",
    "cleaned_df['Churn']= label_encoder.fit_transform(cleaned_df['Churn']) "
   ]
  },
  {
   "cell_type": "markdown",
   "metadata": {},
   "source": [
    "**d. Split the dataset**"
   ]
  },
  {
   "cell_type": "code",
   "execution_count": 13,
   "metadata": {},
   "outputs": [
    {
     "name": "stdout",
     "output_type": "stream",
     "text": [
      "Jumlah baris dan kolom dari x_train adalah: (4865, 17) , sedangkan Jumlah baris dan kolom dari y_train adalah: (4865,)\n",
      "Persentase Churn di data Training adalah:\n",
      "0    0.734841\n",
      "1    0.265159\n",
      "Name: Churn, dtype: float64\n",
      "Jumlah baris dan kolom dari x_test adalah: (2085, 17) , sedangkan Jumlah baris dan kolom dari y_test adalah: (2085,)\n",
      "Persentase Churn di data Testing adalah:\n",
      "0    0.738129\n",
      "1    0.261871\n",
      "Name: Churn, dtype: float64\n"
     ]
    }
   ],
   "source": [
    "# Predictor dan target\n",
    "X = cleaned_df.drop('Churn', axis = 1)\n",
    "y = cleaned_df['Churn']\n",
    "# Splitting train and test\n",
    "X_train, X_test, y_train, y_test = train_test_split(X, y, test_size=0.3, random_state=42)\n",
    "# Print according to the expected result\n",
    "print('Jumlah baris dan kolom dari x_train adalah:', X_train.shape,', sedangkan Jumlah baris dan kolom dari y_train adalah:', y_train.shape)\n",
    "print('Persentase Churn di data Training adalah:')\n",
    "print(y_train.value_counts(normalize=True))\n",
    "print('Jumlah baris dan kolom dari x_test adalah:', X_test.shape,', sedangkan Jumlah baris dan kolom dari y_test adalah:', y_test.shape)\n",
    "print('Persentase Churn di data Testing adalah:')\n",
    "print(y_test.value_counts(normalize=True))"
   ]
  },
  {
   "cell_type": "markdown",
   "metadata": {},
   "source": [
    "---"
   ]
  },
  {
   "cell_type": "markdown",
   "metadata": {},
   "source": [
    "## 3. Classification using Machine Learning Algorithm"
   ]
  },
  {
   "cell_type": "markdown",
   "metadata": {},
   "source": [
    "**a. Logistic Regression**"
   ]
  },
  {
   "cell_type": "code",
   "execution_count": 14,
   "metadata": {},
   "outputs": [],
   "source": [
    "log_model = LogisticRegression(solver ='lbfgs', max_iter = 200)\n",
    "log_model.fit(X_train,y_train) #train data\n",
    "y_pred = log_model.predict(X_test) # test data\n",
    "y_true = y_test"
   ]
  },
  {
   "cell_type": "code",
   "execution_count": 15,
   "metadata": {},
   "outputs": [
    {
     "name": "stdout",
     "output_type": "stream",
     "text": [
      "Accuracy Train: 0.7946557040082219\n",
      "Accuracy Test : 0.7899280575539568\n",
      "F1 score      : 0.7807218441741451\n"
     ]
    }
   ],
   "source": [
    "from sklearn import metrics\n",
    "print(\"Accuracy Train:\", log_model.score(X_train,y_train))\n",
    "print(\"Accuracy Test :\", log_model.score(X_test,y_test))\n",
    "f1_lr = metrics.f1_score(y_true, y_pred, average='weighted')\n",
    "print(\"F1 score      :\", f1_lr)"
   ]
  },
  {
   "cell_type": "code",
   "execution_count": 16,
   "metadata": {
    "colab": {
     "base_uri": "https://localhost:8080/"
    },
    "id": "6V-nfg46TGcO",
    "outputId": "fbdbac32-f52b-4a4e-e39c-5e7b41636128"
   },
   "outputs": [
    {
     "name": "stdout",
     "output_type": "stream",
     "text": [
      "Classification Report Logistic Regression in Test Data :\n",
      "              precision    recall  f1-score   support\n",
      "\n",
      "           0       0.83      0.90      0.86      1539\n",
      "           1       0.63      0.49      0.55       546\n",
      "\n",
      "    accuracy                           0.79      2085\n",
      "   macro avg       0.73      0.69      0.71      2085\n",
      "weighted avg       0.78      0.79      0.78      2085\n",
      "\n"
     ]
    }
   ],
   "source": [
    "print('Classification Report Logistic Regression in Test Data :')\n",
    "print(classification_report(y_true, y_pred))"
   ]
  },
  {
   "cell_type": "code",
   "execution_count": 17,
   "metadata": {},
   "outputs": [
    {
     "data": {
      "image/png": "[encoded data removed]",
      "text/plain": [
       "<Figure size 504x360 with 2 Axes>"
      ]
     },
     "metadata": {},
     "output_type": "display_data"
    }
   ],
   "source": [
    "plt.figure(figsize=(7,5))\n",
    "cf_matrix = pd.DataFrame((confusion_matrix(y_true, y_pred)), ('No churn', 'Churn'), ('No churn', 'Churn'))\n",
    "ax = sns.heatmap(cf_matrix, annot=True, fmt='d', cmap='Oranges', annot_kws={'size': 14})\n",
    "plt.title(\"Confusion Matrix Model Logistic Regression\", fontsize=15)\n",
    "plt.ylabel('True label', fontsize=14)\n",
    "plt.xlabel('Predicted label', fontsize=13)\n",
    "plt.show()"
   ]
  },
  {
   "cell_type": "markdown",
   "metadata": {},
   "source": [
    "**b. Random Forest**"
   ]
  },
  {
   "cell_type": "code",
   "execution_count": 18,
   "metadata": {
    "colab": {
     "base_uri": "https://localhost:8080/"
    },
    "id": "V1x70LNqWRXi",
    "outputId": "a0444e08-bd0c-44f0-869a-938bf55b3f4e"
   },
   "outputs": [],
   "source": [
    "rdf_model = RandomForestClassifier(max_depth=80, n_estimators=100, max_features='auto')\n",
    "rdf_model = rdf_model.fit(X_train,y_train) #train data\n",
    "y_pred = rdf_model.predict(X_test) # test data\n",
    "y_true = y_test"
   ]
  },
  {
   "cell_type": "code",
   "execution_count": 19,
   "metadata": {},
   "outputs": [
    {
     "name": "stdout",
     "output_type": "stream",
     "text": [
      "Accuracy Train: 0.9952723535457348\n",
      "Accuracy Test : 0.7678657074340528\n",
      "F Score       : 0.7616307086500307\n"
     ]
    }
   ],
   "source": [
    "print(\"Accuracy Train:\", rdf_model.score(X_train,y_train))\n",
    "print(\"Accuracy Test :\", rdf_model.score(X_test,y_test))\n",
    "f1_rdf = metrics.f1_score(y_true, y_pred, average='weighted')\n",
    "print(\"F Score       :\", f1_rdf)"
   ]
  },
  {
   "cell_type": "code",
   "execution_count": 20,
   "metadata": {
    "colab": {
     "base_uri": "https://localhost:8080/"
    },
    "id": "HixwWSosWTn3",
    "outputId": "69848a1c-dba7-4b56-8985-b4abdd89a279"
   },
   "outputs": [
    {
     "name": "stdout",
     "output_type": "stream",
     "text": [
      "Classification Report Random Forest in Test Data :\n",
      "              precision    recall  f1-score   support\n",
      "\n",
      "           0       0.83      0.87      0.85      1539\n",
      "           1       0.57      0.48      0.52       546\n",
      "\n",
      "    accuracy                           0.77      2085\n",
      "   macro avg       0.70      0.68      0.68      2085\n",
      "weighted avg       0.76      0.77      0.76      2085\n",
      "\n"
     ]
    }
   ],
   "source": [
    "print('Classification Report Random Forest in Test Data :')\n",
    "print(classification_report(y_true, y_pred))"
   ]
  },
  {
   "cell_type": "code",
   "execution_count": 21,
   "metadata": {
    "colab": {
     "base_uri": "https://localhost:8080/",
     "height": 331
    },
    "id": "5JT2If0GWhqI",
    "outputId": "22433431-849f-41e9-c1b6-66004b299c63"
   },
   "outputs": [
    {
     "data": {
      "image/png": "[encoded data removed]",
      "text/plain": [
       "<Figure size 504x360 with 2 Axes>"
      ]
     },
     "metadata": {},
     "output_type": "display_data"
    }
   ],
   "source": [
    "plt.figure(figsize=(7,5))\n",
    "cf_matrix = pd.DataFrame((confusion_matrix(y_true, y_pred)), ('No churn', 'Churn'), ('No churn', 'Churn'))\n",
    "ax = sns.heatmap(cf_matrix, annot=True, fmt='d', cmap='Oranges', annot_kws={'size': 14})\n",
    "plt.title(\"Confusion Matrix Model Random Forest\", fontsize=15)\n",
    "plt.ylabel('True label', fontsize=14)\n",
    "plt.xlabel('Predicted label', fontsize=13)\n",
    "plt.show()"
   ]
  },
  {
   "cell_type": "markdown",
   "metadata": {},
   "source": [
    "**c. Gradient Boosting**"
   ]
  },
  {
   "cell_type": "code",
   "execution_count": 22,
   "metadata": {
    "colab": {
     "base_uri": "https://localhost:8080/"
    },
    "id": "6z09l0BbWwiM",
    "outputId": "2dcb321b-0267-4e5e-8f39-e8af35b0e320"
   },
   "outputs": [],
   "source": [
    "gbt_model = GradientBoostingClassifier(n_estimators=200, random_state=42, learning_rate = 0.2, max_depth = 2, max_features='auto')\n",
    "gbt_model = gbt_model.fit(X_train, y_train) #train data\n",
    "y_pred = gbt_model.predict(X_test) # test data\n",
    "y_true = y_test"
   ]
  },
  {
   "cell_type": "code",
   "execution_count": 23,
   "metadata": {},
   "outputs": [
    {
     "name": "stdout",
     "output_type": "stream",
     "text": [
      "Accuracy Train: 0.8281603288797533\n",
      "Accuracy Test : 0.7937649880095923\n",
      "F Score       : 0.7849037565167101\n"
     ]
    }
   ],
   "source": [
    "print(\"Accuracy Train:\", gbt_model.score(X_train,y_train))\n",
    "print(\"Accuracy Test :\", gbt_model.score(X_test,y_test))\n",
    "f1_gb = metrics.f1_score(y_true, y_pred, average='weighted')\n",
    "print(\"F Score       :\", f1_gb)"
   ]
  },
  {
   "cell_type": "code",
   "execution_count": 24,
   "metadata": {
    "colab": {
     "base_uri": "https://localhost:8080/"
    },
    "id": "47se7l9UXWPf",
    "outputId": "0ea21bef-dab1-498f-8019-baa9d9c35a86"
   },
   "outputs": [
    {
     "name": "stdout",
     "output_type": "stream",
     "text": [
      "Classification Report Gradient Boosting in Test Data :\n",
      "              precision    recall  f1-score   support\n",
      "\n",
      "           0       0.83      0.90      0.87      1539\n",
      "           1       0.64      0.50      0.56       546\n",
      "\n",
      "    accuracy                           0.79      2085\n",
      "   macro avg       0.74      0.70      0.71      2085\n",
      "weighted avg       0.78      0.79      0.78      2085\n",
      "\n"
     ]
    }
   ],
   "source": [
    "print('Classification Report Gradient Boosting in Test Data :')\n",
    "print(classification_report(y_true, y_pred))"
   ]
  },
  {
   "cell_type": "code",
   "execution_count": 25,
   "metadata": {
    "colab": {
     "base_uri": "https://localhost:8080/",
     "height": 331
    },
    "id": "8IqrAZH8XjT_",
    "outputId": "fbc597ee-2256-436f-f6c9-8ea9907326ef"
   },
   "outputs": [
    {
     "data": {
      "image/png": "[encoded data removed]",
      "text/plain": [
       "<Figure size 504x360 with 2 Axes>"
      ]
     },
     "metadata": {},
     "output_type": "display_data"
    }
   ],
   "source": [
    "plt.figure(figsize=(7,5))\n",
    "cf_matrix = pd.DataFrame((confusion_matrix(y_true, y_pred)), ('No churn', 'Churn'), ('No churn', 'Churn'))\n",
    "ax = sns.heatmap(cf_matrix, annot=True, fmt='d', cmap='Oranges', annot_kws={'size': 14})\n",
    "plt.title(\"Confusion Matrix Model Gradient Boosting\", fontsize=15)\n",
    "plt.ylabel('True label', fontsize=14)\n",
    "plt.xlabel('Predicted label', fontsize=13)\n",
    "plt.show()"
   ]
  },
  {
   "cell_type": "markdown",
   "metadata": {},
   "source": [
    "Since the dataset has imbalanced label, f1 score is the suitable metrics to evaluate the model performance.\n",
    "\n",
    "* Logistic Regression : 0.782\n",
    "* Random Forest       : 0.771\n",
    "* Gradient Boosting   : 0.785\n",
    "\n",
    "It seems the Gradient Boosting model is slightly better than the rest with f1 score of 0.785"
   ]
  }
 ],
 "metadata": {
  "colab": {
   "name": "Customer Churn Prediction",
   "provenance": []
  },
  "kernelspec": {
   "display_name": "Python 3",
   "language": "python",
   "name": "python3"
  },
  "language_info": {
   "codemirror_mode": {
    "name": "ipython",
    "version": 3
   },
   "file_extension": ".py",
   "mimetype": "text/x-python",
   "name": "python",
   "nbconvert_exporter": "python",
   "pygments_lexer": "ipython3",
   "version": "3.6.13"
  }
 },
 "nbformat": 4,
 "nbformat_minor": 1
}
