{
 "cells": [
  {
   "cell_type": "markdown",
   "metadata": {
    "id": "B9QWClgITgMa"
   },
   "source": [
    "## Data Science in Marketing - Customer Segmentation \n",
    "---\n",
    "This project aims to do the customer segmentation, by classifying customers based on the similarity of their characteristics. I'm using unsupervised machine learning techniques, which is K-prototypes, a combination of k-means and k-modes.\n"
   ]
  },
  {
   "cell_type": "code",
   "execution_count": 1,
   "metadata": {
    "id": "qmEgrIT6SCZx"
   },
   "outputs": [],
   "source": [
    "#import libraries\n",
    "import pandas as pd  \n",
    "import matplotlib.pyplot as plt  \n",
    "import seaborn as sns  \n",
    "from sklearn.preprocessing import LabelEncoder  \n",
    "from sklearn.preprocessing import StandardScaler  \n",
    "  \n",
    "from kmodes.kmodes import KModes\n",
    "from kmodes.kprototypes import KPrototypes  "
   ]
  },
  {
   "cell_type": "code",
   "execution_count": 2,
   "metadata": {
    "colab": {
     "base_uri": "https://localhost:8080/"
    },
    "id": "-MHNTm-aTep3",
    "outputId": "db322752-103d-4a00-e577-6e692271163b"
   },
   "outputs": [
    {
     "data": {
      "text/html": [
       "<div>\n",
       "<style scoped>\n",
       "    .dataframe tbody tr th:only-of-type {\n",
       "        vertical-align: middle;\n",
       "    }\n",
       "\n",
       "    .dataframe tbody tr th {\n",
       "        vertical-align: top;\n",
       "    }\n",
       "\n",
       "    .dataframe thead th {\n",
       "        text-align: right;\n",
       "    }\n",
       "</style>\n",
       "<table border=\"1\" class=\"dataframe\">\n",
       "  <thead>\n",
       "    <tr style=\"text-align: right;\">\n",
       "      <th></th>\n",
       "      <th>Customer_ID</th>\n",
       "      <th>Nama Pelanggan</th>\n",
       "      <th>Jenis Kelamin</th>\n",
       "      <th>Umur</th>\n",
       "      <th>Profesi</th>\n",
       "      <th>Tipe Residen</th>\n",
       "      <th>NilaiBelanjaSetahun</th>\n",
       "    </tr>\n",
       "  </thead>\n",
       "  <tbody>\n",
       "    <tr>\n",
       "      <th>0</th>\n",
       "      <td>CUST-001</td>\n",
       "      <td>Budi Anggara</td>\n",
       "      <td>Pria</td>\n",
       "      <td>58</td>\n",
       "      <td>Wiraswasta</td>\n",
       "      <td>Sector</td>\n",
       "      <td>9497927</td>\n",
       "    </tr>\n",
       "    <tr>\n",
       "      <th>1</th>\n",
       "      <td>CUST-002</td>\n",
       "      <td>Shirley Ratuwati</td>\n",
       "      <td>Wanita</td>\n",
       "      <td>14</td>\n",
       "      <td>Pelajar</td>\n",
       "      <td>Cluster</td>\n",
       "      <td>2722700</td>\n",
       "    </tr>\n",
       "    <tr>\n",
       "      <th>2</th>\n",
       "      <td>CUST-003</td>\n",
       "      <td>Agus Cahyono</td>\n",
       "      <td>Pria</td>\n",
       "      <td>48</td>\n",
       "      <td>Professional</td>\n",
       "      <td>Cluster</td>\n",
       "      <td>5286429</td>\n",
       "    </tr>\n",
       "    <tr>\n",
       "      <th>3</th>\n",
       "      <td>CUST-004</td>\n",
       "      <td>Antonius Winarta</td>\n",
       "      <td>Pria</td>\n",
       "      <td>53</td>\n",
       "      <td>Professional</td>\n",
       "      <td>Cluster</td>\n",
       "      <td>5204498</td>\n",
       "    </tr>\n",
       "    <tr>\n",
       "      <th>4</th>\n",
       "      <td>CUST-005</td>\n",
       "      <td>Ibu Sri Wahyuni, IR</td>\n",
       "      <td>Wanita</td>\n",
       "      <td>41</td>\n",
       "      <td>Wiraswasta</td>\n",
       "      <td>Cluster</td>\n",
       "      <td>10615206</td>\n",
       "    </tr>\n",
       "  </tbody>\n",
       "</table>\n",
       "</div>"
      ],
      "text/plain": [
       "  Customer_ID       Nama Pelanggan Jenis Kelamin  Umur       Profesi  \\\n",
       "0    CUST-001         Budi Anggara          Pria    58    Wiraswasta   \n",
       "1    CUST-002     Shirley Ratuwati        Wanita    14       Pelajar   \n",
       "2    CUST-003         Agus Cahyono          Pria    48  Professional   \n",
       "3    CUST-004     Antonius Winarta          Pria    53  Professional   \n",
       "4    CUST-005  Ibu Sri Wahyuni, IR        Wanita    41    Wiraswasta   \n",
       "\n",
       "  Tipe Residen  NilaiBelanjaSetahun  \n",
       "0       Sector              9497927  \n",
       "1      Cluster              2722700  \n",
       "2      Cluster              5286429  \n",
       "3      Cluster              5204498  \n",
       "4      Cluster             10615206  "
      ]
     },
     "execution_count": 2,
     "metadata": {},
     "output_type": "execute_result"
    }
   ],
   "source": [
    "# import dataset  \n",
    "df = pd.read_csv (\"https://storage.googleapis.com/dqlab-dataset/customer_segments.txt\", sep=\"\\t\")  \n",
    "\n",
    "df.head()"
   ]
  },
  {
   "cell_type": "code",
   "execution_count": 3,
   "metadata": {
    "colab": {
     "base_uri": "https://localhost:8080/"
    },
    "id": "uUD7LCaTVybg",
    "outputId": "16612208-6da4-4272-9f8e-af842e1f80bc"
   },
   "outputs": [
    {
     "name": "stdout",
     "output_type": "stream",
     "text": [
      "<class 'pandas.core.frame.DataFrame'>\n",
      "RangeIndex: 50 entries, 0 to 49\n",
      "Data columns (total 7 columns):\n",
      " #   Column               Non-Null Count  Dtype \n",
      "---  ------               --------------  ----- \n",
      " 0   Customer_ID          50 non-null     object\n",
      " 1   Nama Pelanggan       50 non-null     object\n",
      " 2   Jenis Kelamin        50 non-null     object\n",
      " 3   Umur                 50 non-null     int64 \n",
      " 4   Profesi              50 non-null     object\n",
      " 5   Tipe Residen         50 non-null     object\n",
      " 6   NilaiBelanjaSetahun  50 non-null     int64 \n",
      "dtypes: int64(2), object(5)\n",
      "memory usage: 2.9+ KB\n"
     ]
    }
   ],
   "source": [
    "df.info()"
   ]
  },
  {
   "cell_type": "markdown",
   "metadata": {
    "id": "UcMrogo8Wkg9"
   },
   "source": [
    "### Data Exploration"
   ]
  },
  {
   "cell_type": "code",
   "execution_count": 4,
   "metadata": {
    "id": "sQDwkkYWT6f6"
   },
   "outputs": [],
   "source": [
    "#Assign the columns\n",
    "num_col = ['Umur','NilaiBelanjaSetahun'] \n",
    "cat_col = ['Jenis Kelamin','Profesi','Tipe Residen'] "
   ]
  },
  {
   "cell_type": "code",
   "execution_count": 8,
   "metadata": {},
   "outputs": [
    {
     "name": "stderr",
     "output_type": "stream",
     "text": [
      "C:\\Users\\Hp\\anaconda3\\envs\\Python36\\lib\\site-packages\\seaborn\\distributions.py:2619: FutureWarning: `distplot` is a deprecated function and will be removed in a future version. Please adapt your code to use either `displot` (a figure-level function with similar flexibility) or `histplot` (an axes-level function for histograms).\n",
      "  warnings.warn(msg, FutureWarning)\n",
      "C:\\Users\\Hp\\anaconda3\\envs\\Python36\\lib\\site-packages\\seaborn\\distributions.py:2619: FutureWarning: `distplot` is a deprecated function and will be removed in a future version. Please adapt your code to use either `displot` (a figure-level function with similar flexibility) or `histplot` (an axes-level function for histograms).\n",
      "  warnings.warn(msg, FutureWarning)\n"
     ]
    },
    {
     "data": {
      "text/plain": [
       "<Figure size 432x288 with 0 Axes>"
      ]
     },
     "metadata": {},
     "output_type": "display_data"
    },
    {
     "data": {
      "image/png": "[encoded data removed]",
      "text/plain": [
       "<Figure size 720x720 with 4 Axes>"
      ]
     },
     "metadata": {
      "needs_background": "light"
     },
     "output_type": "display_data"
    }
   ],
   "source": [
    "plt.clf()\n",
    "  \n",
    "def obv_num(features):  \n",
    "    fig, axs = plt.subplots(2, 2, figsize=(10, 10))\n",
    "    for i, col in enumerate(features):\n",
    "        sns.boxplot(x = df[col], ax = axs[i][0], color = 'darkslateblue')\n",
    "        sns.distplot(x = df[col], ax = axs[i][1], color = 'firebrick')   \n",
    "        axs[i][0].set_title('mean = %.2f\\n median = %.2f\\n std = %.2f'%(df[col].mean(), df[col].median(), df[col].std()))\n",
    "    plt.tight_layout()\n",
    "    plt.show()  \n",
    "  \n",
    "obv_num(num_col)"
   ]
  },
  {
   "cell_type": "code",
   "execution_count": null,
   "metadata": {},
   "outputs": [],
   "source": [
    "plt.figure(figsize=(15,5))\n",
    "sns.countplot(y='Gender',data=df, order = df['Gender'].value_counts().index, palette = 'rocket')\n",
    "plt.show()"
   ]
  },
  {
   "cell_type": "code",
   "execution_count": 48,
   "metadata": {
    "colab": {
     "base_uri": "https://localhost:8080/",
     "height": 1000
    },
    "id": "N0R7jnweYY-5",
    "outputId": "d9707fac-111d-4e21-8cb9-916f1a89ffa8"
   },
   "outputs": [
    {
     "data": {
      "text/plain": [
       "<Figure size 432x288 with 0 Axes>"
      ]
     },
     "metadata": {},
     "output_type": "display_data"
    },
    {
     "data": {
      "image/png": "[encoded data removed]",
      "text/plain": [
       "<Figure size 504x720 with 3 Axes>"
      ]
     },
     "metadata": {
      "needs_background": "light"
     },
     "output_type": "display_data"
    }
   ],
   "source": [
    "plt.clf()\n",
    "\n",
    "fig, axs = plt.subplots(3,1,figsize=(7,10))\n",
    "for i, col in enumerate(cat_col):  \n",
    "    sns.countplot(x = df[col], order = df[col].value_counts().index, ax = axs[i],palette='rocket')  \n",
    "    axs[i].set_title('\\nCount Plot %s\\n'%(col), fontsize=13)  \n",
    "       \n",
    "    for p in axs[i].patches:  \n",
    "        axs[i].annotate(text = format(p.get_height(), '.0f'), xy = (p.get_x() + p.get_width() / 2., p.get_height()),  \n",
    "                        ha = 'center',  va = 'center',  xytext = (0, 10),  textcoords = 'offset points') \n",
    "          \n",
    "    sns.despine(right=True,top = True)  \n",
    "    #axs[i].axes.yaxis.set_visible(False) \n",
    "    plt.tight_layout()\n",
    "plt.show()"
   ]
  },
  {
   "cell_type": "code",
   "execution_count": 52,
   "metadata": {},
   "outputs": [
    {
     "data": {
      "text/plain": [
       "<Figure size 432x288 with 0 Axes>"
      ]
     },
     "metadata": {},
     "output_type": "display_data"
    },
    {
     "data": {
      "image/png": "[encoded data removed]",
      "text/plain": [
       "<Figure size 720x360 with 2 Axes>"
      ]
     },
     "metadata": {
      "needs_background": "light"
     },
     "output_type": "display_data"
    }
   ],
   "source": [
    "plt.clf()\n",
    "fig, axs = plt.subplots(1, 2, figsize=(10, 5))\n",
    "for i, col in enumerate(num_col):\n",
    "    sns.violinplot(x =df[col], y = 'Jenis Kelamin', data = df, ax = axs[i], palette ='coolwarm')\n",
    "    sns.swarmplot(x = df[col] , y = 'Jenis Kelamin' , data = df, ax = axs[i])\n",
    "    axs[i].set_title('Boxplot & swarmplot of {}'.format(col))\n",
    "    \n",
    "plt.tight_layout()\n",
    "plt.show()"
   ]
  },
  {
   "cell_type": "markdown",
   "metadata": {
    "id": "9yFOhc5VeYNS"
   },
   "source": [
    "### Standardize Numerical Data & Convert Categorical Data "
   ]
  },
  {
   "cell_type": "code",
   "execution_count": 54,
   "metadata": {
    "colab": {
     "base_uri": "https://localhost:8080/"
    },
    "id": "M1FJ7PCgdEE_",
    "outputId": "1ddcc61c-cd8c-4f99-c439-e5d71b0e466d"
   },
   "outputs": [],
   "source": [
    "# Standardize \n",
    "df_std = StandardScaler().fit_transform(df[num_col])  \n",
    "  \n",
    "# Dataframe\n",
    "df_std = pd.DataFrame(data=df_std, index=df.index, columns=df[num_col].columns)   "
   ]
  },
  {
   "cell_type": "code",
   "execution_count": 55,
   "metadata": {
    "colab": {
     "base_uri": "https://localhost:8080/"
    },
    "id": "KlqoLIeje_MS",
    "outputId": "ae05bb66-05dd-491c-90b4-5382297ec21f"
   },
   "outputs": [
    {
     "name": "stdout",
     "output_type": "stream",
     "text": [
      "   Jenis Kelamin  Profesi  Tipe Residen\n",
      "0              0        4             1\n",
      "1              1        2             0\n",
      "2              0        3             0\n",
      "3              0        3             0\n",
      "4              1        4             0\n"
     ]
    }
   ],
   "source": [
    "df_encode = df[cat_col].copy()\n",
    "\n",
    "# LabelEncoder for categorical data\n",
    "for col in cat_col:\n",
    "    df_encode[col] = LabelEncoder().fit_transform(df_encode[col])\n",
    "\n",
    "print(df_encode.head())"
   ]
  },
  {
   "cell_type": "code",
   "execution_count": 56,
   "metadata": {
    "colab": {
     "base_uri": "https://localhost:8080/"
    },
    "id": "EI-jlf94g24u",
    "outputId": "00e98381-2d57-4921-8b1a-b9d1014668d2"
   },
   "outputs": [
    {
     "name": "stdout",
     "output_type": "stream",
     "text": [
      "   Jenis Kelamin  Profesi  Tipe Residen      Umur  NilaiBelanjaSetahun\n",
      "0              0        4             1  1.411245             0.946763\n",
      "1              1        2             0 -1.617768            -1.695081\n",
      "2              0        3             0  0.722833            -0.695414\n",
      "3              0        3             0  1.067039            -0.727361\n",
      "4              1        4             0  0.240944             1.382421\n"
     ]
    }
   ],
   "source": [
    "df_model = df_encode.merge(df_std, left_index = True, right_index=True, how = 'left')\n",
    "print(df_model.head())"
   ]
  },
  {
   "cell_type": "markdown",
   "metadata": {
    "id": "bEm7B3aejtPq"
   },
   "source": [
    "# Clustering Using K-Prototypes"
   ]
  },
  {
   "cell_type": "code",
   "execution_count": 60,
   "metadata": {
    "colab": {
     "base_uri": "https://localhost:8080/",
     "height": 267
    },
    "id": "vgYAOO-5hriS",
    "outputId": "a903d397-dde6-4996-f981-4a69c8fc5f9b"
   },
   "outputs": [
    {
     "data": {
      "image/png": "[encoded data removed]",
      "text/plain": [
       "<Figure size 432x288 with 1 Axes>"
      ]
     },
     "metadata": {
      "needs_background": "light"
     },
     "output_type": "display_data"
    }
   ],
   "source": [
    "#perform elbow plot to determine the right number of cluster needed \n",
    "cost = {}\n",
    "for k in range(2,10):\n",
    "  kproto = KPrototypes(n_clusters = k, random_state=42)\n",
    "  kproto.fit_predict(df_model, categorical=[0,1,2])\n",
    "  cost[k]= kproto.cost_\n",
    "\n",
    "sns.pointplot(x=list(cost.keys()), y=list(cost.values()))\n",
    "plt.show()\n",
    "\n",
    "#choose k = 5 for the clusters"
   ]
  },
  {
   "cell_type": "code",
   "execution_count": 61,
   "metadata": {
    "id": "c5Z4nMDoj1nT"
   },
   "outputs": [],
   "source": [
    "kproto = KPrototypes (n_clusters = 5, random_state = 75)  \n",
    "kproto = kproto.fit(df_model, categorical=[0,1,2])  "
   ]
  },
  {
   "cell_type": "markdown",
   "metadata": {
    "id": "CzHqj1YepMyc"
   },
   "source": [
    "### Segmentation using Jenis Kelamin, Profesi, Tipe Residen, Umur, and NilaiBelanjaSetahun"
   ]
  },
  {
   "cell_type": "code",
   "execution_count": 62,
   "metadata": {
    "colab": {
     "base_uri": "https://localhost:8080/"
    },
    "id": "tiBVJgpzljsy",
    "outputId": "a9339901-dc3a-4d19-f855-94268aaa6763"
   },
   "outputs": [
    {
     "name": "stdout",
     "output_type": "stream",
     "text": [
      "Customer segments: \n",
      "[1 0 2 2 3 4 1 2 4 4 2 2 1 1 3 4 4 2 3 0 3 2 4 3 3 2 3 4 2 2 0 1 0 3 4 3 4\n",
      " 1 4 0 4 3 4 3 4 3 2 1 4 1]\n",
      "\n"
     ]
    }
   ],
   "source": [
    "#Determine the segmentation of customers\n",
    "clusters =  kproto.predict(df_model, categorical=[0,1,2])    \n",
    "print('Customer segments: \\n{}\\n'.format(clusters))    \n",
    "    \n",
    "# Combine the original data with the cluster \n",
    "df_final = df.copy()    \n",
    "df_final['cluster'] = clusters"
   ]
  },
  {
   "cell_type": "code",
   "execution_count": 63,
   "metadata": {},
   "outputs": [
    {
     "data": {
      "text/html": [
       "<div>\n",
       "<style scoped>\n",
       "    .dataframe tbody tr th:only-of-type {\n",
       "        vertical-align: middle;\n",
       "    }\n",
       "\n",
       "    .dataframe tbody tr th {\n",
       "        vertical-align: top;\n",
       "    }\n",
       "\n",
       "    .dataframe thead th {\n",
       "        text-align: right;\n",
       "    }\n",
       "</style>\n",
       "<table border=\"1\" class=\"dataframe\">\n",
       "  <thead>\n",
       "    <tr style=\"text-align: right;\">\n",
       "      <th></th>\n",
       "      <th>Customer_ID</th>\n",
       "      <th>Nama Pelanggan</th>\n",
       "      <th>Jenis Kelamin</th>\n",
       "      <th>Umur</th>\n",
       "      <th>Profesi</th>\n",
       "      <th>Tipe Residen</th>\n",
       "      <th>NilaiBelanjaSetahun</th>\n",
       "      <th>cluster</th>\n",
       "    </tr>\n",
       "  </thead>\n",
       "  <tbody>\n",
       "    <tr>\n",
       "      <th>0</th>\n",
       "      <td>CUST-001</td>\n",
       "      <td>Budi Anggara</td>\n",
       "      <td>Pria</td>\n",
       "      <td>58</td>\n",
       "      <td>Wiraswasta</td>\n",
       "      <td>Sector</td>\n",
       "      <td>9497927</td>\n",
       "      <td>1</td>\n",
       "    </tr>\n",
       "    <tr>\n",
       "      <th>1</th>\n",
       "      <td>CUST-002</td>\n",
       "      <td>Shirley Ratuwati</td>\n",
       "      <td>Wanita</td>\n",
       "      <td>14</td>\n",
       "      <td>Pelajar</td>\n",
       "      <td>Cluster</td>\n",
       "      <td>2722700</td>\n",
       "      <td>0</td>\n",
       "    </tr>\n",
       "    <tr>\n",
       "      <th>2</th>\n",
       "      <td>CUST-003</td>\n",
       "      <td>Agus Cahyono</td>\n",
       "      <td>Pria</td>\n",
       "      <td>48</td>\n",
       "      <td>Professional</td>\n",
       "      <td>Cluster</td>\n",
       "      <td>5286429</td>\n",
       "      <td>2</td>\n",
       "    </tr>\n",
       "    <tr>\n",
       "      <th>3</th>\n",
       "      <td>CUST-004</td>\n",
       "      <td>Antonius Winarta</td>\n",
       "      <td>Pria</td>\n",
       "      <td>53</td>\n",
       "      <td>Professional</td>\n",
       "      <td>Cluster</td>\n",
       "      <td>5204498</td>\n",
       "      <td>2</td>\n",
       "    </tr>\n",
       "    <tr>\n",
       "      <th>4</th>\n",
       "      <td>CUST-005</td>\n",
       "      <td>Ibu Sri Wahyuni, IR</td>\n",
       "      <td>Wanita</td>\n",
       "      <td>41</td>\n",
       "      <td>Wiraswasta</td>\n",
       "      <td>Cluster</td>\n",
       "      <td>10615206</td>\n",
       "      <td>3</td>\n",
       "    </tr>\n",
       "  </tbody>\n",
       "</table>\n",
       "</div>"
      ],
      "text/plain": [
       "  Customer_ID       Nama Pelanggan Jenis Kelamin  Umur       Profesi  \\\n",
       "0    CUST-001         Budi Anggara          Pria    58    Wiraswasta   \n",
       "1    CUST-002     Shirley Ratuwati        Wanita    14       Pelajar   \n",
       "2    CUST-003         Agus Cahyono          Pria    48  Professional   \n",
       "3    CUST-004     Antonius Winarta          Pria    53  Professional   \n",
       "4    CUST-005  Ibu Sri Wahyuni, IR        Wanita    41    Wiraswasta   \n",
       "\n",
       "  Tipe Residen  NilaiBelanjaSetahun  cluster  \n",
       "0       Sector              9497927        1  \n",
       "1      Cluster              2722700        0  \n",
       "2      Cluster              5286429        2  \n",
       "3      Cluster              5204498        2  \n",
       "4      Cluster             10615206        3  "
      ]
     },
     "execution_count": 63,
     "metadata": {},
     "output_type": "execute_result"
    }
   ],
   "source": [
    "df_final.head()"
   ]
  },
  {
   "cell_type": "code",
   "execution_count": 64,
   "metadata": {
    "colab": {
     "base_uri": "https://localhost:8080/"
    },
    "id": "_YauW1nZoGVw",
    "outputId": "63d82d21-dc0d-4ace-f62a-0c07acfbb8c8"
   },
   "outputs": [
    {
     "name": "stdout",
     "output_type": "stream",
     "text": [
      "\n",
      "Customer in cluster: 0\n",
      "   Customer_ID    Nama Pelanggan Jenis Kelamin  Umur    Profesi Tipe Residen  \\\n",
      "1     CUST-002  Shirley Ratuwati        Wanita    14    Pelajar      Cluster   \n",
      "19    CUST-020    Irene Novianto        Wanita    16    Pelajar       Sector   \n",
      "30    CUST-031     Eviana Handry        Wanita    19  Mahasiswa      Cluster   \n",
      "32    CUST-033   Cecilia Kusnadi        Wanita    19  Mahasiswa      Cluster   \n",
      "39    CUST-040    Irene Darmawan        Wanita    14    Pelajar       Sector   \n",
      "\n",
      "    NilaiBelanjaSetahun  cluster  \n",
      "1               2722700        0  \n",
      "19              2896845        0  \n",
      "30              3042773        0  \n",
      "32              3047926        0  \n",
      "39              2861855        0  \n",
      "\n",
      "Customer in cluster: 1\n",
      "   Customer_ID    Nama Pelanggan Jenis Kelamin  Umur     Profesi Tipe Residen  \\\n",
      "0     CUST-001      Budi Anggara          Pria    58  Wiraswasta       Sector   \n",
      "6     CUST-007     Cahyono, Agus          Pria    64  Wiraswasta       Sector   \n",
      "12    CUST-013      Cahaya Putri        Wanita    64  Wiraswasta      Cluster   \n",
      "13    CUST-014    Mario Setiawan          Pria    60  Wiraswasta      Cluster   \n",
      "31    CUST-032   Chintya Winarni        Wanita    47  Wiraswasta       Sector   \n",
      "37    CUST-038      Agatha Salim        Wanita    46  Wiraswasta       Sector   \n",
      "47    CUST-048  Maria Hutagalung        Wanita    45  Wiraswasta       Sector   \n",
      "49    CUST-050    Lianna Nugraha        Wanita    55  Wiraswasta       Sector   \n",
      "\n",
      "    NilaiBelanjaSetahun  cluster  \n",
      "0               9497927        1  \n",
      "6               9837260        1  \n",
      "12              9333168        1  \n",
      "13              9471615        1  \n",
      "31             10663179        1  \n",
      "37             10477127        1  \n",
      "47             10390732        1  \n",
      "49             10569316        1  \n",
      "\n",
      "Customer in cluster: 2\n",
      "   Customer_ID     Nama Pelanggan Jenis Kelamin  Umur           Profesi  \\\n",
      "2     CUST-003       Agus Cahyono          Pria    48      Professional   \n",
      "3     CUST-004   Antonius Winarta          Pria    53      Professional   \n",
      "7     CUST-008     Danang Santosa          Pria    52      Professional   \n",
      "10    CUST-011     Maria Suryawan        Wanita    50      Professional   \n",
      "11    CUST-012    Erliana Widjaja        Wanita    49      Professional   \n",
      "17    CUST-018        Nelly Halim        Wanita    63  Ibu Rumah Tangga   \n",
      "21    CUST-022       Novita Purba        Wanita    52      Professional   \n",
      "25    CUST-026  Christine Winarto        Wanita    55      Professional   \n",
      "28    CUST-029       Tia Hartanti        Wanita    56      Professional   \n",
      "29    CUST-030     Rosita Saragih        Wanita    46  Ibu Rumah Tangga   \n",
      "46    CUST-047        Mira Kurnia        Wanita    55  Ibu Rumah Tangga   \n",
      "\n",
      "   Tipe Residen  NilaiBelanjaSetahun  cluster  \n",
      "2       Cluster              5286429        2  \n",
      "3       Cluster              5204498        2  \n",
      "7       Cluster              5223569        2  \n",
      "10       Sector              5987367        2  \n",
      "11       Sector              5941914        2  \n",
      "17      Cluster              5340690        2  \n",
      "21      Cluster              5298157        2  \n",
      "25      Cluster              5269392        2  \n",
      "28      Cluster              5271845        2  \n",
      "29       Sector              5020976        2  \n",
      "46      Cluster              6130724        2  \n",
      "\n",
      "Customer in cluster: 3\n",
      "   Customer_ID       Nama Pelanggan Jenis Kelamin  Umur     Profesi  \\\n",
      "4     CUST-005  Ibu Sri Wahyuni, IR        Wanita    41  Wiraswasta   \n",
      "14    CUST-015     Shirley Ratuwati        Wanita    20  Wiraswasta   \n",
      "18    CUST-019         Mega Pranoto        Wanita    32  Wiraswasta   \n",
      "20    CUST-021     Lestari Fabianto        Wanita    38  Wiraswasta   \n",
      "23    CUST-024        Putri Ginting        Wanita    39  Wiraswasta   \n",
      "24    CUST-025       Julia Setiawan        Wanita    29  Wiraswasta   \n",
      "26    CUST-027        Grace Mulyati        Wanita    35  Wiraswasta   \n",
      "33    CUST-034       Deasy Arisandi        Wanita    21  Wiraswasta   \n",
      "35    CUST-036       Ni Made Suasti        Wanita    30  Wiraswasta   \n",
      "41    CUST-042         Yuliana Wati        Wanita    26  Wiraswasta   \n",
      "43    CUST-044                 Anna        Wanita    18  Wiraswasta   \n",
      "45    CUST-046         Elfira Surya        Wanita    25  Wiraswasta   \n",
      "\n",
      "   Tipe Residen  NilaiBelanjaSetahun  cluster  \n",
      "4       Cluster             10615206        3  \n",
      "14      Cluster             10365668        3  \n",
      "18      Cluster             10884508        3  \n",
      "20      Cluster              9222070        3  \n",
      "23      Cluster             10259572        3  \n",
      "24       Sector             10721998        3  \n",
      "26      Cluster              9114159        3  \n",
      "33       Sector              9759822        3  \n",
      "35      Cluster              9678994        3  \n",
      "41      Cluster              9880607        3  \n",
      "43      Cluster              9339737        3  \n",
      "45       Sector             10099807        3  \n",
      "\n",
      "Customer in cluster: 4\n",
      "   Customer_ID         Nama Pelanggan Jenis Kelamin  Umur           Profesi  \\\n",
      "5     CUST-006        Rosalina Kurnia        Wanita    24      Professional   \n",
      "8     CUST-009  Elisabeth Suryadinata        Wanita    29      Professional   \n",
      "9     CUST-010         Mario Setiawan          Pria    33      Professional   \n",
      "15    CUST-016           Bambang Rudi          Pria    35      Professional   \n",
      "16    CUST-017              Yuni Sari        Wanita    32  Ibu Rumah Tangga   \n",
      "22    CUST-023        Denny Amiruddin          Pria    34      Professional   \n",
      "27    CUST-028          Adeline Huang        Wanita    40  Ibu Rumah Tangga   \n",
      "34    CUST-035                Ida Ayu        Wanita    39      Professional   \n",
      "36    CUST-037       Felicia Tandiono        Wanita    25      Professional   \n",
      "38    CUST-039           Gina Hidayat        Wanita    20      Professional   \n",
      "40    CUST-041       Shinta Aritonang        Wanita    24  Ibu Rumah Tangga   \n",
      "42    CUST-043           Yenna Sumadi        Wanita    31      Professional   \n",
      "44    CUST-045         Rismawati Juni        Wanita    22      Professional   \n",
      "48    CUST-049        Josephine Wahab        Wanita    33  Ibu Rumah Tangga   \n",
      "\n",
      "   Tipe Residen  NilaiBelanjaSetahun  cluster  \n",
      "5       Cluster              5215541        4  \n",
      "8        Sector              5993218        4  \n",
      "9       Cluster              5257448        4  \n",
      "15      Cluster              5262521        4  \n",
      "16      Cluster              5677762        4  \n",
      "22      Cluster              5239290        4  \n",
      "27      Cluster              6631680        4  \n",
      "34       Sector              5962575        4  \n",
      "36       Sector              5972787        4  \n",
      "38      Cluster              5257775        4  \n",
      "40      Cluster              6820976        4  \n",
      "42      Cluster              5268410        4  \n",
      "44      Cluster              5211041        4  \n",
      "48       Sector              4992585        4  \n"
     ]
    }
   ],
   "source": [
    "#Show the data in each clusters\n",
    "for i in range (0,5):  \n",
    "    print('\\nCustomer in cluster: {}'.format(i))  \n",
    "    print(df_final[df_final['cluster']==i])"
   ]
  },
  {
   "cell_type": "code",
   "execution_count": 65,
   "metadata": {
    "colab": {
     "base_uri": "https://localhost:8080/",
     "height": 644
    },
    "id": "xqme6aDBoPxP",
    "outputId": "855f8739-7a18-40ce-e022-3f5fdbf27f8f"
   },
   "outputs": [
    {
     "data": {
      "image/png": "[encoded data removed]",
      "text/plain": [
       "<Figure size 432x288 with 1 Axes>"
      ]
     },
     "metadata": {
      "needs_background": "light"
     },
     "output_type": "display_data"
    },
    {
     "data": {
      "image/png": "[encoded data removed]",
      "text/plain": [
       "<Figure size 432x288 with 1 Axes>"
      ]
     },
     "metadata": {
      "needs_background": "light"
     },
     "output_type": "display_data"
    }
   ],
   "source": [
    "for i in num_col:\n",
    "    plt.figure(figsize=(6,4))\n",
    "    ax = sns.boxplot(x = 'cluster',y = i, data = df_final, palette ='rocket')\n",
    "    plt.title('\\nBox Plot {}\\n'.format(i), fontsize=12)\n",
    "    plt.show()"
   ]
  },
  {
   "cell_type": "code",
   "execution_count": 66,
   "metadata": {
    "colab": {
     "base_uri": "https://localhost:8080/",
     "height": 958
    },
    "id": "WvhQEBziqPMd",
    "outputId": "3dc89139-34f7-4334-a76f-20ea7be668ec"
   },
   "outputs": [
    {
     "data": {
      "image/png": "[encoded data removed]",
      "text/plain": [
       "<Figure size 432x288 with 1 Axes>"
      ]
     },
     "metadata": {
      "needs_background": "light"
     },
     "output_type": "display_data"
    },
    {
     "data": {
      "image/png": "[encoded data removed]",
      "text/plain": [
       "<Figure size 432x288 with 1 Axes>"
      ]
     },
     "metadata": {
      "needs_background": "light"
     },
     "output_type": "display_data"
    },
    {
     "data": {
      "image/png": "[encoded data removed]",
      "text/plain": [
       "<Figure size 432x288 with 1 Axes>"
      ]
     },
     "metadata": {
      "needs_background": "light"
     },
     "output_type": "display_data"
    }
   ],
   "source": [
    "for i in cat_col:\n",
    "    plt.figure(figsize=(6,4))\n",
    "    ax = sns.countplot(data = df_final, x = 'cluster', hue = i, palette = 'rocket' )\n",
    "    plt.title('\\nCount Plot {}\\n'.format(i), fontsize=12)\n",
    "    ax.legend(loc=\"upper center\")\n",
    "for p in ax.patches:\n",
    "    ax.annotate(format(p.get_height(), '.0f'),\n",
    "    (p.get_x() + p.get_width() / 2., p.get_height()),\n",
    "    ha = 'center',\n",
    "    va = 'center',\n",
    "    xytext = (0, 10),\n",
    "    textcoords = 'offset points')\n",
    "\n",
    "sns.despine(right=True,top = True, left = True)\n",
    "ax.axes.yaxis.set_visible(False)\n",
    "plt.show()"
   ]
  },
  {
   "cell_type": "code",
   "execution_count": 67,
   "metadata": {
    "colab": {
     "base_uri": "https://localhost:8080/"
    },
    "id": "YmDOcG31rGSg",
    "outputId": "e00caaac-0c74-4352-ced1-82d59fb95555"
   },
   "outputs": [
    {
     "name": "stdout",
     "output_type": "stream",
     "text": [
      "First 5 data with segment column :\n",
      "   Customer_ID       Nama Pelanggan Jenis Kelamin  Umur       Profesi  \\\n",
      "0    CUST-001         Budi Anggara          Pria    58    Wiraswasta   \n",
      "1    CUST-002     Shirley Ratuwati        Wanita    14       Pelajar   \n",
      "2    CUST-003         Agus Cahyono          Pria    48  Professional   \n",
      "3    CUST-004     Antonius Winarta          Pria    53  Professional   \n",
      "4    CUST-005  Ibu Sri Wahyuni, IR        Wanita    41    Wiraswasta   \n",
      "\n",
      "  Tipe Residen  NilaiBelanjaSetahun  cluster                segment  \n",
      "0       Sector              9497927        1  Diamond Senior Member  \n",
      "1      Cluster              2722700        0   Diamond Young Member  \n",
      "2      Cluster              5286429        2          Silver Member  \n",
      "3      Cluster              5204498        2          Silver Member  \n",
      "4      Cluster             10615206        3      Gold Young Member  \n"
     ]
    }
   ],
   "source": [
    "#Mapping column-names\n",
    "df_final['segment'] = df_final['cluster'].map({  \n",
    "    0: 'Diamond Young Member',  \n",
    "    1: 'Diamond Senior Member',  \n",
    "    2: 'Silver Member',  \n",
    "    3: 'Gold Young Member',  \n",
    "    4: 'Gold Senior Member'  \n",
    "})  \n",
    "\n",
    "print(\"First 5 data with segment column :\\n\",df_final.head())  "
   ]
  },
  {
   "cell_type": "code",
   "execution_count": 68,
   "metadata": {
    "colab": {
     "base_uri": "https://localhost:8080/"
    },
    "id": "Ir8L9H2CqglW",
    "outputId": "6f37e66d-2e81-4723-8169-10f0f52af93a"
   },
   "outputs": [
    {
     "name": "stdout",
     "output_type": "stream",
     "text": [
      "<class 'pandas.core.frame.DataFrame'>\n",
      "RangeIndex: 50 entries, 0 to 49\n",
      "Data columns (total 9 columns):\n",
      " #   Column               Non-Null Count  Dtype \n",
      "---  ------               --------------  ----- \n",
      " 0   Customer_ID          50 non-null     object\n",
      " 1   Nama Pelanggan       50 non-null     object\n",
      " 2   Jenis Kelamin        50 non-null     object\n",
      " 3   Umur                 50 non-null     int64 \n",
      " 4   Profesi              50 non-null     object\n",
      " 5   Tipe Residen         50 non-null     object\n",
      " 6   NilaiBelanjaSetahun  50 non-null     int64 \n",
      " 7   cluster              50 non-null     uint16\n",
      " 8   segment              50 non-null     object\n",
      "dtypes: int64(2), object(6), uint16(1)\n",
      "memory usage: 3.3+ KB\n"
     ]
    }
   ],
   "source": [
    "df_final.info()"
   ]
  },
  {
   "cell_type": "markdown",
   "metadata": {
    "id": "5PbJ_69YJpsu"
   },
   "source": [
    "### Segmentation Results Explanation\n",
    "* **Cluster 0**: Diamond Young Member, filled with entrepreneurs (18 - 41 years, avg age of 29 years) with average transaction value close to 10 million.\n",
    "* **Cluster 1**: Diamond Senior Member,filled with entrepreneurs (45 - 64 years, avg age of 55 years) with average transaction value close to 10 million.\n",
    "* **Cluster 2**: Silver Students, filled with students (avg age of 16 years) with average transaction value close to 3 million.\n",
    "* **Cluster 3**: Gold Young Member, filled with professionals and housewives (20 - 40 years, avg age of 30 years) with average transaction value close to 6 million.\n",
    "* **Cluster 4**: Gold Senior Member, filled with professionals and housewives (46 - 63 years, avg age of 53 years) with average transaction value close to 6 million."
   ]
  },
  {
   "cell_type": "markdown",
   "metadata": {
    "id": "gN1pcdH0KDVn"
   },
   "source": [
    "### Testing the segmentation model"
   ]
  },
  {
   "cell_type": "code",
   "execution_count": 36,
   "metadata": {
    "colab": {
     "base_uri": "https://localhost:8080/"
    },
    "id": "D61nmzokJAyp",
    "outputId": "73f73a2d-f538-4df1-d5ac-bf322097b0d1"
   },
   "outputs": [
    {
     "name": "stdout",
     "output_type": "stream",
     "text": [
      "  Customer_ID Nama Pelanggan  ... Tipe Residen  NilaiBelanjaSetahun\n",
      "0    CUST-100           Joko  ...      Cluster              8230000\n",
      "1    CUST-101     Putri Arta  ...      Cluster              4500000\n",
      "\n",
      "[2 rows x 7 columns]\n"
     ]
    }
   ],
   "source": [
    "# New Data\n",
    "data = [{  \n",
    "    'Customer_ID': 'CUST-100' ,  \n",
    "    'Nama Pelanggan': 'Joko' ,  \n",
    "    'Jenis Kelamin': 'Pria',  \n",
    "    'Umur': 45,  \n",
    "    'Profesi': 'Wiraswasta',  \n",
    "    'Tipe Residen': 'Cluster' ,  \n",
    "    'NilaiBelanjaSetahun': 8230000},\n",
    "    {\n",
    "    'Customer_ID': 'CUST-101' ,  \n",
    "    'Nama Pelanggan': 'Putri Arta' ,  \n",
    "    'Jenis Kelamin': 'Wanita',  \n",
    "    'Umur': 22,  \n",
    "    'Profesi': 'Professional',  \n",
    "    'Tipe Residen': 'Cluster' ,  \n",
    "    'NilaiBelanjaSetahun': 4500000}\n",
    "    ]  \n",
    "   \n",
    "new_df = pd.DataFrame(data)  \n",
    "\n",
    "print(new_df)  "
   ]
  },
  {
   "cell_type": "code",
   "execution_count": 37,
   "metadata": {
    "colab": {
     "base_uri": "https://localhost:8080/"
    },
    "id": "bThvogrWMZ6L",
    "outputId": "e17b05c5-7129-4eac-e7d0-d19e318cf28b"
   },
   "outputs": [
    {
     "name": "stdout",
     "output_type": "stream",
     "text": [
      "   Jenis Kelamin  Profesi  Tipe Residen      Umur  NilaiBelanjaSetahun\n",
      "0              0        4             0  0.510204             0.447818\n",
      "1              1        3             0 -1.054422            -0.991993\n"
     ]
    }
   ],
   "source": [
    "def data_preprocess(data):\n",
    "    #Categorical data\n",
    "    df_encode = data[cat_col].copy()\n",
    "\n",
    "    #Jenis Kelamin\n",
    "    df_encode['Jenis Kelamin'] = df_encode['Jenis Kelamin'].map({\n",
    "    'Pria': 0,\n",
    "    'Wanita' : 1\n",
    "    })\n",
    "\n",
    "    ## Profesi\n",
    "    df_encode['Profesi'] = df_encode['Profesi'].map({\n",
    "    'Ibu Rumah Tangga': 0,\n",
    "    'Mahasiswa' : 1,\n",
    "    'Pelajar': 2,\n",
    "    'Professional': 3,\n",
    "    'Wiraswasta': 4\n",
    "    })\n",
    "\n",
    "    ## Tipe Residen\n",
    "    df_encode['Tipe Residen'] = df_encode['Tipe Residen'].map({\n",
    "    'Cluster': 0,\n",
    "    'Sector' : 1\n",
    "    })\n",
    "\n",
    "    #Numeric data\n",
    "    df_std = data[num_col].copy()\n",
    "\n",
    "    ## Standardize Umur\n",
    "    df_std['Umur'] = (df_std['Umur'] - 37.5)/14.7\n",
    "\n",
    "    ## Standardize Nilai Belanja Setahun\n",
    "    df_std['NilaiBelanjaSetahun'] = (df_std['NilaiBelanjaSetahun'] - 7069874.8)/2590619.0\n",
    "\n",
    "    # Combine categorical and numerical df\n",
    "    df_model = df_encode.merge(df_std, left_index = True,\n",
    "    right_index=True, how = 'left')\n",
    "\n",
    "    return df_model\n",
    "\n",
    "new_df_model = data_preprocess(new_df)\n",
    "\n",
    "print(new_df_model)"
   ]
  },
  {
   "cell_type": "code",
   "execution_count": 40,
   "metadata": {
    "colab": {
     "base_uri": "https://localhost:8080/"
    },
    "id": "x-vtOM06OboE",
    "outputId": "b3365e83-bf9d-4ae8-82fb-bb8ea255db3b"
   },
   "outputs": [
    {
     "name": "stdout",
     "output_type": "stream",
     "text": [
      "Clusters for new dataframe [1 4]\n"
     ]
    }
   ],
   "source": [
    "def modeling (data):\n",
    "    clusters = kproto.predict(data,categorical=[0,1,2])\n",
    "    return clusters\n",
    "\n",
    "clusters = modeling(new_df_model)\n",
    "\n",
    "print(\"Clusters for new dataframe\", clusters)"
   ]
  },
  {
   "cell_type": "code",
   "execution_count": 41,
   "metadata": {
    "colab": {
     "base_uri": "https://localhost:8080/"
    },
    "id": "dXZcyoS-O-ui",
    "outputId": "a308dbc6-ffd7-4455-a06a-c32f8850d741"
   },
   "outputs": [
    {
     "name": "stdout",
     "output_type": "stream",
     "text": [
      "New data results tested with segmentation model: \n",
      "   Customer_ID Nama Pelanggan  ... cluster                 segmen\n",
      "0    CUST-100           Joko  ...       1  Diamond Senior Member\n",
      "1    CUST-101     Putri Arta  ...       4     Gold Senior Member\n",
      "\n",
      "[2 rows x 9 columns]\n"
     ]
    }
   ],
   "source": [
    "def name_segment (data, clusters):\n",
    "    final_df = data.copy()\n",
    "    final_df['cluster'] = clusters\n",
    "\n",
    "    # Naming the segments\n",
    "    final_df['segmen'] = final_df['cluster'].map({\n",
    "    0: 'Diamond Young Member',\n",
    "    1: 'Diamond Senior Member',\n",
    "    2: 'Silver Students',\n",
    "    3: 'Gold Young Member',\n",
    "    4: 'Gold Senior Member'\n",
    "    })\n",
    "    return final_df\n",
    "\n",
    "new_final_df = name_segment(new_df,clusters)\n",
    "\n",
    "print(\"New data results tested with segmentation model: \\n\", new_final_df)"
   ]
  },
  {
   "cell_type": "markdown",
   "metadata": {
    "id": "I-RlsJJvUuO3"
   },
   "source": [
    "* Customer Joko assigned to cluster 1, the diamond senior member\n",
    "* Customer Putri Arta assigned to cluster 4, the gold senior member"
   ]
  }
 ],
 "metadata": {
  "colab": {
   "collapsed_sections": [],
   "name": "Customer Segmentation - Marketing",
   "provenance": []
  },
  "kernelspec": {
   "display_name": "Python 3",
   "language": "python",
   "name": "python3"
  },
  "language_info": {
   "codemirror_mode": {
    "name": "ipython",
    "version": 3
   },
   "file_extension": ".py",
   "mimetype": "text/x-python",
   "name": "python",
   "nbconvert_exporter": "python",
   "pygments_lexer": "ipython3",
   "version": "3.6.13"
  }
 },
 "nbformat": 4,
 "nbformat_minor": 1
}
