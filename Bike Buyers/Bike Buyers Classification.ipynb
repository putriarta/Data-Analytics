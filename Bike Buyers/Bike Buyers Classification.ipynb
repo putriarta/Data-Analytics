{
  "nbformat": 4,
  "nbformat_minor": 0,
  "metadata": {
    "colab": {
      "name": "UAS Big Data 2 - Bike Buyers",
      "provenance": [],
      "collapsed_sections": []
    },
    "kernelspec": {
      "name": "python3",
      "display_name": "Python 3"
    },
    "language_info": {
      "name": "python"
    }
  },
  "cells": [
    {
      "cell_type": "markdown",
      "metadata": {
        "id": "TaYb4X7zxZ-A"
      },
      "source": [
        "Putri Arta Aritonang - UAS Big Data\n",
        "1. random forest\n",
        "2. naive bayes\n",
        "3. neural network"
      ]
    },
    {
      "cell_type": "code",
      "metadata": {
        "colab": {
          "base_uri": "https://localhost:8080/"
        },
        "id": "b2JnW91JuID5",
        "outputId": "22c8dc87-7aee-4d00-f6b8-21b31d882e69"
      },
      "source": [
        "from google.colab import drive\n",
        "drive.mount('/gdrive')\n",
        "%cd /gdrive"
      ],
      "execution_count": 37,
      "outputs": [
        {
          "output_type": "stream",
          "text": [
            "Drive already mounted at /gdrive; to attempt to forcibly remount, call drive.mount(\"/gdrive\", force_remount=True).\n",
            "/gdrive\n"
          ],
          "name": "stdout"
        }
      ]
    },
    {
      "cell_type": "code",
      "metadata": {
        "colab": {
          "base_uri": "https://localhost:8080/"
        },
        "id": "K5Ce1OIruLIq",
        "outputId": "faaf5855-7437-47bd-cf3d-47951f8cfeb7"
      },
      "source": [
        "%cd \"My Drive/\""
      ],
      "execution_count": 38,
      "outputs": [
        {
          "output_type": "stream",
          "text": [
            "/gdrive/My Drive\n"
          ],
          "name": "stdout"
        }
      ]
    },
    {
      "cell_type": "code",
      "metadata": {
        "id": "SjeHmayNug8g"
      },
      "source": [
        "import pandas as pd\n",
        "import matplotlib.pyplot as plt\n",
        "import seaborn as sns"
      ],
      "execution_count": 39,
      "outputs": []
    },
    {
      "cell_type": "markdown",
      "metadata": {
        "id": "15KiwvZGeQY8"
      },
      "source": [
        ""
      ]
    },
    {
      "cell_type": "markdown",
      "metadata": {
        "id": "pVT0u4EVobW5"
      },
      "source": [
        "1. Pengambilan Data"
      ]
    },
    {
      "cell_type": "code",
      "metadata": {
        "id": "mVKOT7mOuyA8"
      },
      "source": [
        "df = pd.read_csv('bike_buyers_clean.csv')"
      ],
      "execution_count": 40,
      "outputs": []
    },
    {
      "cell_type": "markdown",
      "metadata": {
        "id": "vHW26bhFoThT"
      },
      "source": [
        "2. Data Eksplorasi"
      ]
    },
    {
      "cell_type": "code",
      "metadata": {
        "colab": {
          "base_uri": "https://localhost:8080/"
        },
        "id": "WGjL8PEQodav",
        "outputId": "5f970add-5769-471f-c53c-c8ee0f72f948"
      },
      "source": [
        "df.info()"
      ],
      "execution_count": 41,
      "outputs": [
        {
          "output_type": "stream",
          "text": [
            "<class 'pandas.core.frame.DataFrame'>\n",
            "RangeIndex: 1000 entries, 0 to 999\n",
            "Data columns (total 13 columns):\n",
            " #   Column            Non-Null Count  Dtype \n",
            "---  ------            --------------  ----- \n",
            " 0   ID                1000 non-null   int64 \n",
            " 1   Marital Status    1000 non-null   object\n",
            " 2   Gender            1000 non-null   object\n",
            " 3   Income            1000 non-null   int64 \n",
            " 4   Children          1000 non-null   int64 \n",
            " 5   Education         1000 non-null   object\n",
            " 6   Occupation        1000 non-null   object\n",
            " 7   Home Owner        1000 non-null   object\n",
            " 8   Cars              1000 non-null   int64 \n",
            " 9   Commute Distance  1000 non-null   object\n",
            " 10  Region            1000 non-null   object\n",
            " 11  Age               1000 non-null   int64 \n",
            " 12  Purchased Bike    1000 non-null   object\n",
            "dtypes: int64(5), object(8)\n",
            "memory usage: 101.7+ KB\n"
          ],
          "name": "stdout"
        }
      ]
    },
    {
      "cell_type": "code",
      "metadata": {
        "colab": {
          "base_uri": "https://localhost:8080/",
          "height": 290
        },
        "id": "YfCFo9ZfogIw",
        "outputId": "b1a3119a-3c31-4859-982f-07ddec19f5a6"
      },
      "source": [
        "df.describe()"
      ],
      "execution_count": 42,
      "outputs": [
        {
          "output_type": "execute_result",
          "data": {
            "text/html": [
              "<div>\n",
              "<style scoped>\n",
              "    .dataframe tbody tr th:only-of-type {\n",
              "        vertical-align: middle;\n",
              "    }\n",
              "\n",
              "    .dataframe tbody tr th {\n",
              "        vertical-align: top;\n",
              "    }\n",
              "\n",
              "    .dataframe thead th {\n",
              "        text-align: right;\n",
              "    }\n",
              "</style>\n",
              "<table border=\"1\" class=\"dataframe\">\n",
              "  <thead>\n",
              "    <tr style=\"text-align: right;\">\n",
              "      <th></th>\n",
              "      <th>ID</th>\n",
              "      <th>Income</th>\n",
              "      <th>Children</th>\n",
              "      <th>Cars</th>\n",
              "      <th>Age</th>\n",
              "    </tr>\n",
              "  </thead>\n",
              "  <tbody>\n",
              "    <tr>\n",
              "      <th>count</th>\n",
              "      <td>1000.000000</td>\n",
              "      <td>1000.000000</td>\n",
              "      <td>1000.000000</td>\n",
              "      <td>1000.000000</td>\n",
              "      <td>1000.000000</td>\n",
              "    </tr>\n",
              "    <tr>\n",
              "      <th>mean</th>\n",
              "      <td>19965.992000</td>\n",
              "      <td>56140.000000</td>\n",
              "      <td>1.908000</td>\n",
              "      <td>1.452000</td>\n",
              "      <td>44.190000</td>\n",
              "    </tr>\n",
              "    <tr>\n",
              "      <th>std</th>\n",
              "      <td>5347.333948</td>\n",
              "      <td>31081.609779</td>\n",
              "      <td>1.626094</td>\n",
              "      <td>1.124705</td>\n",
              "      <td>11.353537</td>\n",
              "    </tr>\n",
              "    <tr>\n",
              "      <th>min</th>\n",
              "      <td>11000.000000</td>\n",
              "      <td>10000.000000</td>\n",
              "      <td>0.000000</td>\n",
              "      <td>0.000000</td>\n",
              "      <td>25.000000</td>\n",
              "    </tr>\n",
              "    <tr>\n",
              "      <th>25%</th>\n",
              "      <td>15290.750000</td>\n",
              "      <td>30000.000000</td>\n",
              "      <td>0.000000</td>\n",
              "      <td>1.000000</td>\n",
              "      <td>35.000000</td>\n",
              "    </tr>\n",
              "    <tr>\n",
              "      <th>50%</th>\n",
              "      <td>19744.000000</td>\n",
              "      <td>60000.000000</td>\n",
              "      <td>2.000000</td>\n",
              "      <td>1.000000</td>\n",
              "      <td>43.000000</td>\n",
              "    </tr>\n",
              "    <tr>\n",
              "      <th>75%</th>\n",
              "      <td>24470.750000</td>\n",
              "      <td>70000.000000</td>\n",
              "      <td>3.000000</td>\n",
              "      <td>2.000000</td>\n",
              "      <td>52.000000</td>\n",
              "    </tr>\n",
              "    <tr>\n",
              "      <th>max</th>\n",
              "      <td>29447.000000</td>\n",
              "      <td>170000.000000</td>\n",
              "      <td>5.000000</td>\n",
              "      <td>4.000000</td>\n",
              "      <td>89.000000</td>\n",
              "    </tr>\n",
              "  </tbody>\n",
              "</table>\n",
              "</div>"
            ],
            "text/plain": [
              "                 ID         Income     Children         Cars          Age\n",
              "count   1000.000000    1000.000000  1000.000000  1000.000000  1000.000000\n",
              "mean   19965.992000   56140.000000     1.908000     1.452000    44.190000\n",
              "std     5347.333948   31081.609779     1.626094     1.124705    11.353537\n",
              "min    11000.000000   10000.000000     0.000000     0.000000    25.000000\n",
              "25%    15290.750000   30000.000000     0.000000     1.000000    35.000000\n",
              "50%    19744.000000   60000.000000     2.000000     1.000000    43.000000\n",
              "75%    24470.750000   70000.000000     3.000000     2.000000    52.000000\n",
              "max    29447.000000  170000.000000     5.000000     4.000000    89.000000"
            ]
          },
          "metadata": {
            "tags": []
          },
          "execution_count": 42
        }
      ]
    },
    {
      "cell_type": "code",
      "metadata": {
        "colab": {
          "base_uri": "https://localhost:8080/",
          "height": 502
        },
        "id": "Au7UIUJru20j",
        "outputId": "4d7759ec-5770-4b2d-ffcf-afbf5066fafd"
      },
      "source": [
        "df.head(15)"
      ],
      "execution_count": 43,
      "outputs": [
        {
          "output_type": "execute_result",
          "data": {
            "text/html": [
              "<div>\n",
              "<style scoped>\n",
              "    .dataframe tbody tr th:only-of-type {\n",
              "        vertical-align: middle;\n",
              "    }\n",
              "\n",
              "    .dataframe tbody tr th {\n",
              "        vertical-align: top;\n",
              "    }\n",
              "\n",
              "    .dataframe thead th {\n",
              "        text-align: right;\n",
              "    }\n",
              "</style>\n",
              "<table border=\"1\" class=\"dataframe\">\n",
              "  <thead>\n",
              "    <tr style=\"text-align: right;\">\n",
              "      <th></th>\n",
              "      <th>ID</th>\n",
              "      <th>Marital Status</th>\n",
              "      <th>Gender</th>\n",
              "      <th>Income</th>\n",
              "      <th>Children</th>\n",
              "      <th>Education</th>\n",
              "      <th>Occupation</th>\n",
              "      <th>Home Owner</th>\n",
              "      <th>Cars</th>\n",
              "      <th>Commute Distance</th>\n",
              "      <th>Region</th>\n",
              "      <th>Age</th>\n",
              "      <th>Purchased Bike</th>\n",
              "    </tr>\n",
              "  </thead>\n",
              "  <tbody>\n",
              "    <tr>\n",
              "      <th>0</th>\n",
              "      <td>12496</td>\n",
              "      <td>Married</td>\n",
              "      <td>Female</td>\n",
              "      <td>40000</td>\n",
              "      <td>1</td>\n",
              "      <td>Bachelors</td>\n",
              "      <td>Skilled Manual</td>\n",
              "      <td>Yes</td>\n",
              "      <td>0</td>\n",
              "      <td>0-1 Miles</td>\n",
              "      <td>Europe</td>\n",
              "      <td>42</td>\n",
              "      <td>No</td>\n",
              "    </tr>\n",
              "    <tr>\n",
              "      <th>1</th>\n",
              "      <td>24107</td>\n",
              "      <td>Married</td>\n",
              "      <td>Male</td>\n",
              "      <td>30000</td>\n",
              "      <td>3</td>\n",
              "      <td>Partial College</td>\n",
              "      <td>Clerical</td>\n",
              "      <td>Yes</td>\n",
              "      <td>1</td>\n",
              "      <td>0-1 Miles</td>\n",
              "      <td>Europe</td>\n",
              "      <td>43</td>\n",
              "      <td>No</td>\n",
              "    </tr>\n",
              "    <tr>\n",
              "      <th>2</th>\n",
              "      <td>14177</td>\n",
              "      <td>Married</td>\n",
              "      <td>Male</td>\n",
              "      <td>80000</td>\n",
              "      <td>5</td>\n",
              "      <td>Partial College</td>\n",
              "      <td>Professional</td>\n",
              "      <td>No</td>\n",
              "      <td>2</td>\n",
              "      <td>2-5 Miles</td>\n",
              "      <td>Europe</td>\n",
              "      <td>60</td>\n",
              "      <td>No</td>\n",
              "    </tr>\n",
              "    <tr>\n",
              "      <th>3</th>\n",
              "      <td>24381</td>\n",
              "      <td>Single</td>\n",
              "      <td>Male</td>\n",
              "      <td>70000</td>\n",
              "      <td>0</td>\n",
              "      <td>Bachelors</td>\n",
              "      <td>Professional</td>\n",
              "      <td>Yes</td>\n",
              "      <td>1</td>\n",
              "      <td>5-10 Miles</td>\n",
              "      <td>Pacific</td>\n",
              "      <td>41</td>\n",
              "      <td>Yes</td>\n",
              "    </tr>\n",
              "    <tr>\n",
              "      <th>4</th>\n",
              "      <td>25597</td>\n",
              "      <td>Single</td>\n",
              "      <td>Male</td>\n",
              "      <td>30000</td>\n",
              "      <td>0</td>\n",
              "      <td>Bachelors</td>\n",
              "      <td>Clerical</td>\n",
              "      <td>No</td>\n",
              "      <td>0</td>\n",
              "      <td>0-1 Miles</td>\n",
              "      <td>Europe</td>\n",
              "      <td>36</td>\n",
              "      <td>Yes</td>\n",
              "    </tr>\n",
              "    <tr>\n",
              "      <th>5</th>\n",
              "      <td>13507</td>\n",
              "      <td>Married</td>\n",
              "      <td>Female</td>\n",
              "      <td>10000</td>\n",
              "      <td>2</td>\n",
              "      <td>Partial College</td>\n",
              "      <td>Manual</td>\n",
              "      <td>Yes</td>\n",
              "      <td>0</td>\n",
              "      <td>1-2 Miles</td>\n",
              "      <td>Europe</td>\n",
              "      <td>50</td>\n",
              "      <td>No</td>\n",
              "    </tr>\n",
              "    <tr>\n",
              "      <th>6</th>\n",
              "      <td>27974</td>\n",
              "      <td>Single</td>\n",
              "      <td>Male</td>\n",
              "      <td>160000</td>\n",
              "      <td>2</td>\n",
              "      <td>High School</td>\n",
              "      <td>Management</td>\n",
              "      <td>Yes</td>\n",
              "      <td>4</td>\n",
              "      <td>0-1 Miles</td>\n",
              "      <td>Pacific</td>\n",
              "      <td>33</td>\n",
              "      <td>Yes</td>\n",
              "    </tr>\n",
              "    <tr>\n",
              "      <th>7</th>\n",
              "      <td>19364</td>\n",
              "      <td>Married</td>\n",
              "      <td>Male</td>\n",
              "      <td>40000</td>\n",
              "      <td>1</td>\n",
              "      <td>Bachelors</td>\n",
              "      <td>Skilled Manual</td>\n",
              "      <td>Yes</td>\n",
              "      <td>0</td>\n",
              "      <td>0-1 Miles</td>\n",
              "      <td>Europe</td>\n",
              "      <td>43</td>\n",
              "      <td>Yes</td>\n",
              "    </tr>\n",
              "    <tr>\n",
              "      <th>8</th>\n",
              "      <td>22155</td>\n",
              "      <td>Married</td>\n",
              "      <td>Male</td>\n",
              "      <td>20000</td>\n",
              "      <td>2</td>\n",
              "      <td>Partial High School</td>\n",
              "      <td>Clerical</td>\n",
              "      <td>Yes</td>\n",
              "      <td>2</td>\n",
              "      <td>5-10 Miles</td>\n",
              "      <td>Pacific</td>\n",
              "      <td>58</td>\n",
              "      <td>No</td>\n",
              "    </tr>\n",
              "    <tr>\n",
              "      <th>9</th>\n",
              "      <td>19280</td>\n",
              "      <td>Married</td>\n",
              "      <td>Male</td>\n",
              "      <td>20000</td>\n",
              "      <td>2</td>\n",
              "      <td>Partial College</td>\n",
              "      <td>Manual</td>\n",
              "      <td>Yes</td>\n",
              "      <td>1</td>\n",
              "      <td>0-1 Miles</td>\n",
              "      <td>Europe</td>\n",
              "      <td>48</td>\n",
              "      <td>Yes</td>\n",
              "    </tr>\n",
              "    <tr>\n",
              "      <th>10</th>\n",
              "      <td>22173</td>\n",
              "      <td>Married</td>\n",
              "      <td>Female</td>\n",
              "      <td>30000</td>\n",
              "      <td>3</td>\n",
              "      <td>High School</td>\n",
              "      <td>Skilled Manual</td>\n",
              "      <td>No</td>\n",
              "      <td>2</td>\n",
              "      <td>1-2 Miles</td>\n",
              "      <td>Pacific</td>\n",
              "      <td>54</td>\n",
              "      <td>Yes</td>\n",
              "    </tr>\n",
              "    <tr>\n",
              "      <th>11</th>\n",
              "      <td>12697</td>\n",
              "      <td>Single</td>\n",
              "      <td>Female</td>\n",
              "      <td>90000</td>\n",
              "      <td>0</td>\n",
              "      <td>Bachelors</td>\n",
              "      <td>Professional</td>\n",
              "      <td>No</td>\n",
              "      <td>4</td>\n",
              "      <td>10+ Miles</td>\n",
              "      <td>Pacific</td>\n",
              "      <td>36</td>\n",
              "      <td>No</td>\n",
              "    </tr>\n",
              "    <tr>\n",
              "      <th>12</th>\n",
              "      <td>11434</td>\n",
              "      <td>Married</td>\n",
              "      <td>Male</td>\n",
              "      <td>170000</td>\n",
              "      <td>5</td>\n",
              "      <td>Partial College</td>\n",
              "      <td>Professional</td>\n",
              "      <td>Yes</td>\n",
              "      <td>4</td>\n",
              "      <td>0-1 Miles</td>\n",
              "      <td>Europe</td>\n",
              "      <td>55</td>\n",
              "      <td>No</td>\n",
              "    </tr>\n",
              "    <tr>\n",
              "      <th>13</th>\n",
              "      <td>25323</td>\n",
              "      <td>Married</td>\n",
              "      <td>Male</td>\n",
              "      <td>40000</td>\n",
              "      <td>2</td>\n",
              "      <td>Partial College</td>\n",
              "      <td>Clerical</td>\n",
              "      <td>Yes</td>\n",
              "      <td>1</td>\n",
              "      <td>1-2 Miles</td>\n",
              "      <td>Europe</td>\n",
              "      <td>35</td>\n",
              "      <td>Yes</td>\n",
              "    </tr>\n",
              "    <tr>\n",
              "      <th>14</th>\n",
              "      <td>23542</td>\n",
              "      <td>Single</td>\n",
              "      <td>Male</td>\n",
              "      <td>60000</td>\n",
              "      <td>1</td>\n",
              "      <td>Partial College</td>\n",
              "      <td>Skilled Manual</td>\n",
              "      <td>No</td>\n",
              "      <td>1</td>\n",
              "      <td>0-1 Miles</td>\n",
              "      <td>Pacific</td>\n",
              "      <td>45</td>\n",
              "      <td>Yes</td>\n",
              "    </tr>\n",
              "  </tbody>\n",
              "</table>\n",
              "</div>"
            ],
            "text/plain": [
              "       ID Marital Status  Gender  ...   Region  Age Purchased Bike\n",
              "0   12496        Married  Female  ...   Europe   42             No\n",
              "1   24107        Married    Male  ...   Europe   43             No\n",
              "2   14177        Married    Male  ...   Europe   60             No\n",
              "3   24381         Single    Male  ...  Pacific   41            Yes\n",
              "4   25597         Single    Male  ...   Europe   36            Yes\n",
              "5   13507        Married  Female  ...   Europe   50             No\n",
              "6   27974         Single    Male  ...  Pacific   33            Yes\n",
              "7   19364        Married    Male  ...   Europe   43            Yes\n",
              "8   22155        Married    Male  ...  Pacific   58             No\n",
              "9   19280        Married    Male  ...   Europe   48            Yes\n",
              "10  22173        Married  Female  ...  Pacific   54            Yes\n",
              "11  12697         Single  Female  ...  Pacific   36             No\n",
              "12  11434        Married    Male  ...   Europe   55             No\n",
              "13  25323        Married    Male  ...   Europe   35            Yes\n",
              "14  23542         Single    Male  ...  Pacific   45            Yes\n",
              "\n",
              "[15 rows x 13 columns]"
            ]
          },
          "metadata": {
            "tags": []
          },
          "execution_count": 43
        }
      ]
    },
    {
      "cell_type": "code",
      "metadata": {
        "colab": {
          "base_uri": "https://localhost:8080/"
        },
        "id": "Qj3EJ2QjIWod",
        "outputId": "258dcc1b-5587-4c7f-95fe-29ab725fbda0"
      },
      "source": [
        "df['Purchased Bike'].value_counts()"
      ],
      "execution_count": 44,
      "outputs": [
        {
          "output_type": "execute_result",
          "data": {
            "text/plain": [
              "No     519\n",
              "Yes    481\n",
              "Name: Purchased Bike, dtype: int64"
            ]
          },
          "metadata": {
            "tags": []
          },
          "execution_count": 44
        }
      ]
    },
    {
      "cell_type": "code",
      "metadata": {
        "colab": {
          "base_uri": "https://localhost:8080/",
          "height": 337
        },
        "id": "HJwI5z7Pokfh",
        "outputId": "af35958e-e440-42cf-dcb1-0777cdc300a7"
      },
      "source": [
        "x = ['No', 'Yes']\n",
        "y = [519, 481]\n",
        "\n",
        "plt.figure(figsize=(7,5))\n",
        "plt.bar(x,y, color='violet')\n",
        "plt.title('Frequency data of purchased bike', fontsize=14)\n",
        "for index,data in enumerate(y):\n",
        "    plt.text(x=index , y =data , s=f\"{data}\" , fontdict=dict(fontsize=12), ha='center')\n",
        "plt.show()"
      ],
      "execution_count": 45,
      "outputs": [
        {
          "output_type": "display_data",
          "data": {
            "image/png": "[encoded data removed]",
            "text/plain": [
              "<Figure size 504x360 with 1 Axes>"
            ]
          },
          "metadata": {
            "tags": [],
            "needs_background": "light"
          }
        }
      ]
    },
    {
      "cell_type": "code",
      "metadata": {
        "colab": {
          "base_uri": "https://localhost:8080/",
          "height": 290
        },
        "id": "tXVbEE9N6b9q",
        "outputId": "f0c834f1-e047-4a06-c0a0-cd44e65c04ea"
      },
      "source": [
        "df.describe()"
      ],
      "execution_count": 46,
      "outputs": [
        {
          "output_type": "execute_result",
          "data": {
            "text/html": [
              "<div>\n",
              "<style scoped>\n",
              "    .dataframe tbody tr th:only-of-type {\n",
              "        vertical-align: middle;\n",
              "    }\n",
              "\n",
              "    .dataframe tbody tr th {\n",
              "        vertical-align: top;\n",
              "    }\n",
              "\n",
              "    .dataframe thead th {\n",
              "        text-align: right;\n",
              "    }\n",
              "</style>\n",
              "<table border=\"1\" class=\"dataframe\">\n",
              "  <thead>\n",
              "    <tr style=\"text-align: right;\">\n",
              "      <th></th>\n",
              "      <th>ID</th>\n",
              "      <th>Income</th>\n",
              "      <th>Children</th>\n",
              "      <th>Cars</th>\n",
              "      <th>Age</th>\n",
              "    </tr>\n",
              "  </thead>\n",
              "  <tbody>\n",
              "    <tr>\n",
              "      <th>count</th>\n",
              "      <td>1000.000000</td>\n",
              "      <td>1000.000000</td>\n",
              "      <td>1000.000000</td>\n",
              "      <td>1000.000000</td>\n",
              "      <td>1000.000000</td>\n",
              "    </tr>\n",
              "    <tr>\n",
              "      <th>mean</th>\n",
              "      <td>19965.992000</td>\n",
              "      <td>56140.000000</td>\n",
              "      <td>1.908000</td>\n",
              "      <td>1.452000</td>\n",
              "      <td>44.190000</td>\n",
              "    </tr>\n",
              "    <tr>\n",
              "      <th>std</th>\n",
              "      <td>5347.333948</td>\n",
              "      <td>31081.609779</td>\n",
              "      <td>1.626094</td>\n",
              "      <td>1.124705</td>\n",
              "      <td>11.353537</td>\n",
              "    </tr>\n",
              "    <tr>\n",
              "      <th>min</th>\n",
              "      <td>11000.000000</td>\n",
              "      <td>10000.000000</td>\n",
              "      <td>0.000000</td>\n",
              "      <td>0.000000</td>\n",
              "      <td>25.000000</td>\n",
              "    </tr>\n",
              "    <tr>\n",
              "      <th>25%</th>\n",
              "      <td>15290.750000</td>\n",
              "      <td>30000.000000</td>\n",
              "      <td>0.000000</td>\n",
              "      <td>1.000000</td>\n",
              "      <td>35.000000</td>\n",
              "    </tr>\n",
              "    <tr>\n",
              "      <th>50%</th>\n",
              "      <td>19744.000000</td>\n",
              "      <td>60000.000000</td>\n",
              "      <td>2.000000</td>\n",
              "      <td>1.000000</td>\n",
              "      <td>43.000000</td>\n",
              "    </tr>\n",
              "    <tr>\n",
              "      <th>75%</th>\n",
              "      <td>24470.750000</td>\n",
              "      <td>70000.000000</td>\n",
              "      <td>3.000000</td>\n",
              "      <td>2.000000</td>\n",
              "      <td>52.000000</td>\n",
              "    </tr>\n",
              "    <tr>\n",
              "      <th>max</th>\n",
              "      <td>29447.000000</td>\n",
              "      <td>170000.000000</td>\n",
              "      <td>5.000000</td>\n",
              "      <td>4.000000</td>\n",
              "      <td>89.000000</td>\n",
              "    </tr>\n",
              "  </tbody>\n",
              "</table>\n",
              "</div>"
            ],
            "text/plain": [
              "                 ID         Income     Children         Cars          Age\n",
              "count   1000.000000    1000.000000  1000.000000  1000.000000  1000.000000\n",
              "mean   19965.992000   56140.000000     1.908000     1.452000    44.190000\n",
              "std     5347.333948   31081.609779     1.626094     1.124705    11.353537\n",
              "min    11000.000000   10000.000000     0.000000     0.000000    25.000000\n",
              "25%    15290.750000   30000.000000     0.000000     1.000000    35.000000\n",
              "50%    19744.000000   60000.000000     2.000000     1.000000    43.000000\n",
              "75%    24470.750000   70000.000000     3.000000     2.000000    52.000000\n",
              "max    29447.000000  170000.000000     5.000000     4.000000    89.000000"
            ]
          },
          "metadata": {
            "tags": []
          },
          "execution_count": 46
        }
      ]
    },
    {
      "cell_type": "markdown",
      "metadata": {
        "id": "s4j9kTP_4iaL"
      },
      "source": [
        "3. Pre-processing Data"
      ]
    },
    {
      "cell_type": "code",
      "metadata": {
        "colab": {
          "base_uri": "https://localhost:8080/",
          "height": 200
        },
        "id": "TlVfoi5e7iN2",
        "outputId": "dd4e61fd-62d3-4d05-98d4-3861c1490116"
      },
      "source": [
        "features = df.iloc[:,0:12]\n",
        "features.head()"
      ],
      "execution_count": 47,
      "outputs": [
        {
          "output_type": "execute_result",
          "data": {
            "text/html": [
              "<div>\n",
              "<style scoped>\n",
              "    .dataframe tbody tr th:only-of-type {\n",
              "        vertical-align: middle;\n",
              "    }\n",
              "\n",
              "    .dataframe tbody tr th {\n",
              "        vertical-align: top;\n",
              "    }\n",
              "\n",
              "    .dataframe thead th {\n",
              "        text-align: right;\n",
              "    }\n",
              "</style>\n",
              "<table border=\"1\" class=\"dataframe\">\n",
              "  <thead>\n",
              "    <tr style=\"text-align: right;\">\n",
              "      <th></th>\n",
              "      <th>ID</th>\n",
              "      <th>Marital Status</th>\n",
              "      <th>Gender</th>\n",
              "      <th>Income</th>\n",
              "      <th>Children</th>\n",
              "      <th>Education</th>\n",
              "      <th>Occupation</th>\n",
              "      <th>Home Owner</th>\n",
              "      <th>Cars</th>\n",
              "      <th>Commute Distance</th>\n",
              "      <th>Region</th>\n",
              "      <th>Age</th>\n",
              "    </tr>\n",
              "  </thead>\n",
              "  <tbody>\n",
              "    <tr>\n",
              "      <th>0</th>\n",
              "      <td>12496</td>\n",
              "      <td>Married</td>\n",
              "      <td>Female</td>\n",
              "      <td>40000</td>\n",
              "      <td>1</td>\n",
              "      <td>Bachelors</td>\n",
              "      <td>Skilled Manual</td>\n",
              "      <td>Yes</td>\n",
              "      <td>0</td>\n",
              "      <td>0-1 Miles</td>\n",
              "      <td>Europe</td>\n",
              "      <td>42</td>\n",
              "    </tr>\n",
              "    <tr>\n",
              "      <th>1</th>\n",
              "      <td>24107</td>\n",
              "      <td>Married</td>\n",
              "      <td>Male</td>\n",
              "      <td>30000</td>\n",
              "      <td>3</td>\n",
              "      <td>Partial College</td>\n",
              "      <td>Clerical</td>\n",
              "      <td>Yes</td>\n",
              "      <td>1</td>\n",
              "      <td>0-1 Miles</td>\n",
              "      <td>Europe</td>\n",
              "      <td>43</td>\n",
              "    </tr>\n",
              "    <tr>\n",
              "      <th>2</th>\n",
              "      <td>14177</td>\n",
              "      <td>Married</td>\n",
              "      <td>Male</td>\n",
              "      <td>80000</td>\n",
              "      <td>5</td>\n",
              "      <td>Partial College</td>\n",
              "      <td>Professional</td>\n",
              "      <td>No</td>\n",
              "      <td>2</td>\n",
              "      <td>2-5 Miles</td>\n",
              "      <td>Europe</td>\n",
              "      <td>60</td>\n",
              "    </tr>\n",
              "    <tr>\n",
              "      <th>3</th>\n",
              "      <td>24381</td>\n",
              "      <td>Single</td>\n",
              "      <td>Male</td>\n",
              "      <td>70000</td>\n",
              "      <td>0</td>\n",
              "      <td>Bachelors</td>\n",
              "      <td>Professional</td>\n",
              "      <td>Yes</td>\n",
              "      <td>1</td>\n",
              "      <td>5-10 Miles</td>\n",
              "      <td>Pacific</td>\n",
              "      <td>41</td>\n",
              "    </tr>\n",
              "    <tr>\n",
              "      <th>4</th>\n",
              "      <td>25597</td>\n",
              "      <td>Single</td>\n",
              "      <td>Male</td>\n",
              "      <td>30000</td>\n",
              "      <td>0</td>\n",
              "      <td>Bachelors</td>\n",
              "      <td>Clerical</td>\n",
              "      <td>No</td>\n",
              "      <td>0</td>\n",
              "      <td>0-1 Miles</td>\n",
              "      <td>Europe</td>\n",
              "      <td>36</td>\n",
              "    </tr>\n",
              "  </tbody>\n",
              "</table>\n",
              "</div>"
            ],
            "text/plain": [
              "      ID Marital Status  Gender  Income  ...  Cars Commute Distance   Region Age\n",
              "0  12496        Married  Female   40000  ...     0        0-1 Miles   Europe  42\n",
              "1  24107        Married    Male   30000  ...     1        0-1 Miles   Europe  43\n",
              "2  14177        Married    Male   80000  ...     2        2-5 Miles   Europe  60\n",
              "3  24381         Single    Male   70000  ...     1       5-10 Miles  Pacific  41\n",
              "4  25597         Single    Male   30000  ...     0        0-1 Miles   Europe  36\n",
              "\n",
              "[5 rows x 12 columns]"
            ]
          },
          "metadata": {
            "tags": []
          },
          "execution_count": 47
        }
      ]
    },
    {
      "cell_type": "code",
      "metadata": {
        "colab": {
          "base_uri": "https://localhost:8080/",
          "height": 200
        },
        "id": "YH7e6pQl8ohh",
        "outputId": "dd1ffeb1-4d73-4b9e-be38-49b3dd912e46"
      },
      "source": [
        "labels = df.iloc[:,12:]\n",
        "labels.head()"
      ],
      "execution_count": 48,
      "outputs": [
        {
          "output_type": "execute_result",
          "data": {
            "text/html": [
              "<div>\n",
              "<style scoped>\n",
              "    .dataframe tbody tr th:only-of-type {\n",
              "        vertical-align: middle;\n",
              "    }\n",
              "\n",
              "    .dataframe tbody tr th {\n",
              "        vertical-align: top;\n",
              "    }\n",
              "\n",
              "    .dataframe thead th {\n",
              "        text-align: right;\n",
              "    }\n",
              "</style>\n",
              "<table border=\"1\" class=\"dataframe\">\n",
              "  <thead>\n",
              "    <tr style=\"text-align: right;\">\n",
              "      <th></th>\n",
              "      <th>Purchased Bike</th>\n",
              "    </tr>\n",
              "  </thead>\n",
              "  <tbody>\n",
              "    <tr>\n",
              "      <th>0</th>\n",
              "      <td>No</td>\n",
              "    </tr>\n",
              "    <tr>\n",
              "      <th>1</th>\n",
              "      <td>No</td>\n",
              "    </tr>\n",
              "    <tr>\n",
              "      <th>2</th>\n",
              "      <td>No</td>\n",
              "    </tr>\n",
              "    <tr>\n",
              "      <th>3</th>\n",
              "      <td>Yes</td>\n",
              "    </tr>\n",
              "    <tr>\n",
              "      <th>4</th>\n",
              "      <td>Yes</td>\n",
              "    </tr>\n",
              "  </tbody>\n",
              "</table>\n",
              "</div>"
            ],
            "text/plain": [
              "  Purchased Bike\n",
              "0             No\n",
              "1             No\n",
              "2             No\n",
              "3            Yes\n",
              "4            Yes"
            ]
          },
          "metadata": {
            "tags": []
          },
          "execution_count": 48
        }
      ]
    },
    {
      "cell_type": "code",
      "metadata": {
        "id": "Zf4KyiPNH3x-"
      },
      "source": [
        "map = {'Yes': 1, 'No': 0}\n",
        "labels['Purchased Bike'] = labels['Purchased Bike'].map(map)"
      ],
      "execution_count": 49,
      "outputs": []
    },
    {
      "cell_type": "code",
      "metadata": {
        "id": "jeQsoyA6AyIn"
      },
      "source": [
        "features.drop(['ID'], axis = 1, inplace = True)"
      ],
      "execution_count": 50,
      "outputs": []
    },
    {
      "cell_type": "code",
      "metadata": {
        "id": "u_p0KLl-6VS7"
      },
      "source": [
        "#one hot encoding\n",
        "features = pd.get_dummies(features)"
      ],
      "execution_count": 51,
      "outputs": []
    },
    {
      "cell_type": "code",
      "metadata": {
        "colab": {
          "base_uri": "https://localhost:8080/",
          "height": 252
        },
        "id": "Nv_R-r7f7DJc",
        "outputId": "f51f72fe-fe6f-4522-ee6c-aebe5512522a"
      },
      "source": [
        "features.head()"
      ],
      "execution_count": 52,
      "outputs": [
        {
          "output_type": "execute_result",
          "data": {
            "text/html": [
              "<div>\n",
              "<style scoped>\n",
              "    .dataframe tbody tr th:only-of-type {\n",
              "        vertical-align: middle;\n",
              "    }\n",
              "\n",
              "    .dataframe tbody tr th {\n",
              "        vertical-align: top;\n",
              "    }\n",
              "\n",
              "    .dataframe thead th {\n",
              "        text-align: right;\n",
              "    }\n",
              "</style>\n",
              "<table border=\"1\" class=\"dataframe\">\n",
              "  <thead>\n",
              "    <tr style=\"text-align: right;\">\n",
              "      <th></th>\n",
              "      <th>Income</th>\n",
              "      <th>Children</th>\n",
              "      <th>Cars</th>\n",
              "      <th>Age</th>\n",
              "      <th>Marital Status_Married</th>\n",
              "      <th>Marital Status_Single</th>\n",
              "      <th>Gender_Female</th>\n",
              "      <th>Gender_Male</th>\n",
              "      <th>Education_Bachelors</th>\n",
              "      <th>Education_Graduate Degree</th>\n",
              "      <th>Education_High School</th>\n",
              "      <th>Education_Partial College</th>\n",
              "      <th>Education_Partial High School</th>\n",
              "      <th>Occupation_Clerical</th>\n",
              "      <th>Occupation_Management</th>\n",
              "      <th>Occupation_Manual</th>\n",
              "      <th>Occupation_Professional</th>\n",
              "      <th>Occupation_Skilled Manual</th>\n",
              "      <th>Home Owner_No</th>\n",
              "      <th>Home Owner_Yes</th>\n",
              "      <th>Commute Distance_0-1 Miles</th>\n",
              "      <th>Commute Distance_1-2 Miles</th>\n",
              "      <th>Commute Distance_10+ Miles</th>\n",
              "      <th>Commute Distance_2-5 Miles</th>\n",
              "      <th>Commute Distance_5-10 Miles</th>\n",
              "      <th>Region_Europe</th>\n",
              "      <th>Region_North America</th>\n",
              "      <th>Region_Pacific</th>\n",
              "    </tr>\n",
              "  </thead>\n",
              "  <tbody>\n",
              "    <tr>\n",
              "      <th>0</th>\n",
              "      <td>40000</td>\n",
              "      <td>1</td>\n",
              "      <td>0</td>\n",
              "      <td>42</td>\n",
              "      <td>1</td>\n",
              "      <td>0</td>\n",
              "      <td>1</td>\n",
              "      <td>0</td>\n",
              "      <td>1</td>\n",
              "      <td>0</td>\n",
              "      <td>0</td>\n",
              "      <td>0</td>\n",
              "      <td>0</td>\n",
              "      <td>0</td>\n",
              "      <td>0</td>\n",
              "      <td>0</td>\n",
              "      <td>0</td>\n",
              "      <td>1</td>\n",
              "      <td>0</td>\n",
              "      <td>1</td>\n",
              "      <td>1</td>\n",
              "      <td>0</td>\n",
              "      <td>0</td>\n",
              "      <td>0</td>\n",
              "      <td>0</td>\n",
              "      <td>1</td>\n",
              "      <td>0</td>\n",
              "      <td>0</td>\n",
              "    </tr>\n",
              "    <tr>\n",
              "      <th>1</th>\n",
              "      <td>30000</td>\n",
              "      <td>3</td>\n",
              "      <td>1</td>\n",
              "      <td>43</td>\n",
              "      <td>1</td>\n",
              "      <td>0</td>\n",
              "      <td>0</td>\n",
              "      <td>1</td>\n",
              "      <td>0</td>\n",
              "      <td>0</td>\n",
              "      <td>0</td>\n",
              "      <td>1</td>\n",
              "      <td>0</td>\n",
              "      <td>1</td>\n",
              "      <td>0</td>\n",
              "      <td>0</td>\n",
              "      <td>0</td>\n",
              "      <td>0</td>\n",
              "      <td>0</td>\n",
              "      <td>1</td>\n",
              "      <td>1</td>\n",
              "      <td>0</td>\n",
              "      <td>0</td>\n",
              "      <td>0</td>\n",
              "      <td>0</td>\n",
              "      <td>1</td>\n",
              "      <td>0</td>\n",
              "      <td>0</td>\n",
              "    </tr>\n",
              "    <tr>\n",
              "      <th>2</th>\n",
              "      <td>80000</td>\n",
              "      <td>5</td>\n",
              "      <td>2</td>\n",
              "      <td>60</td>\n",
              "      <td>1</td>\n",
              "      <td>0</td>\n",
              "      <td>0</td>\n",
              "      <td>1</td>\n",
              "      <td>0</td>\n",
              "      <td>0</td>\n",
              "      <td>0</td>\n",
              "      <td>1</td>\n",
              "      <td>0</td>\n",
              "      <td>0</td>\n",
              "      <td>0</td>\n",
              "      <td>0</td>\n",
              "      <td>1</td>\n",
              "      <td>0</td>\n",
              "      <td>1</td>\n",
              "      <td>0</td>\n",
              "      <td>0</td>\n",
              "      <td>0</td>\n",
              "      <td>0</td>\n",
              "      <td>1</td>\n",
              "      <td>0</td>\n",
              "      <td>1</td>\n",
              "      <td>0</td>\n",
              "      <td>0</td>\n",
              "    </tr>\n",
              "    <tr>\n",
              "      <th>3</th>\n",
              "      <td>70000</td>\n",
              "      <td>0</td>\n",
              "      <td>1</td>\n",
              "      <td>41</td>\n",
              "      <td>0</td>\n",
              "      <td>1</td>\n",
              "      <td>0</td>\n",
              "      <td>1</td>\n",
              "      <td>1</td>\n",
              "      <td>0</td>\n",
              "      <td>0</td>\n",
              "      <td>0</td>\n",
              "      <td>0</td>\n",
              "      <td>0</td>\n",
              "      <td>0</td>\n",
              "      <td>0</td>\n",
              "      <td>1</td>\n",
              "      <td>0</td>\n",
              "      <td>0</td>\n",
              "      <td>1</td>\n",
              "      <td>0</td>\n",
              "      <td>0</td>\n",
              "      <td>0</td>\n",
              "      <td>0</td>\n",
              "      <td>1</td>\n",
              "      <td>0</td>\n",
              "      <td>0</td>\n",
              "      <td>1</td>\n",
              "    </tr>\n",
              "    <tr>\n",
              "      <th>4</th>\n",
              "      <td>30000</td>\n",
              "      <td>0</td>\n",
              "      <td>0</td>\n",
              "      <td>36</td>\n",
              "      <td>0</td>\n",
              "      <td>1</td>\n",
              "      <td>0</td>\n",
              "      <td>1</td>\n",
              "      <td>1</td>\n",
              "      <td>0</td>\n",
              "      <td>0</td>\n",
              "      <td>0</td>\n",
              "      <td>0</td>\n",
              "      <td>1</td>\n",
              "      <td>0</td>\n",
              "      <td>0</td>\n",
              "      <td>0</td>\n",
              "      <td>0</td>\n",
              "      <td>1</td>\n",
              "      <td>0</td>\n",
              "      <td>1</td>\n",
              "      <td>0</td>\n",
              "      <td>0</td>\n",
              "      <td>0</td>\n",
              "      <td>0</td>\n",
              "      <td>1</td>\n",
              "      <td>0</td>\n",
              "      <td>0</td>\n",
              "    </tr>\n",
              "  </tbody>\n",
              "</table>\n",
              "</div>"
            ],
            "text/plain": [
              "   Income  Children  Cars  ...  Region_Europe  Region_North America  Region_Pacific\n",
              "0   40000         1     0  ...              1                     0               0\n",
              "1   30000         3     1  ...              1                     0               0\n",
              "2   80000         5     2  ...              1                     0               0\n",
              "3   70000         0     1  ...              0                     0               1\n",
              "4   30000         0     0  ...              1                     0               0\n",
              "\n",
              "[5 rows x 28 columns]"
            ]
          },
          "metadata": {
            "tags": []
          },
          "execution_count": 52
        }
      ]
    },
    {
      "cell_type": "code",
      "metadata": {
        "colab": {
          "base_uri": "https://localhost:8080/"
        },
        "id": "l42bn0kA7Gcs",
        "outputId": "cd240126-8c14-4259-e8b4-37e6c641dc6a"
      },
      "source": [
        "features.info()"
      ],
      "execution_count": 53,
      "outputs": [
        {
          "output_type": "stream",
          "text": [
            "<class 'pandas.core.frame.DataFrame'>\n",
            "RangeIndex: 1000 entries, 0 to 999\n",
            "Data columns (total 28 columns):\n",
            " #   Column                         Non-Null Count  Dtype\n",
            "---  ------                         --------------  -----\n",
            " 0   Income                         1000 non-null   int64\n",
            " 1   Children                       1000 non-null   int64\n",
            " 2   Cars                           1000 non-null   int64\n",
            " 3   Age                            1000 non-null   int64\n",
            " 4   Marital Status_Married         1000 non-null   uint8\n",
            " 5   Marital Status_Single          1000 non-null   uint8\n",
            " 6   Gender_Female                  1000 non-null   uint8\n",
            " 7   Gender_Male                    1000 non-null   uint8\n",
            " 8   Education_Bachelors            1000 non-null   uint8\n",
            " 9   Education_Graduate Degree      1000 non-null   uint8\n",
            " 10  Education_High School          1000 non-null   uint8\n",
            " 11  Education_Partial College      1000 non-null   uint8\n",
            " 12  Education_Partial High School  1000 non-null   uint8\n",
            " 13  Occupation_Clerical            1000 non-null   uint8\n",
            " 14  Occupation_Management          1000 non-null   uint8\n",
            " 15  Occupation_Manual              1000 non-null   uint8\n",
            " 16  Occupation_Professional        1000 non-null   uint8\n",
            " 17  Occupation_Skilled Manual      1000 non-null   uint8\n",
            " 18  Home Owner_No                  1000 non-null   uint8\n",
            " 19  Home Owner_Yes                 1000 non-null   uint8\n",
            " 20  Commute Distance_0-1 Miles     1000 non-null   uint8\n",
            " 21  Commute Distance_1-2 Miles     1000 non-null   uint8\n",
            " 22  Commute Distance_10+ Miles     1000 non-null   uint8\n",
            " 23  Commute Distance_2-5 Miles     1000 non-null   uint8\n",
            " 24  Commute Distance_5-10 Miles    1000 non-null   uint8\n",
            " 25  Region_Europe                  1000 non-null   uint8\n",
            " 26  Region_North America           1000 non-null   uint8\n",
            " 27  Region_Pacific                 1000 non-null   uint8\n",
            "dtypes: int64(4), uint8(24)\n",
            "memory usage: 54.8 KB\n"
          ],
          "name": "stdout"
        }
      ]
    },
    {
      "cell_type": "markdown",
      "metadata": {
        "id": "BMF7WlHzQ7vB"
      },
      "source": [
        "4. Split Data"
      ]
    },
    {
      "cell_type": "code",
      "metadata": {
        "colab": {
          "base_uri": "https://localhost:8080/"
        },
        "id": "UbneH44q9hqO",
        "outputId": "e48aee09-3761-4642-8799-e81f45479ce6"
      },
      "source": [
        "#split data\n",
        "from sklearn.model_selection import train_test_split\n",
        "X_train, X_test, y_train, y_test = train_test_split(features, labels, test_size=0.3,random_state=10)\n",
        "print(X_train.shape, X_test.shape, y_train.shape, y_test.shape)"
      ],
      "execution_count": 54,
      "outputs": [
        {
          "output_type": "stream",
          "text": [
            "(700, 28) (300, 28) (700, 1) (300, 1)\n"
          ],
          "name": "stdout"
        }
      ]
    },
    {
      "cell_type": "markdown",
      "metadata": {
        "id": "HzRo9-c9RAlT"
      },
      "source": [
        "5. Modelling & Evaluasi Data"
      ]
    },
    {
      "cell_type": "code",
      "metadata": {
        "id": "A77wTSGR84qH"
      },
      "source": [
        "from sklearn.metrics import accuracy_score, f1_score, precision_score, recall_score, classification_report, confusion_matrix"
      ],
      "execution_count": 55,
      "outputs": []
    },
    {
      "cell_type": "code",
      "metadata": {
        "colab": {
          "base_uri": "https://localhost:8080/"
        },
        "id": "WOB-RKoZ7Jd4",
        "outputId": "cad05b85-6127-41e0-d7ec-2dfe86e2a8e5"
      },
      "source": [
        "#Random Forest\n",
        "from sklearn.ensemble import RandomForestClassifier\n",
        "clf = RandomForestClassifier(n_estimators = 100, random_state=20)\n",
        "clf.fit(X_train, y_train)\n",
        "\n",
        "y_pred = clf.predict(X_test)\n",
        "y_true = y_test\n",
        "print(\"Accuracy Train:   \", clf.score(X_train,y_train))\n",
        "print(\"Accuracy Test:   \", clf.score(X_test,y_test))\n",
        "print('Presisi :', precision_score(y_test, y_pred))\n",
        "print('Recall :', recall_score(y_test, y_pred))"
      ],
      "execution_count": 56,
      "outputs": [
        {
          "output_type": "stream",
          "text": [
            "/usr/local/lib/python3.7/dist-packages/ipykernel_launcher.py:4: DataConversionWarning: A column-vector y was passed when a 1d array was expected. Please change the shape of y to (n_samples,), for example using ravel().\n",
            "  after removing the cwd from sys.path.\n"
          ],
          "name": "stderr"
        },
        {
          "output_type": "stream",
          "text": [
            "Accuracy Train:    0.9957142857142857\n",
            "Accuracy Test:    0.7633333333333333\n",
            "Presisi : 0.7697841726618705\n",
            "Recall : 0.7328767123287672\n"
          ],
          "name": "stdout"
        }
      ]
    },
    {
      "cell_type": "code",
      "metadata": {
        "colab": {
          "base_uri": "https://localhost:8080/",
          "height": 352
        },
        "id": "luDvGWo3I4Gr",
        "outputId": "270a72b2-9c91-4756-da1b-6c3783294787"
      },
      "source": [
        "#Get the confusion matrix\n",
        "cf_matrix = confusion_matrix(y_test, y_pred)\n",
        "\n",
        "plt.figure(figsize=(7,5))\n",
        "ax = sns.heatmap(cf_matrix, annot=True, \n",
        "            fmt='', cmap='Purples')\n",
        "plt.title(\"Confusion Matrix Model Random Forest\", fontsize=13)"
      ],
      "execution_count": 57,
      "outputs": [
        {
          "output_type": "execute_result",
          "data": {
            "text/plain": [
              "Text(0.5, 1.0, 'Confusion Matrix Model Random Forest')"
            ]
          },
          "metadata": {
            "tags": []
          },
          "execution_count": 57
        },
        {
          "output_type": "display_data",
          "data": {
            "image/png": "[encoded data removed]",
            "text/plain": [
              "<Figure size 504x360 with 2 Axes>"
            ]
          },
          "metadata": {
            "tags": [],
            "needs_background": "light"
          }
        }
      ]
    },
    {
      "cell_type": "code",
      "metadata": {
        "colab": {
          "base_uri": "https://localhost:8080/"
        },
        "id": "WDSSbOhqEZGg",
        "outputId": "69b14127-c768-42c5-e7cb-48bb61aa727d"
      },
      "source": [
        "#Naive Bayes\n",
        "from sklearn.naive_bayes import GaussianNB \n",
        "clf2 = GaussianNB()\n",
        "clf2.fit(X_train,y_train)\n",
        "\n",
        "y_pred = clf2.predict(X_test)\n",
        "y_true = y_test\n",
        "\n",
        "print(\"Accuracy Train:   \", clf2.score(X_train,y_train))\n",
        "print(\"Accuracy Test:   \", clf2.score(X_test,y_test))\n",
        "print('Presisi :', precision_score(y_test, y_pred))\n",
        "print('Recall :', recall_score(y_test, y_pred))"
      ],
      "execution_count": 58,
      "outputs": [
        {
          "output_type": "stream",
          "text": [
            "Accuracy Train:    0.6214285714285714\n",
            "Accuracy Test:    0.6333333333333333\n",
            "Presisi : 0.625\n",
            "Recall : 0.6164383561643836\n"
          ],
          "name": "stdout"
        },
        {
          "output_type": "stream",
          "text": [
            "/usr/local/lib/python3.7/dist-packages/sklearn/naive_bayes.py:206: DataConversionWarning: A column-vector y was passed when a 1d array was expected. Please change the shape of y to (n_samples, ), for example using ravel().\n",
            "  y = column_or_1d(y, warn=True)\n"
          ],
          "name": "stderr"
        }
      ]
    },
    {
      "cell_type": "code",
      "metadata": {
        "colab": {
          "base_uri": "https://localhost:8080/",
          "height": 352
        },
        "id": "BC-p_cM9DiNa",
        "outputId": "d9d0208e-49e1-4852-f7bb-6283842e0855"
      },
      "source": [
        "#Get the confusion matrix\n",
        "cf_matrix = confusion_matrix(y_test, y_pred)\n",
        "\n",
        "plt.figure(figsize=(7,5))\n",
        "ax = sns.heatmap(cf_matrix, annot=True, \n",
        "            fmt='', cmap='Purples')\n",
        "plt.title(\"Confusion Matrix Model Naive Bayes\", fontsize=13)"
      ],
      "execution_count": 59,
      "outputs": [
        {
          "output_type": "execute_result",
          "data": {
            "text/plain": [
              "Text(0.5, 1.0, 'Confusion Matrix Model Naive Bayes')"
            ]
          },
          "metadata": {
            "tags": []
          },
          "execution_count": 59
        },
        {
          "output_type": "display_data",
          "data": {
            "image/png": "[encoded data removed]",
            "text/plain": [
              "<Figure size 504x360 with 2 Axes>"
            ]
          },
          "metadata": {
            "tags": [],
            "needs_background": "light"
          }
        }
      ]
    },
    {
      "cell_type": "code",
      "metadata": {
        "colab": {
          "base_uri": "https://localhost:8080/"
        },
        "id": "bxAydtglFCLd",
        "outputId": "66c59bd5-8139-43f6-a1be-4e11c07cde76"
      },
      "source": [
        "from sklearn.neural_network import MLPClassifier\n",
        "clf3 = MLPClassifier(hidden_layer_sizes = 1000, random_state=20)\n",
        "\n",
        "clf3.fit(X_train,y_train)\n",
        "\n",
        "y_pred = clf3.predict(X_test)\n",
        "y_true = y_test\n",
        "\n",
        "print(\"Accuracy Train:   \", clf3.score(X_train,y_train))\n",
        "print(\"Accuracy Test:   \", clf3.score(X_test,y_test))\n",
        "print('Presisi :', precision_score(y_test, y_pred))\n",
        "print('Recall :', recall_score(y_test, y_pred))"
      ],
      "execution_count": 60,
      "outputs": [
        {
          "output_type": "stream",
          "text": [
            "/usr/local/lib/python3.7/dist-packages/sklearn/neural_network/_multilayer_perceptron.py:934: DataConversionWarning: A column-vector y was passed when a 1d array was expected. Please change the shape of y to (n_samples, ), for example using ravel().\n",
            "  y = column_or_1d(y, warn=True)\n"
          ],
          "name": "stderr"
        },
        {
          "output_type": "stream",
          "text": [
            "Accuracy Train:    0.5485714285714286\n",
            "Accuracy Test:    0.5766666666666667\n",
            "Presisi : 0.5492227979274611\n",
            "Recall : 0.726027397260274\n"
          ],
          "name": "stdout"
        },
        {
          "output_type": "stream",
          "text": [
            "/usr/local/lib/python3.7/dist-packages/sklearn/neural_network/_multilayer_perceptron.py:571: ConvergenceWarning: Stochastic Optimizer: Maximum iterations (200) reached and the optimization hasn't converged yet.\n",
            "  % self.max_iter, ConvergenceWarning)\n"
          ],
          "name": "stderr"
        }
      ]
    },
    {
      "cell_type": "code",
      "metadata": {
        "colab": {
          "base_uri": "https://localhost:8080/",
          "height": 352
        },
        "id": "-ndVkQgQEfvY",
        "outputId": "d1d0f0c1-04ac-419d-c2c1-4a2de71c36e5"
      },
      "source": [
        "#Get the confusion matrix\n",
        "cf_matrix = confusion_matrix(y_test, y_pred)\n",
        "\n",
        "plt.figure(figsize=(7,5))\n",
        "ax = sns.heatmap(cf_matrix, annot=True, \n",
        "            fmt='', cmap='Purples')\n",
        "plt.title(\"Confusion Matrix Model Neural Network\", fontsize=13)"
      ],
      "execution_count": 61,
      "outputs": [
        {
          "output_type": "execute_result",
          "data": {
            "text/plain": [
              "Text(0.5, 1.0, 'Confusion Matrix Model Neural Network')"
            ]
          },
          "metadata": {
            "tags": []
          },
          "execution_count": 61
        },
        {
          "output_type": "display_data",
          "data": {
            "image/png": "[encoded data removed]",
            "text/plain": [
              "<Figure size 504x360 with 2 Axes>"
            ]
          },
          "metadata": {
            "tags": [],
            "needs_background": "light"
          }
        }
      ]
    },
    {
      "cell_type": "markdown",
      "metadata": {
        "id": "x2hVTfkm_bvw"
      },
      "source": [
        "6. Prediction on unlabelled data"
      ]
    },
    {
      "cell_type": "code",
      "metadata": {
        "colab": {
          "base_uri": "https://localhost:8080/",
          "height": 351
        },
        "id": "1cPaWpj9_iTt",
        "outputId": "6fc8a87a-049f-4f54-8b81-7c0d6a8be65b"
      },
      "source": [
        "unlabelled = pd.read_csv(\"unlabelled data.csv\")\n",
        "unlabelled"
      ],
      "execution_count": 63,
      "outputs": [
        {
          "output_type": "execute_result",
          "data": {
            "text/html": [
              "<div>\n",
              "<style scoped>\n",
              "    .dataframe tbody tr th:only-of-type {\n",
              "        vertical-align: middle;\n",
              "    }\n",
              "\n",
              "    .dataframe tbody tr th {\n",
              "        vertical-align: top;\n",
              "    }\n",
              "\n",
              "    .dataframe thead th {\n",
              "        text-align: right;\n",
              "    }\n",
              "</style>\n",
              "<table border=\"1\" class=\"dataframe\">\n",
              "  <thead>\n",
              "    <tr style=\"text-align: right;\">\n",
              "      <th></th>\n",
              "      <th>ID</th>\n",
              "      <th>Marital Status</th>\n",
              "      <th>Gender</th>\n",
              "      <th>Income</th>\n",
              "      <th>Children</th>\n",
              "      <th>Education</th>\n",
              "      <th>Occupation</th>\n",
              "      <th>Home Owner</th>\n",
              "      <th>Cars</th>\n",
              "      <th>Commute Distance</th>\n",
              "      <th>Region</th>\n",
              "      <th>Age</th>\n",
              "    </tr>\n",
              "  </thead>\n",
              "  <tbody>\n",
              "    <tr>\n",
              "      <th>0</th>\n",
              "      <td>28283</td>\n",
              "      <td>Single</td>\n",
              "      <td>Female</td>\n",
              "      <td>100000</td>\n",
              "      <td>0</td>\n",
              "      <td>Bachelors</td>\n",
              "      <td>Professional</td>\n",
              "      <td>No</td>\n",
              "      <td>1</td>\n",
              "      <td>10+ Miles</td>\n",
              "      <td>Pacific</td>\n",
              "      <td>35</td>\n",
              "    </tr>\n",
              "    <tr>\n",
              "      <th>1</th>\n",
              "      <td>28299</td>\n",
              "      <td>Married</td>\n",
              "      <td>Male</td>\n",
              "      <td>70000</td>\n",
              "      <td>5</td>\n",
              "      <td>Partial College</td>\n",
              "      <td>Skilled Manual</td>\n",
              "      <td>Yes</td>\n",
              "      <td>1</td>\n",
              "      <td>5-10 Miles</td>\n",
              "      <td>Pacific</td>\n",
              "      <td>49</td>\n",
              "    </tr>\n",
              "    <tr>\n",
              "      <th>2</th>\n",
              "      <td>24400</td>\n",
              "      <td>Married</td>\n",
              "      <td>Male</td>\n",
              "      <td>10000</td>\n",
              "      <td>0</td>\n",
              "      <td>Bachelors</td>\n",
              "      <td>Manual</td>\n",
              "      <td>No</td>\n",
              "      <td>1</td>\n",
              "      <td>0-1 Miles</td>\n",
              "      <td>North America</td>\n",
              "      <td>21</td>\n",
              "    </tr>\n",
              "    <tr>\n",
              "      <th>3</th>\n",
              "      <td>22942</td>\n",
              "      <td>Single</td>\n",
              "      <td>Female</td>\n",
              "      <td>20000</td>\n",
              "      <td>0</td>\n",
              "      <td>High School</td>\n",
              "      <td>Manual</td>\n",
              "      <td>No</td>\n",
              "      <td>1</td>\n",
              "      <td>0-1 Miles</td>\n",
              "      <td>Europe</td>\n",
              "      <td>28</td>\n",
              "    </tr>\n",
              "    <tr>\n",
              "      <th>4</th>\n",
              "      <td>19484</td>\n",
              "      <td>Single</td>\n",
              "      <td>Male</td>\n",
              "      <td>80000</td>\n",
              "      <td>2</td>\n",
              "      <td>Graduate Degree</td>\n",
              "      <td>Skilled Manual</td>\n",
              "      <td>No</td>\n",
              "      <td>2</td>\n",
              "      <td>5-10 Miles</td>\n",
              "      <td>Pacific</td>\n",
              "      <td>50</td>\n",
              "    </tr>\n",
              "    <tr>\n",
              "      <th>5</th>\n",
              "      <td>22291</td>\n",
              "      <td>Single</td>\n",
              "      <td>Male</td>\n",
              "      <td>90000</td>\n",
              "      <td>5</td>\n",
              "      <td>Partial College</td>\n",
              "      <td>Professional</td>\n",
              "      <td>No</td>\n",
              "      <td>2</td>\n",
              "      <td>2-5 Miles</td>\n",
              "      <td>Europe</td>\n",
              "      <td>32</td>\n",
              "    </tr>\n",
              "    <tr>\n",
              "      <th>6</th>\n",
              "      <td>38380</td>\n",
              "      <td>Single</td>\n",
              "      <td>Female</td>\n",
              "      <td>10000</td>\n",
              "      <td>5</td>\n",
              "      <td>Partial High School</td>\n",
              "      <td>Professional</td>\n",
              "      <td>No</td>\n",
              "      <td>2</td>\n",
              "      <td>2-5 Miles</td>\n",
              "      <td>Europe</td>\n",
              "      <td>31</td>\n",
              "    </tr>\n",
              "    <tr>\n",
              "      <th>7</th>\n",
              "      <td>27891</td>\n",
              "      <td>Married</td>\n",
              "      <td>Female</td>\n",
              "      <td>10000</td>\n",
              "      <td>2</td>\n",
              "      <td>Partial College</td>\n",
              "      <td>Manual</td>\n",
              "      <td>Yes</td>\n",
              "      <td>1</td>\n",
              "      <td>5-10 Miles</td>\n",
              "      <td>Pacific</td>\n",
              "      <td>50</td>\n",
              "    </tr>\n",
              "    <tr>\n",
              "      <th>8</th>\n",
              "      <td>37832</td>\n",
              "      <td>Single</td>\n",
              "      <td>Female</td>\n",
              "      <td>30000</td>\n",
              "      <td>0</td>\n",
              "      <td>Partial College</td>\n",
              "      <td>Clerical</td>\n",
              "      <td>No</td>\n",
              "      <td>1</td>\n",
              "      <td>2-5 Miles</td>\n",
              "      <td>North America</td>\n",
              "      <td>40</td>\n",
              "    </tr>\n",
              "    <tr>\n",
              "      <th>9</th>\n",
              "      <td>36863</td>\n",
              "      <td>Single</td>\n",
              "      <td>Male</td>\n",
              "      <td>20000</td>\n",
              "      <td>0</td>\n",
              "      <td>High School</td>\n",
              "      <td>Management</td>\n",
              "      <td>No</td>\n",
              "      <td>1</td>\n",
              "      <td>1-2 Miles</td>\n",
              "      <td>Europe</td>\n",
              "      <td>28</td>\n",
              "    </tr>\n",
              "  </tbody>\n",
              "</table>\n",
              "</div>"
            ],
            "text/plain": [
              "      ID Marital Status  Gender  ...  Commute Distance         Region Age\n",
              "0  28283         Single  Female  ...         10+ Miles        Pacific  35\n",
              "1  28299        Married    Male  ...        5-10 Miles        Pacific  49\n",
              "2  24400        Married    Male  ...         0-1 Miles  North America  21\n",
              "3  22942         Single  Female  ...         0-1 Miles         Europe  28\n",
              "4  19484         Single    Male  ...        5-10 Miles        Pacific  50\n",
              "5  22291         Single    Male  ...         2-5 Miles         Europe  32\n",
              "6  38380         Single  Female  ...         2-5 Miles         Europe  31\n",
              "7  27891        Married  Female  ...        5-10 Miles        Pacific  50\n",
              "8  37832         Single  Female  ...         2-5 Miles  North America  40\n",
              "9  36863         Single    Male  ...         1-2 Miles         Europe  28\n",
              "\n",
              "[10 rows x 12 columns]"
            ]
          },
          "metadata": {
            "tags": []
          },
          "execution_count": 63
        }
      ]
    },
    {
      "cell_type": "code",
      "metadata": {
        "id": "cNwvtRsQBDEk"
      },
      "source": [
        "unlabelled.drop(['ID'], axis = 1, inplace = True)\n",
        "unlabelled = pd.get_dummies(unlabelled)"
      ],
      "execution_count": 64,
      "outputs": []
    },
    {
      "cell_type": "code",
      "metadata": {
        "colab": {
          "base_uri": "https://localhost:8080/"
        },
        "id": "M9BI_vboBNR0",
        "outputId": "0a3862bf-8560-4ea0-8f23-2ccbb2e80913"
      },
      "source": [
        "unlabelled.info()"
      ],
      "execution_count": 65,
      "outputs": [
        {
          "output_type": "stream",
          "text": [
            "<class 'pandas.core.frame.DataFrame'>\n",
            "RangeIndex: 10 entries, 0 to 9\n",
            "Data columns (total 28 columns):\n",
            " #   Column                         Non-Null Count  Dtype\n",
            "---  ------                         --------------  -----\n",
            " 0   Income                         10 non-null     int64\n",
            " 1   Children                       10 non-null     int64\n",
            " 2   Cars                           10 non-null     int64\n",
            " 3   Age                            10 non-null     int64\n",
            " 4   Marital Status_Married         10 non-null     uint8\n",
            " 5   Marital Status_Single          10 non-null     uint8\n",
            " 6   Gender_Female                  10 non-null     uint8\n",
            " 7   Gender_Male                    10 non-null     uint8\n",
            " 8   Education_Bachelors            10 non-null     uint8\n",
            " 9   Education_Graduate Degree      10 non-null     uint8\n",
            " 10  Education_High School          10 non-null     uint8\n",
            " 11  Education_Partial College      10 non-null     uint8\n",
            " 12  Education_Partial High School  10 non-null     uint8\n",
            " 13  Occupation_Clerical            10 non-null     uint8\n",
            " 14  Occupation_Management          10 non-null     uint8\n",
            " 15  Occupation_Manual              10 non-null     uint8\n",
            " 16  Occupation_Professional        10 non-null     uint8\n",
            " 17  Occupation_Skilled Manual      10 non-null     uint8\n",
            " 18  Home Owner_No                  10 non-null     uint8\n",
            " 19  Home Owner_Yes                 10 non-null     uint8\n",
            " 20  Commute Distance_0-1 Miles     10 non-null     uint8\n",
            " 21  Commute Distance_1-2 Miles     10 non-null     uint8\n",
            " 22  Commute Distance_10+ Miles     10 non-null     uint8\n",
            " 23  Commute Distance_2-5 Miles     10 non-null     uint8\n",
            " 24  Commute Distance_5-10 Miles    10 non-null     uint8\n",
            " 25  Region_Europe                  10 non-null     uint8\n",
            " 26  Region_North America           10 non-null     uint8\n",
            " 27  Region_Pacific                 10 non-null     uint8\n",
            "dtypes: int64(4), uint8(24)\n",
            "memory usage: 688.0 bytes\n"
          ],
          "name": "stdout"
        }
      ]
    },
    {
      "cell_type": "code",
      "metadata": {
        "id": "dwbej13SMn22"
      },
      "source": [
        "predictions = clf.predict(unlabelled)"
      ],
      "execution_count": 66,
      "outputs": []
    },
    {
      "cell_type": "code",
      "metadata": {
        "colab": {
          "base_uri": "https://localhost:8080/"
        },
        "id": "9LO_dGxU_rvu",
        "outputId": "9b4a9e32-07e0-4fca-d08d-93cd57e19deb"
      },
      "source": [
        "from google.colab import files\n",
        "columns_titles = [\"row_id\",\"Purchased Bike\"]\n",
        "predictions_df = pd.DataFrame(predictions)\n",
        "predictions_df['row_id'] = predictions_df.index\n",
        "predictions_df.rename(columns = {0: 'Purchased Bike'}, inplace = True)\n",
        "predictions_df['Purchased Bike']= predictions_df['Purchased Bike'].astype(int)\n",
        "predictions_df=predictions_df.reindex(columns=columns_titles)\n",
        "print(predictions_df)"
      ],
      "execution_count": 67,
      "outputs": [
        {
          "output_type": "stream",
          "text": [
            "   row_id  Purchased Bike\n",
            "0       0               1\n",
            "1       1               0\n",
            "2       2               0\n",
            "3       3               0\n",
            "4       4               1\n",
            "5       5               0\n",
            "6       6               0\n",
            "7       7               1\n",
            "8       8               1\n",
            "9       9               0\n"
          ],
          "name": "stdout"
        }
      ]
    },
    {
      "cell_type": "code",
      "metadata": {
        "colab": {
          "base_uri": "https://localhost:8080/"
        },
        "id": "3hIM_fWTEACI",
        "outputId": "1cd1e5db-ce6e-4ea6-de76-dc8931550eb5"
      },
      "source": [
        "predictions_df['Purchased Bike'].value_counts()"
      ],
      "execution_count": 68,
      "outputs": [
        {
          "output_type": "execute_result",
          "data": {
            "text/plain": [
              "0    6\n",
              "1    4\n",
              "Name: Purchased Bike, dtype: int64"
            ]
          },
          "metadata": {
            "tags": []
          },
          "execution_count": 68
        }
      ]
    },
    {
      "cell_type": "code",
      "metadata": {
        "colab": {
          "base_uri": "https://localhost:8080/",
          "height": 337
        },
        "id": "TKXwtUicIjir",
        "outputId": "8e2ea199-eb7f-4f50-d12c-29748abf85db"
      },
      "source": [
        "x = ['No', 'Yes']\n",
        "y = [6, 4]\n",
        "\n",
        "plt.figure(figsize=(7,5))\n",
        "plt.bar(x,y, color='violet')\n",
        "plt.title('Frequency of purchased bike', fontsize=14)\n",
        "for index,data in enumerate(y):\n",
        "    plt.text(x=index , y =data , s=f\"{data}\" , fontdict=dict(fontsize=12), ha='center')\n",
        "plt.show()"
      ],
      "execution_count": 69,
      "outputs": [
        {
          "output_type": "display_data",
          "data": {
            "image/png": "[encoded data removed]",
            "text/plain": [
              "<Figure size 504x360 with 1 Axes>"
            ]
          },
          "metadata": {
            "tags": [],
            "needs_background": "light"
          }
        }
      ]
    },
    {
      "cell_type": "markdown",
      "metadata": {
        "id": "wYH-wkHGD_v6"
      },
      "source": [
        "7. Feature Importances"
      ]
    },
    {
      "cell_type": "code",
      "metadata": {
        "colab": {
          "base_uri": "https://localhost:8080/",
          "height": 1000
        },
        "id": "GlNarxAE-88C",
        "outputId": "3bcfb700-d462-4788-d543-51512cd8c635"
      },
      "source": [
        "from sklearn.ensemble import ExtraTreesClassifier\n",
        "\n",
        "model = ExtraTreesClassifier()\n",
        "model.fit(features, labels)\n",
        "\n",
        "print(model.feature_importances_)\n",
        "\n",
        "from pandas import DataFrame\n",
        "FI = DataFrame(model.feature_importances_, columns = [\"Extratrees\"], index=features.columns)\n",
        "\n",
        "FI.sort_values(['Extratrees'],ascending=0)"
      ],
      "execution_count": 70,
      "outputs": [
        {
          "output_type": "stream",
          "text": [
            "/usr/local/lib/python3.7/dist-packages/ipykernel_launcher.py:4: DataConversionWarning: A column-vector y was passed when a 1d array was expected. Please change the shape of y to (n_samples,), for example using ravel().\n",
            "  after removing the cwd from sys.path.\n"
          ],
          "name": "stderr"
        },
        {
          "output_type": "stream",
          "text": [
            "[0.10849764 0.10156172 0.08038345 0.19915797 0.02171268 0.02222813\n",
            " 0.0345132  0.03268451 0.0213905  0.01702271 0.01951096 0.02152087\n",
            " 0.01656144 0.01628989 0.01360247 0.01020152 0.02118736 0.0174143\n",
            " 0.025327   0.02333926 0.02907451 0.02398625 0.02078105 0.02249259\n",
            " 0.02173921 0.01496075 0.02337498 0.01948307]\n"
          ],
          "name": "stdout"
        },
        {
          "output_type": "execute_result",
          "data": {
            "text/html": [
              "<div>\n",
              "<style scoped>\n",
              "    .dataframe tbody tr th:only-of-type {\n",
              "        vertical-align: middle;\n",
              "    }\n",
              "\n",
              "    .dataframe tbody tr th {\n",
              "        vertical-align: top;\n",
              "    }\n",
              "\n",
              "    .dataframe thead th {\n",
              "        text-align: right;\n",
              "    }\n",
              "</style>\n",
              "<table border=\"1\" class=\"dataframe\">\n",
              "  <thead>\n",
              "    <tr style=\"text-align: right;\">\n",
              "      <th></th>\n",
              "      <th>Extratrees</th>\n",
              "    </tr>\n",
              "  </thead>\n",
              "  <tbody>\n",
              "    <tr>\n",
              "      <th>Age</th>\n",
              "      <td>0.199158</td>\n",
              "    </tr>\n",
              "    <tr>\n",
              "      <th>Income</th>\n",
              "      <td>0.108498</td>\n",
              "    </tr>\n",
              "    <tr>\n",
              "      <th>Children</th>\n",
              "      <td>0.101562</td>\n",
              "    </tr>\n",
              "    <tr>\n",
              "      <th>Cars</th>\n",
              "      <td>0.080383</td>\n",
              "    </tr>\n",
              "    <tr>\n",
              "      <th>Gender_Female</th>\n",
              "      <td>0.034513</td>\n",
              "    </tr>\n",
              "    <tr>\n",
              "      <th>Gender_Male</th>\n",
              "      <td>0.032685</td>\n",
              "    </tr>\n",
              "    <tr>\n",
              "      <th>Commute Distance_0-1 Miles</th>\n",
              "      <td>0.029075</td>\n",
              "    </tr>\n",
              "    <tr>\n",
              "      <th>Home Owner_No</th>\n",
              "      <td>0.025327</td>\n",
              "    </tr>\n",
              "    <tr>\n",
              "      <th>Commute Distance_1-2 Miles</th>\n",
              "      <td>0.023986</td>\n",
              "    </tr>\n",
              "    <tr>\n",
              "      <th>Region_North America</th>\n",
              "      <td>0.023375</td>\n",
              "    </tr>\n",
              "    <tr>\n",
              "      <th>Home Owner_Yes</th>\n",
              "      <td>0.023339</td>\n",
              "    </tr>\n",
              "    <tr>\n",
              "      <th>Commute Distance_2-5 Miles</th>\n",
              "      <td>0.022493</td>\n",
              "    </tr>\n",
              "    <tr>\n",
              "      <th>Marital Status_Single</th>\n",
              "      <td>0.022228</td>\n",
              "    </tr>\n",
              "    <tr>\n",
              "      <th>Commute Distance_5-10 Miles</th>\n",
              "      <td>0.021739</td>\n",
              "    </tr>\n",
              "    <tr>\n",
              "      <th>Marital Status_Married</th>\n",
              "      <td>0.021713</td>\n",
              "    </tr>\n",
              "    <tr>\n",
              "      <th>Education_Partial College</th>\n",
              "      <td>0.021521</td>\n",
              "    </tr>\n",
              "    <tr>\n",
              "      <th>Education_Bachelors</th>\n",
              "      <td>0.021390</td>\n",
              "    </tr>\n",
              "    <tr>\n",
              "      <th>Occupation_Professional</th>\n",
              "      <td>0.021187</td>\n",
              "    </tr>\n",
              "    <tr>\n",
              "      <th>Commute Distance_10+ Miles</th>\n",
              "      <td>0.020781</td>\n",
              "    </tr>\n",
              "    <tr>\n",
              "      <th>Education_High School</th>\n",
              "      <td>0.019511</td>\n",
              "    </tr>\n",
              "    <tr>\n",
              "      <th>Region_Pacific</th>\n",
              "      <td>0.019483</td>\n",
              "    </tr>\n",
              "    <tr>\n",
              "      <th>Occupation_Skilled Manual</th>\n",
              "      <td>0.017414</td>\n",
              "    </tr>\n",
              "    <tr>\n",
              "      <th>Education_Graduate Degree</th>\n",
              "      <td>0.017023</td>\n",
              "    </tr>\n",
              "    <tr>\n",
              "      <th>Education_Partial High School</th>\n",
              "      <td>0.016561</td>\n",
              "    </tr>\n",
              "    <tr>\n",
              "      <th>Occupation_Clerical</th>\n",
              "      <td>0.016290</td>\n",
              "    </tr>\n",
              "    <tr>\n",
              "      <th>Region_Europe</th>\n",
              "      <td>0.014961</td>\n",
              "    </tr>\n",
              "    <tr>\n",
              "      <th>Occupation_Management</th>\n",
              "      <td>0.013602</td>\n",
              "    </tr>\n",
              "    <tr>\n",
              "      <th>Occupation_Manual</th>\n",
              "      <td>0.010202</td>\n",
              "    </tr>\n",
              "  </tbody>\n",
              "</table>\n",
              "</div>"
            ],
            "text/plain": [
              "                               Extratrees\n",
              "Age                              0.199158\n",
              "Income                           0.108498\n",
              "Children                         0.101562\n",
              "Cars                             0.080383\n",
              "Gender_Female                    0.034513\n",
              "Gender_Male                      0.032685\n",
              "Commute Distance_0-1 Miles       0.029075\n",
              "Home Owner_No                    0.025327\n",
              "Commute Distance_1-2 Miles       0.023986\n",
              "Region_North America             0.023375\n",
              "Home Owner_Yes                   0.023339\n",
              "Commute Distance_2-5 Miles       0.022493\n",
              "Marital Status_Single            0.022228\n",
              "Commute Distance_5-10 Miles      0.021739\n",
              "Marital Status_Married           0.021713\n",
              "Education_Partial College        0.021521\n",
              "Education_Bachelors              0.021390\n",
              "Occupation_Professional          0.021187\n",
              "Commute Distance_10+ Miles       0.020781\n",
              "Education_High School            0.019511\n",
              "Region_Pacific                   0.019483\n",
              "Occupation_Skilled Manual        0.017414\n",
              "Education_Graduate Degree        0.017023\n",
              "Education_Partial High School    0.016561\n",
              "Occupation_Clerical              0.016290\n",
              "Region_Europe                    0.014961\n",
              "Occupation_Management            0.013602\n",
              "Occupation_Manual                0.010202"
            ]
          },
          "metadata": {
            "tags": []
          },
          "execution_count": 70
        }
      ]
    }
  ]
}