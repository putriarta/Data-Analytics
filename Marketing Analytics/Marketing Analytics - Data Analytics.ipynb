{
  "nbformat": 4,
  "nbformat_minor": 0,
  "metadata": {
    "colab": {
      "name": "Copy of  UAS IF654_Kelompok ke 5_Kelas D_Script.ipynb",
      "provenance": [],
      "collapsed_sections": []
    },
    "kernelspec": {
      "name": "python3",
      "display_name": "Python 3"
    },
    "language_info": {
      "name": "python"
    }
  },
  "cells": [
    {
      "cell_type": "markdown",
      "metadata": {
        "id": "D2UX_clumTrE"
      },
      "source": [
        "# Marketing Analytics - Shopee Code League 2020\n",
        "1. Importing 3 dataset\n",
        "2. Feature engineering data train di country, date, & domain\n",
        "3. Remove noise di last_open dll\n",
        "4. Merge data user ke data train\n",
        "5. Splitting data untuk modeling\n",
        "6. Perform classification pakai random forest, naive bayes, neural network\n",
        "7. Evaluasi model terbaik\n",
        "8. Prepare data test, feature engineering, merge ke data user\n",
        "9. Apply klasifikasi random forest\n",
        "10. Save result\n"
      ]
    },
    {
      "cell_type": "markdown",
      "metadata": {
        "id": "mpAjqC0YbBnR"
      },
      "source": [
        "**Source** - https://www.kaggle.com/c/open-shopee-code-league-marketing-analytics/overview"
      ]
    },
    {
      "cell_type": "code",
      "metadata": {
        "id": "AcxMz0_YrTg0"
      },
      "source": [
        "#import library\n",
        "import pandas as pd\n",
        "import numpy as np\n",
        "import matplotlib.pyplot as plt\n",
        "%matplotlib inline\n",
        "import seaborn as sns"
      ],
      "execution_count": null,
      "outputs": []
    },
    {
      "cell_type": "code",
      "metadata": {
        "colab": {
          "base_uri": "https://localhost:8080/"
        },
        "id": "4xSAYnJBroWt",
        "outputId": "a2899788-2db8-4670-cc15-149e99d3b25d"
      },
      "source": [
        "from google.colab import drive\n",
        "drive.mount('/gdrive')\n",
        "%cd /gdrive"
      ],
      "execution_count": null,
      "outputs": [
        {
          "output_type": "stream",
          "text": [
            "Mounted at /gdrive\n",
            "/gdrive\n"
          ],
          "name": "stdout"
        }
      ]
    },
    {
      "cell_type": "code",
      "metadata": {
        "colab": {
          "base_uri": "https://localhost:8080/"
        },
        "id": "HAgrSHKMrq00",
        "outputId": "626539e3-028b-4439-a628-d9e987a1cfb0"
      },
      "source": [
        "%cd \"My Drive/Marketing Analytics/\""
      ],
      "execution_count": null,
      "outputs": [
        {
          "output_type": "stream",
          "text": [
            "/gdrive/My Drive/Marketing Analytics\n"
          ],
          "name": "stdout"
        }
      ]
    },
    {
      "cell_type": "markdown",
      "metadata": {
        "id": "Vh1tDEjFv4zZ"
      },
      "source": [
        "## Importing Data & General Inspection (**Eksplorasi Data**)"
      ]
    },
    {
      "cell_type": "code",
      "metadata": {
        "id": "Q_iQhBhWr5Th"
      },
      "source": [
        "df_train = pd.read_csv(\"train.csv\")\n",
        "df_test = pd.read_csv(\"test.csv\")\n",
        "df_users = pd.read_csv(\"users.csv\")"
      ],
      "execution_count": null,
      "outputs": []
    },
    {
      "cell_type": "code",
      "metadata": {
        "colab": {
          "base_uri": "https://localhost:8080/",
          "height": 338
        },
        "id": "vWBCwMHgsH74",
        "outputId": "6196fae1-afdc-4a70-b3ff-b1ff311ada48"
      },
      "source": [
        "df_train.head()"
      ],
      "execution_count": null,
      "outputs": [
        {
          "output_type": "execute_result",
          "data": {
            "text/html": [
              "<div>\n",
              "<style scoped>\n",
              "    .dataframe tbody tr th:only-of-type {\n",
              "        vertical-align: middle;\n",
              "    }\n",
              "\n",
              "    .dataframe tbody tr th {\n",
              "        vertical-align: top;\n",
              "    }\n",
              "\n",
              "    .dataframe thead th {\n",
              "        text-align: right;\n",
              "    }\n",
              "</style>\n",
              "<table border=\"1\" class=\"dataframe\">\n",
              "  <thead>\n",
              "    <tr style=\"text-align: right;\">\n",
              "      <th></th>\n",
              "      <th>country_code</th>\n",
              "      <th>grass_date</th>\n",
              "      <th>user_id</th>\n",
              "      <th>subject_line_length</th>\n",
              "      <th>last_open_day</th>\n",
              "      <th>last_login_day</th>\n",
              "      <th>...</th>\n",
              "      <th>login_count_last_60_days</th>\n",
              "      <th>checkout_count_last_10_days</th>\n",
              "      <th>checkout_count_last_30_days</th>\n",
              "      <th>checkout_count_last_60_days</th>\n",
              "      <th>open_flag</th>\n",
              "      <th>row_id</th>\n",
              "    </tr>\n",
              "  </thead>\n",
              "  <tbody>\n",
              "    <tr>\n",
              "      <th>0</th>\n",
              "      <td>4</td>\n",
              "      <td>2019-07-16 00:00:00+08:00</td>\n",
              "      <td>43</td>\n",
              "      <td>44</td>\n",
              "      <td>19</td>\n",
              "      <td>6</td>\n",
              "      <td>...</td>\n",
              "      <td>99</td>\n",
              "      <td>0</td>\n",
              "      <td>5</td>\n",
              "      <td>10</td>\n",
              "      <td>0</td>\n",
              "      <td>0</td>\n",
              "    </tr>\n",
              "    <tr>\n",
              "      <th>1</th>\n",
              "      <td>4</td>\n",
              "      <td>2019-07-16 00:00:00+08:00</td>\n",
              "      <td>102</td>\n",
              "      <td>44</td>\n",
              "      <td>9</td>\n",
              "      <td>4</td>\n",
              "      <td>...</td>\n",
              "      <td>90</td>\n",
              "      <td>1</td>\n",
              "      <td>1</td>\n",
              "      <td>4</td>\n",
              "      <td>1</td>\n",
              "      <td>1</td>\n",
              "    </tr>\n",
              "    <tr>\n",
              "      <th>2</th>\n",
              "      <td>6</td>\n",
              "      <td>2019-07-16 00:00:00+08:00</td>\n",
              "      <td>177</td>\n",
              "      <td>49</td>\n",
              "      <td>14</td>\n",
              "      <td>5</td>\n",
              "      <td>...</td>\n",
              "      <td>119</td>\n",
              "      <td>5</td>\n",
              "      <td>19</td>\n",
              "      <td>27</td>\n",
              "      <td>0</td>\n",
              "      <td>2</td>\n",
              "    </tr>\n",
              "    <tr>\n",
              "      <th>3</th>\n",
              "      <td>1</td>\n",
              "      <td>2019-07-16 00:00:00+08:00</td>\n",
              "      <td>184</td>\n",
              "      <td>49</td>\n",
              "      <td>49</td>\n",
              "      <td>9</td>\n",
              "      <td>...</td>\n",
              "      <td>69</td>\n",
              "      <td>1</td>\n",
              "      <td>3</td>\n",
              "      <td>6</td>\n",
              "      <td>0</td>\n",
              "      <td>3</td>\n",
              "    </tr>\n",
              "    <tr>\n",
              "      <th>4</th>\n",
              "      <td>6</td>\n",
              "      <td>2019-07-16 00:00:00+08:00</td>\n",
              "      <td>221</td>\n",
              "      <td>49</td>\n",
              "      <td>227</td>\n",
              "      <td>6</td>\n",
              "      <td>...</td>\n",
              "      <td>5</td>\n",
              "      <td>0</td>\n",
              "      <td>0</td>\n",
              "      <td>0</td>\n",
              "      <td>0</td>\n",
              "      <td>4</td>\n",
              "    </tr>\n",
              "  </tbody>\n",
              "</table>\n",
              "<p>5 rows × 18 columns</p>\n",
              "</div>"
            ],
            "text/plain": [
              "   country_code                 grass_date  user_id  subject_line_length  \\\n",
              "0             4  2019-07-16 00:00:00+08:00       43                   44   \n",
              "1             4  2019-07-16 00:00:00+08:00      102                   44   \n",
              "2             6  2019-07-16 00:00:00+08:00      177                   49   \n",
              "3             1  2019-07-16 00:00:00+08:00      184                   49   \n",
              "4             6  2019-07-16 00:00:00+08:00      221                   49   \n",
              "\n",
              "  last_open_day last_login_day  ... login_count_last_60_days  \\\n",
              "0            19              6  ...                       99   \n",
              "1             9              4  ...                       90   \n",
              "2            14              5  ...                      119   \n",
              "3            49              9  ...                       69   \n",
              "4           227              6  ...                        5   \n",
              "\n",
              "   checkout_count_last_10_days  checkout_count_last_30_days  \\\n",
              "0                            0                            5   \n",
              "1                            1                            1   \n",
              "2                            5                           19   \n",
              "3                            1                            3   \n",
              "4                            0                            0   \n",
              "\n",
              "   checkout_count_last_60_days  open_flag  row_id  \n",
              "0                           10          0       0  \n",
              "1                            4          1       1  \n",
              "2                           27          0       2  \n",
              "3                            6          0       3  \n",
              "4                            0          0       4  \n",
              "\n",
              "[5 rows x 18 columns]"
            ]
          },
          "metadata": {
            "tags": []
          },
          "execution_count": 35
        }
      ]
    },
    {
      "cell_type": "code",
      "metadata": {
        "id": "qOiHzx3MN2-s"
      },
      "source": [
        "pd.set_option('display.max_columns',13)"
      ],
      "execution_count": null,
      "outputs": []
    },
    {
      "cell_type": "code",
      "metadata": {
        "colab": {
          "base_uri": "https://localhost:8080/"
        },
        "id": "uEv_BXvyODJK",
        "outputId": "c0d758f4-f539-410e-bd9a-c26075216d3b"
      },
      "source": [
        "df_train.info()"
      ],
      "execution_count": null,
      "outputs": [
        {
          "output_type": "stream",
          "text": [
            "<class 'pandas.core.frame.DataFrame'>\n",
            "RangeIndex: 73539 entries, 0 to 73538\n",
            "Data columns (total 18 columns):\n",
            " #   Column                       Non-Null Count  Dtype \n",
            "---  ------                       --------------  ----- \n",
            " 0   country_code                 73539 non-null  int64 \n",
            " 1   grass_date                   73539 non-null  object\n",
            " 2   user_id                      73539 non-null  int64 \n",
            " 3   subject_line_length          73539 non-null  int64 \n",
            " 4   last_open_day                73539 non-null  object\n",
            " 5   last_login_day               73539 non-null  object\n",
            " 6   last_checkout_day            73539 non-null  object\n",
            " 7   open_count_last_10_days      73539 non-null  int64 \n",
            " 8   open_count_last_30_days      73539 non-null  int64 \n",
            " 9   open_count_last_60_days      73539 non-null  int64 \n",
            " 10  login_count_last_10_days     73539 non-null  int64 \n",
            " 11  login_count_last_30_days     73539 non-null  int64 \n",
            " 12  login_count_last_60_days     73539 non-null  int64 \n",
            " 13  checkout_count_last_10_days  73539 non-null  int64 \n",
            " 14  checkout_count_last_30_days  73539 non-null  int64 \n",
            " 15  checkout_count_last_60_days  73539 non-null  int64 \n",
            " 16  open_flag                    73539 non-null  int64 \n",
            " 17  row_id                       73539 non-null  int64 \n",
            "dtypes: int64(14), object(4)\n",
            "memory usage: 10.1+ MB\n"
          ],
          "name": "stdout"
        }
      ]
    },
    {
      "cell_type": "code",
      "metadata": {
        "colab": {
          "base_uri": "https://localhost:8080/",
          "height": 346
        },
        "id": "I5QAl-bR-ajT",
        "outputId": "bf36c3d0-0272-4e30-9570-852e854ca01e"
      },
      "source": [
        "df_train.describe()"
      ],
      "execution_count": null,
      "outputs": [
        {
          "output_type": "execute_result",
          "data": {
            "text/html": [
              "<div>\n",
              "<style scoped>\n",
              "    .dataframe tbody tr th:only-of-type {\n",
              "        vertical-align: middle;\n",
              "    }\n",
              "\n",
              "    .dataframe tbody tr th {\n",
              "        vertical-align: top;\n",
              "    }\n",
              "\n",
              "    .dataframe thead th {\n",
              "        text-align: right;\n",
              "    }\n",
              "</style>\n",
              "<table border=\"1\" class=\"dataframe\">\n",
              "  <thead>\n",
              "    <tr style=\"text-align: right;\">\n",
              "      <th></th>\n",
              "      <th>country_code</th>\n",
              "      <th>user_id</th>\n",
              "      <th>subject_line_length</th>\n",
              "      <th>open_count_last_10_days</th>\n",
              "      <th>open_count_last_30_days</th>\n",
              "      <th>open_count_last_60_days</th>\n",
              "      <th>...</th>\n",
              "      <th>login_count_last_60_days</th>\n",
              "      <th>checkout_count_last_10_days</th>\n",
              "      <th>checkout_count_last_30_days</th>\n",
              "      <th>checkout_count_last_60_days</th>\n",
              "      <th>open_flag</th>\n",
              "      <th>row_id</th>\n",
              "    </tr>\n",
              "  </thead>\n",
              "  <tbody>\n",
              "    <tr>\n",
              "      <th>count</th>\n",
              "      <td>73539.000000</td>\n",
              "      <td>73539.000000</td>\n",
              "      <td>73539.000000</td>\n",
              "      <td>73539.000000</td>\n",
              "      <td>73539.000000</td>\n",
              "      <td>73539.000000</td>\n",
              "      <td>...</td>\n",
              "      <td>73539.000000</td>\n",
              "      <td>73539.000000</td>\n",
              "      <td>73539.000000</td>\n",
              "      <td>73539.000000</td>\n",
              "      <td>73539.000000</td>\n",
              "      <td>73539.00000</td>\n",
              "    </tr>\n",
              "    <tr>\n",
              "      <th>mean</th>\n",
              "      <td>2.533159</td>\n",
              "      <td>63048.595358</td>\n",
              "      <td>43.656373</td>\n",
              "      <td>0.911829</td>\n",
              "      <td>2.780457</td>\n",
              "      <td>5.019364</td>\n",
              "      <td>...</td>\n",
              "      <td>49.010430</td>\n",
              "      <td>0.909898</td>\n",
              "      <td>2.796040</td>\n",
              "      <td>5.420960</td>\n",
              "      <td>0.155781</td>\n",
              "      <td>36769.00000</td>\n",
              "    </tr>\n",
              "    <tr>\n",
              "      <th>std</th>\n",
              "      <td>1.675251</td>\n",
              "      <td>36068.006037</td>\n",
              "      <td>11.219323</td>\n",
              "      <td>1.754052</td>\n",
              "      <td>4.570239</td>\n",
              "      <td>7.902313</td>\n",
              "      <td>...</td>\n",
              "      <td>71.819327</td>\n",
              "      <td>2.887416</td>\n",
              "      <td>7.686064</td>\n",
              "      <td>13.980182</td>\n",
              "      <td>0.362650</td>\n",
              "      <td>21229.02506</td>\n",
              "    </tr>\n",
              "    <tr>\n",
              "      <th>min</th>\n",
              "      <td>1.000000</td>\n",
              "      <td>2.000000</td>\n",
              "      <td>10.000000</td>\n",
              "      <td>0.000000</td>\n",
              "      <td>0.000000</td>\n",
              "      <td>0.000000</td>\n",
              "      <td>...</td>\n",
              "      <td>0.000000</td>\n",
              "      <td>0.000000</td>\n",
              "      <td>0.000000</td>\n",
              "      <td>0.000000</td>\n",
              "      <td>0.000000</td>\n",
              "      <td>0.00000</td>\n",
              "    </tr>\n",
              "    <tr>\n",
              "      <th>25%</th>\n",
              "      <td>1.000000</td>\n",
              "      <td>31679.500000</td>\n",
              "      <td>34.000000</td>\n",
              "      <td>0.000000</td>\n",
              "      <td>0.000000</td>\n",
              "      <td>0.000000</td>\n",
              "      <td>...</td>\n",
              "      <td>3.000000</td>\n",
              "      <td>0.000000</td>\n",
              "      <td>0.000000</td>\n",
              "      <td>0.000000</td>\n",
              "      <td>0.000000</td>\n",
              "      <td>18384.50000</td>\n",
              "    </tr>\n",
              "    <tr>\n",
              "      <th>50%</th>\n",
              "      <td>2.000000</td>\n",
              "      <td>63340.000000</td>\n",
              "      <td>43.000000</td>\n",
              "      <td>0.000000</td>\n",
              "      <td>1.000000</td>\n",
              "      <td>2.000000</td>\n",
              "      <td>...</td>\n",
              "      <td>22.000000</td>\n",
              "      <td>0.000000</td>\n",
              "      <td>0.000000</td>\n",
              "      <td>1.000000</td>\n",
              "      <td>0.000000</td>\n",
              "      <td>36769.00000</td>\n",
              "    </tr>\n",
              "    <tr>\n",
              "      <th>75%</th>\n",
              "      <td>3.000000</td>\n",
              "      <td>94731.500000</td>\n",
              "      <td>52.000000</td>\n",
              "      <td>1.000000</td>\n",
              "      <td>3.000000</td>\n",
              "      <td>6.000000</td>\n",
              "      <td>...</td>\n",
              "      <td>69.000000</td>\n",
              "      <td>1.000000</td>\n",
              "      <td>3.000000</td>\n",
              "      <td>6.000000</td>\n",
              "      <td>0.000000</td>\n",
              "      <td>55153.50000</td>\n",
              "    </tr>\n",
              "    <tr>\n",
              "      <th>max</th>\n",
              "      <td>7.000000</td>\n",
              "      <td>127925.000000</td>\n",
              "      <td>75.000000</td>\n",
              "      <td>31.000000</td>\n",
              "      <td>92.000000</td>\n",
              "      <td>135.000000</td>\n",
              "      <td>...</td>\n",
              "      <td>1260.000000</td>\n",
              "      <td>157.000000</td>\n",
              "      <td>531.000000</td>\n",
              "      <td>783.000000</td>\n",
              "      <td>1.000000</td>\n",
              "      <td>73538.00000</td>\n",
              "    </tr>\n",
              "  </tbody>\n",
              "</table>\n",
              "<p>8 rows × 14 columns</p>\n",
              "</div>"
            ],
            "text/plain": [
              "       country_code        user_id  subject_line_length  \\\n",
              "count  73539.000000   73539.000000         73539.000000   \n",
              "mean       2.533159   63048.595358            43.656373   \n",
              "std        1.675251   36068.006037            11.219323   \n",
              "min        1.000000       2.000000            10.000000   \n",
              "25%        1.000000   31679.500000            34.000000   \n",
              "50%        2.000000   63340.000000            43.000000   \n",
              "75%        3.000000   94731.500000            52.000000   \n",
              "max        7.000000  127925.000000            75.000000   \n",
              "\n",
              "       open_count_last_10_days  open_count_last_30_days  \\\n",
              "count             73539.000000             73539.000000   \n",
              "mean                  0.911829                 2.780457   \n",
              "std                   1.754052                 4.570239   \n",
              "min                   0.000000                 0.000000   \n",
              "25%                   0.000000                 0.000000   \n",
              "50%                   0.000000                 1.000000   \n",
              "75%                   1.000000                 3.000000   \n",
              "max                  31.000000                92.000000   \n",
              "\n",
              "       open_count_last_60_days  ...  login_count_last_60_days  \\\n",
              "count             73539.000000  ...              73539.000000   \n",
              "mean                  5.019364  ...                 49.010430   \n",
              "std                   7.902313  ...                 71.819327   \n",
              "min                   0.000000  ...                  0.000000   \n",
              "25%                   0.000000  ...                  3.000000   \n",
              "50%                   2.000000  ...                 22.000000   \n",
              "75%                   6.000000  ...                 69.000000   \n",
              "max                 135.000000  ...               1260.000000   \n",
              "\n",
              "       checkout_count_last_10_days  checkout_count_last_30_days  \\\n",
              "count                 73539.000000                 73539.000000   \n",
              "mean                      0.909898                     2.796040   \n",
              "std                       2.887416                     7.686064   \n",
              "min                       0.000000                     0.000000   \n",
              "25%                       0.000000                     0.000000   \n",
              "50%                       0.000000                     0.000000   \n",
              "75%                       1.000000                     3.000000   \n",
              "max                     157.000000                   531.000000   \n",
              "\n",
              "       checkout_count_last_60_days     open_flag       row_id  \n",
              "count                 73539.000000  73539.000000  73539.00000  \n",
              "mean                      5.420960      0.155781  36769.00000  \n",
              "std                      13.980182      0.362650  21229.02506  \n",
              "min                       0.000000      0.000000      0.00000  \n",
              "25%                       0.000000      0.000000  18384.50000  \n",
              "50%                       1.000000      0.000000  36769.00000  \n",
              "75%                       6.000000      0.000000  55153.50000  \n",
              "max                     783.000000      1.000000  73538.00000  \n",
              "\n",
              "[8 rows x 14 columns]"
            ]
          },
          "metadata": {
            "tags": []
          },
          "execution_count": 38
        }
      ]
    },
    {
      "cell_type": "code",
      "metadata": {
        "colab": {
          "base_uri": "https://localhost:8080/"
        },
        "id": "LPZSv6_cIChA",
        "outputId": "dae5445f-a8bc-43a2-e3e6-40e04b513c8f"
      },
      "source": [
        "df_train['open_flag'].value_counts()"
      ],
      "execution_count": null,
      "outputs": [
        {
          "output_type": "execute_result",
          "data": {
            "text/plain": [
              "0    62083\n",
              "1    11456\n",
              "Name: open_flag, dtype: int64"
            ]
          },
          "metadata": {
            "tags": []
          },
          "execution_count": 39
        }
      ]
    },
    {
      "cell_type": "code",
      "metadata": {
        "colab": {
          "base_uri": "https://localhost:8080/",
          "height": 337
        },
        "id": "M8PbYSLogv41",
        "outputId": "d1cff0c8-d685-445a-d542-7733858fc100"
      },
      "source": [
        "plt.figure(figsize=(7,5))   #Width, height @ inch.\n",
        "x = ['0-not opened','1-opened']\n",
        "y = [62083, 11456]\n",
        "plt.bar(x,y, color='orange')\n",
        "plt.title('Frequency of opened email or not on data train', fontsize=14)\n",
        "for index,data in enumerate(y): #label/detail data\n",
        "    plt.text(x=index , y =data , s=f\"{data}\" , fontdict=dict(fontsize=12), ha='center')\n",
        "plt.show()"
      ],
      "execution_count": null,
      "outputs": [
        {
          "output_type": "display_data",
          "data": {
            "image/png": "[encoded data removed]",
            "text/plain": [
              "<Figure size 504x360 with 1 Axes>"
            ]
          },
          "metadata": {
            "tags": [],
            "needs_background": "light"
          }
        }
      ]
    },
    {
      "cell_type": "code",
      "metadata": {
        "colab": {
          "base_uri": "https://localhost:8080/",
          "height": 204
        },
        "id": "W4tJnvuUt2px",
        "outputId": "63bb8c2d-c0da-4379-8de2-c2d24b0d05bf"
      },
      "source": [
        "df_users.head()"
      ],
      "execution_count": null,
      "outputs": [
        {
          "output_type": "execute_result",
          "data": {
            "text/html": [
              "<div>\n",
              "<style scoped>\n",
              "    .dataframe tbody tr th:only-of-type {\n",
              "        vertical-align: middle;\n",
              "    }\n",
              "\n",
              "    .dataframe tbody tr th {\n",
              "        vertical-align: top;\n",
              "    }\n",
              "\n",
              "    .dataframe thead th {\n",
              "        text-align: right;\n",
              "    }\n",
              "</style>\n",
              "<table border=\"1\" class=\"dataframe\">\n",
              "  <thead>\n",
              "    <tr style=\"text-align: right;\">\n",
              "      <th></th>\n",
              "      <th>user_id</th>\n",
              "      <th>attr_1</th>\n",
              "      <th>attr_2</th>\n",
              "      <th>attr_3</th>\n",
              "      <th>age</th>\n",
              "      <th>domain</th>\n",
              "    </tr>\n",
              "  </thead>\n",
              "  <tbody>\n",
              "    <tr>\n",
              "      <th>0</th>\n",
              "      <td>0</td>\n",
              "      <td>NaN</td>\n",
              "      <td>1.0</td>\n",
              "      <td>0.0</td>\n",
              "      <td>NaN</td>\n",
              "      <td>@gmail.com</td>\n",
              "    </tr>\n",
              "    <tr>\n",
              "      <th>1</th>\n",
              "      <td>1</td>\n",
              "      <td>1.0</td>\n",
              "      <td>1.0</td>\n",
              "      <td>2.0</td>\n",
              "      <td>50.0</td>\n",
              "      <td>@gmail.com</td>\n",
              "    </tr>\n",
              "    <tr>\n",
              "      <th>2</th>\n",
              "      <td>2</td>\n",
              "      <td>NaN</td>\n",
              "      <td>1.0</td>\n",
              "      <td>0.0</td>\n",
              "      <td>NaN</td>\n",
              "      <td>other</td>\n",
              "    </tr>\n",
              "    <tr>\n",
              "      <th>3</th>\n",
              "      <td>3</td>\n",
              "      <td>NaN</td>\n",
              "      <td>1.0</td>\n",
              "      <td>0.0</td>\n",
              "      <td>NaN</td>\n",
              "      <td>@gmail.com</td>\n",
              "    </tr>\n",
              "    <tr>\n",
              "      <th>4</th>\n",
              "      <td>4</td>\n",
              "      <td>1.0</td>\n",
              "      <td>1.0</td>\n",
              "      <td>2.0</td>\n",
              "      <td>33.0</td>\n",
              "      <td>@gmail.com</td>\n",
              "    </tr>\n",
              "  </tbody>\n",
              "</table>\n",
              "</div>"
            ],
            "text/plain": [
              "   user_id  attr_1  attr_2  attr_3   age      domain\n",
              "0        0     NaN     1.0     0.0   NaN  @gmail.com\n",
              "1        1     1.0     1.0     2.0  50.0  @gmail.com\n",
              "2        2     NaN     1.0     0.0   NaN       other\n",
              "3        3     NaN     1.0     0.0   NaN  @gmail.com\n",
              "4        4     1.0     1.0     2.0  33.0  @gmail.com"
            ]
          },
          "metadata": {
            "tags": []
          },
          "execution_count": 41
        }
      ]
    },
    {
      "cell_type": "code",
      "metadata": {
        "id": "kW20nRukOUvi",
        "colab": {
          "base_uri": "https://localhost:8080/"
        },
        "outputId": "52304fa1-9387-4f6e-c482-e2f747682628"
      },
      "source": [
        "df_users.info()"
      ],
      "execution_count": null,
      "outputs": [
        {
          "output_type": "stream",
          "text": [
            "<class 'pandas.core.frame.DataFrame'>\n",
            "RangeIndex: 127886 entries, 0 to 127885\n",
            "Data columns (total 6 columns):\n",
            " #   Column   Non-Null Count   Dtype  \n",
            "---  ------   --------------   -----  \n",
            " 0   user_id  127886 non-null  int64  \n",
            " 1   attr_1   78987 non-null   float64\n",
            " 2   attr_2   127439 non-null  float64\n",
            " 3   attr_3   127886 non-null  float64\n",
            " 4   age      78987 non-null   float64\n",
            " 5   domain   127886 non-null  object \n",
            "dtypes: float64(4), int64(1), object(1)\n",
            "memory usage: 5.9+ MB\n"
          ],
          "name": "stdout"
        }
      ]
    },
    {
      "cell_type": "code",
      "metadata": {
        "colab": {
          "base_uri": "https://localhost:8080/",
          "height": 297
        },
        "id": "GT-MpzytNlNQ",
        "outputId": "63e03bc0-2e0a-4046-8d7c-0a5959bcc316"
      },
      "source": [
        "df_users.describe()"
      ],
      "execution_count": null,
      "outputs": [
        {
          "output_type": "execute_result",
          "data": {
            "text/html": [
              "<div>\n",
              "<style scoped>\n",
              "    .dataframe tbody tr th:only-of-type {\n",
              "        vertical-align: middle;\n",
              "    }\n",
              "\n",
              "    .dataframe tbody tr th {\n",
              "        vertical-align: top;\n",
              "    }\n",
              "\n",
              "    .dataframe thead th {\n",
              "        text-align: right;\n",
              "    }\n",
              "</style>\n",
              "<table border=\"1\" class=\"dataframe\">\n",
              "  <thead>\n",
              "    <tr style=\"text-align: right;\">\n",
              "      <th></th>\n",
              "      <th>user_id</th>\n",
              "      <th>attr_1</th>\n",
              "      <th>attr_2</th>\n",
              "      <th>attr_3</th>\n",
              "      <th>age</th>\n",
              "    </tr>\n",
              "  </thead>\n",
              "  <tbody>\n",
              "    <tr>\n",
              "      <th>count</th>\n",
              "      <td>127886.000000</td>\n",
              "      <td>78987.000000</td>\n",
              "      <td>127439.000000</td>\n",
              "      <td>127886.000000</td>\n",
              "      <td>78987.000000</td>\n",
              "    </tr>\n",
              "    <tr>\n",
              "      <th>mean</th>\n",
              "      <td>63961.168760</td>\n",
              "      <td>0.999823</td>\n",
              "      <td>0.998007</td>\n",
              "      <td>1.079782</td>\n",
              "      <td>31.370124</td>\n",
              "    </tr>\n",
              "    <tr>\n",
              "      <th>std</th>\n",
              "      <td>36928.842572</td>\n",
              "      <td>0.013312</td>\n",
              "      <td>0.044600</td>\n",
              "      <td>1.035413</td>\n",
              "      <td>11.591752</td>\n",
              "    </tr>\n",
              "    <tr>\n",
              "      <th>min</th>\n",
              "      <td>0.000000</td>\n",
              "      <td>0.000000</td>\n",
              "      <td>0.000000</td>\n",
              "      <td>0.000000</td>\n",
              "      <td>-17.000000</td>\n",
              "    </tr>\n",
              "    <tr>\n",
              "      <th>25%</th>\n",
              "      <td>31981.250000</td>\n",
              "      <td>1.000000</td>\n",
              "      <td>1.000000</td>\n",
              "      <td>0.000000</td>\n",
              "      <td>24.000000</td>\n",
              "    </tr>\n",
              "    <tr>\n",
              "      <th>50%</th>\n",
              "      <td>63958.500000</td>\n",
              "      <td>1.000000</td>\n",
              "      <td>1.000000</td>\n",
              "      <td>1.000000</td>\n",
              "      <td>29.000000</td>\n",
              "    </tr>\n",
              "    <tr>\n",
              "      <th>75%</th>\n",
              "      <td>95941.750000</td>\n",
              "      <td>1.000000</td>\n",
              "      <td>1.000000</td>\n",
              "      <td>2.000000</td>\n",
              "      <td>36.000000</td>\n",
              "    </tr>\n",
              "    <tr>\n",
              "      <th>max</th>\n",
              "      <td>127925.000000</td>\n",
              "      <td>1.000000</td>\n",
              "      <td>1.000000</td>\n",
              "      <td>4.000000</td>\n",
              "      <td>118.000000</td>\n",
              "    </tr>\n",
              "  </tbody>\n",
              "</table>\n",
              "</div>"
            ],
            "text/plain": [
              "             user_id        attr_1         attr_2         attr_3           age\n",
              "count  127886.000000  78987.000000  127439.000000  127886.000000  78987.000000\n",
              "mean    63961.168760      0.999823       0.998007       1.079782     31.370124\n",
              "std     36928.842572      0.013312       0.044600       1.035413     11.591752\n",
              "min         0.000000      0.000000       0.000000       0.000000    -17.000000\n",
              "25%     31981.250000      1.000000       1.000000       0.000000     24.000000\n",
              "50%     63958.500000      1.000000       1.000000       1.000000     29.000000\n",
              "75%     95941.750000      1.000000       1.000000       2.000000     36.000000\n",
              "max    127925.000000      1.000000       1.000000       4.000000    118.000000"
            ]
          },
          "metadata": {
            "tags": []
          },
          "execution_count": 43
        }
      ]
    },
    {
      "cell_type": "code",
      "metadata": {
        "colab": {
          "base_uri": "https://localhost:8080/"
        },
        "id": "eHkKz-6kesB7",
        "outputId": "69c10510-6823-4eb6-fb53-db8baf3316c8"
      },
      "source": [
        "df_users.isna().sum()   #jumlah missing values tiap kolom"
      ],
      "execution_count": null,
      "outputs": [
        {
          "output_type": "execute_result",
          "data": {
            "text/plain": [
              "user_id        0\n",
              "attr_1     48899\n",
              "attr_2       447\n",
              "attr_3         0\n",
              "age        48899\n",
              "domain         0\n",
              "dtype: int64"
            ]
          },
          "metadata": {
            "tags": []
          },
          "execution_count": 44
        }
      ]
    },
    {
      "cell_type": "code",
      "metadata": {
        "colab": {
          "base_uri": "https://localhost:8080/",
          "height": 367
        },
        "id": "4cxaT7kTTFFN",
        "outputId": "5cf1a08b-8afd-4c07-b52d-46b5d574f9db"
      },
      "source": [
        "plt.hist(df_users['age'], bins=12, color=\"skyblue\", edgecolor=\"black\")\n",
        "\n",
        "#atribut age di drop karena banyak yg ngisi usia tidak sesuai"
      ],
      "execution_count": null,
      "outputs": [
        {
          "output_type": "execute_result",
          "data": {
            "text/plain": [
              "(array([2.0000e+00, 4.2400e+02, 7.3400e+02, 3.1655e+04, 3.2773e+04,\n",
              "        1.0792e+04, 1.7420e+03, 3.1400e+02, 4.1000e+01, 1.1000e+01,\n",
              "        1.9000e+01, 4.8000e+02]),\n",
              " array([-17.  ,  -5.75,   5.5 ,  16.75,  28.  ,  39.25,  50.5 ,  61.75,\n",
              "         73.  ,  84.25,  95.5 , 106.75, 118.  ]),\n",
              " <a list of 12 Patch objects>)"
            ]
          },
          "metadata": {
            "tags": []
          },
          "execution_count": 45
        },
        {
          "output_type": "display_data",
          "data": {
            "image/png": "[encoded data removed]",
            "text/plain": [
              "<Figure size 432x288 with 1 Axes>"
            ]
          },
          "metadata": {
            "tags": [],
            "needs_background": "light"
          }
        }
      ]
    },
    {
      "cell_type": "code",
      "metadata": {
        "colab": {
          "base_uri": "https://localhost:8080/"
        },
        "id": "GAKVTWRHV1Wk",
        "outputId": "66cef5f7-7157-4d5f-8c11-b30a80002883"
      },
      "source": [
        "df_users['age'].value_counts()"
      ],
      "execution_count": null,
      "outputs": [
        {
          "output_type": "execute_result",
          "data": {
            "text/plain": [
              " 25.0     4064\n",
              " 24.0     3968\n",
              " 26.0     3962\n",
              " 27.0     3942\n",
              " 28.0     3872\n",
              "          ... \n",
              " 108.0       1\n",
              " 99.0        1\n",
              "-16.0        1\n",
              " 91.0        1\n",
              " 117.0       1\n",
              "Name: age, Length: 106, dtype: int64"
            ]
          },
          "metadata": {
            "tags": []
          },
          "execution_count": 46
        }
      ]
    },
    {
      "cell_type": "code",
      "metadata": {
        "colab": {
          "base_uri": "https://localhost:8080/",
          "height": 317
        },
        "id": "D2zQ8TEpNr8J",
        "outputId": "c2bae91e-e1b4-4af2-ca71-4ca0b3439dc1"
      },
      "source": [
        "df_test.describe()"
      ],
      "execution_count": null,
      "outputs": [
        {
          "output_type": "execute_result",
          "data": {
            "text/html": [
              "<div>\n",
              "<style scoped>\n",
              "    .dataframe tbody tr th:only-of-type {\n",
              "        vertical-align: middle;\n",
              "    }\n",
              "\n",
              "    .dataframe tbody tr th {\n",
              "        vertical-align: top;\n",
              "    }\n",
              "\n",
              "    .dataframe thead th {\n",
              "        text-align: right;\n",
              "    }\n",
              "</style>\n",
              "<table border=\"1\" class=\"dataframe\">\n",
              "  <thead>\n",
              "    <tr style=\"text-align: right;\">\n",
              "      <th></th>\n",
              "      <th>country_code</th>\n",
              "      <th>user_id</th>\n",
              "      <th>subject_line_length</th>\n",
              "      <th>open_count_last_10_days</th>\n",
              "      <th>open_count_last_30_days</th>\n",
              "      <th>open_count_last_60_days</th>\n",
              "      <th>login_count_last_10_days</th>\n",
              "      <th>login_count_last_30_days</th>\n",
              "      <th>login_count_last_60_days</th>\n",
              "      <th>checkout_count_last_10_days</th>\n",
              "      <th>checkout_count_last_30_days</th>\n",
              "      <th>checkout_count_last_60_days</th>\n",
              "      <th>row_id</th>\n",
              "    </tr>\n",
              "  </thead>\n",
              "  <tbody>\n",
              "    <tr>\n",
              "      <th>count</th>\n",
              "      <td>55970.000000</td>\n",
              "      <td>55970.000000</td>\n",
              "      <td>55970.000000</td>\n",
              "      <td>55970.000000</td>\n",
              "      <td>55970.000000</td>\n",
              "      <td>55970.000000</td>\n",
              "      <td>55970.000000</td>\n",
              "      <td>55970.000000</td>\n",
              "      <td>55970.000000</td>\n",
              "      <td>55970.000000</td>\n",
              "      <td>55970.000000</td>\n",
              "      <td>55970.000000</td>\n",
              "      <td>55970.00000</td>\n",
              "    </tr>\n",
              "    <tr>\n",
              "      <th>mean</th>\n",
              "      <td>2.835215</td>\n",
              "      <td>65049.007790</td>\n",
              "      <td>42.212703</td>\n",
              "      <td>0.774272</td>\n",
              "      <td>2.441880</td>\n",
              "      <td>5.323530</td>\n",
              "      <td>8.978899</td>\n",
              "      <td>26.289459</td>\n",
              "      <td>50.713882</td>\n",
              "      <td>1.124674</td>\n",
              "      <td>3.219385</td>\n",
              "      <td>5.933893</td>\n",
              "      <td>27984.50000</td>\n",
              "    </tr>\n",
              "    <tr>\n",
              "      <th>std</th>\n",
              "      <td>1.728489</td>\n",
              "      <td>37934.945847</td>\n",
              "      <td>12.276136</td>\n",
              "      <td>1.752984</td>\n",
              "      <td>4.786883</td>\n",
              "      <td>9.053473</td>\n",
              "      <td>13.975840</td>\n",
              "      <td>38.572656</td>\n",
              "      <td>73.289199</td>\n",
              "      <td>3.500704</td>\n",
              "      <td>8.197445</td>\n",
              "      <td>14.233715</td>\n",
              "      <td>16157.29162</td>\n",
              "    </tr>\n",
              "    <tr>\n",
              "      <th>min</th>\n",
              "      <td>1.000000</td>\n",
              "      <td>0.000000</td>\n",
              "      <td>11.000000</td>\n",
              "      <td>0.000000</td>\n",
              "      <td>0.000000</td>\n",
              "      <td>0.000000</td>\n",
              "      <td>0.000000</td>\n",
              "      <td>0.000000</td>\n",
              "      <td>0.000000</td>\n",
              "      <td>0.000000</td>\n",
              "      <td>0.000000</td>\n",
              "      <td>0.000000</td>\n",
              "      <td>0.00000</td>\n",
              "    </tr>\n",
              "    <tr>\n",
              "      <th>25%</th>\n",
              "      <td>1.000000</td>\n",
              "      <td>32293.250000</td>\n",
              "      <td>35.000000</td>\n",
              "      <td>0.000000</td>\n",
              "      <td>0.000000</td>\n",
              "      <td>0.000000</td>\n",
              "      <td>0.000000</td>\n",
              "      <td>2.000000</td>\n",
              "      <td>4.000000</td>\n",
              "      <td>0.000000</td>\n",
              "      <td>0.000000</td>\n",
              "      <td>0.000000</td>\n",
              "      <td>13992.25000</td>\n",
              "    </tr>\n",
              "    <tr>\n",
              "      <th>50%</th>\n",
              "      <td>3.000000</td>\n",
              "      <td>64683.000000</td>\n",
              "      <td>41.000000</td>\n",
              "      <td>0.000000</td>\n",
              "      <td>0.000000</td>\n",
              "      <td>2.000000</td>\n",
              "      <td>4.000000</td>\n",
              "      <td>13.000000</td>\n",
              "      <td>25.000000</td>\n",
              "      <td>0.000000</td>\n",
              "      <td>1.000000</td>\n",
              "      <td>2.000000</td>\n",
              "      <td>27984.50000</td>\n",
              "    </tr>\n",
              "    <tr>\n",
              "      <th>75%</th>\n",
              "      <td>4.000000</td>\n",
              "      <td>97776.500000</td>\n",
              "      <td>48.000000</td>\n",
              "      <td>1.000000</td>\n",
              "      <td>3.000000</td>\n",
              "      <td>6.000000</td>\n",
              "      <td>13.000000</td>\n",
              "      <td>36.000000</td>\n",
              "      <td>70.000000</td>\n",
              "      <td>1.000000</td>\n",
              "      <td>3.000000</td>\n",
              "      <td>7.000000</td>\n",
              "      <td>41976.75000</td>\n",
              "    </tr>\n",
              "    <tr>\n",
              "      <th>max</th>\n",
              "      <td>7.000000</td>\n",
              "      <td>127922.000000</td>\n",
              "      <td>79.000000</td>\n",
              "      <td>30.000000</td>\n",
              "      <td>79.000000</td>\n",
              "      <td>120.000000</td>\n",
              "      <td>329.000000</td>\n",
              "      <td>746.000000</td>\n",
              "      <td>1300.000000</td>\n",
              "      <td>252.000000</td>\n",
              "      <td>404.000000</td>\n",
              "      <td>609.000000</td>\n",
              "      <td>55969.00000</td>\n",
              "    </tr>\n",
              "  </tbody>\n",
              "</table>\n",
              "</div>"
            ],
            "text/plain": [
              "       country_code        user_id  subject_line_length  \\\n",
              "count  55970.000000   55970.000000         55970.000000   \n",
              "mean       2.835215   65049.007790            42.212703   \n",
              "std        1.728489   37934.945847            12.276136   \n",
              "min        1.000000       0.000000            11.000000   \n",
              "25%        1.000000   32293.250000            35.000000   \n",
              "50%        3.000000   64683.000000            41.000000   \n",
              "75%        4.000000   97776.500000            48.000000   \n",
              "max        7.000000  127922.000000            79.000000   \n",
              "\n",
              "       open_count_last_10_days  open_count_last_30_days  \\\n",
              "count             55970.000000             55970.000000   \n",
              "mean                  0.774272                 2.441880   \n",
              "std                   1.752984                 4.786883   \n",
              "min                   0.000000                 0.000000   \n",
              "25%                   0.000000                 0.000000   \n",
              "50%                   0.000000                 0.000000   \n",
              "75%                   1.000000                 3.000000   \n",
              "max                  30.000000                79.000000   \n",
              "\n",
              "       open_count_last_60_days  login_count_last_10_days  \\\n",
              "count             55970.000000              55970.000000   \n",
              "mean                  5.323530                  8.978899   \n",
              "std                   9.053473                 13.975840   \n",
              "min                   0.000000                  0.000000   \n",
              "25%                   0.000000                  0.000000   \n",
              "50%                   2.000000                  4.000000   \n",
              "75%                   6.000000                 13.000000   \n",
              "max                 120.000000                329.000000   \n",
              "\n",
              "       login_count_last_30_days  login_count_last_60_days  \\\n",
              "count              55970.000000              55970.000000   \n",
              "mean                  26.289459                 50.713882   \n",
              "std                   38.572656                 73.289199   \n",
              "min                    0.000000                  0.000000   \n",
              "25%                    2.000000                  4.000000   \n",
              "50%                   13.000000                 25.000000   \n",
              "75%                   36.000000                 70.000000   \n",
              "max                  746.000000               1300.000000   \n",
              "\n",
              "       checkout_count_last_10_days  checkout_count_last_30_days  \\\n",
              "count                 55970.000000                 55970.000000   \n",
              "mean                      1.124674                     3.219385   \n",
              "std                       3.500704                     8.197445   \n",
              "min                       0.000000                     0.000000   \n",
              "25%                       0.000000                     0.000000   \n",
              "50%                       0.000000                     1.000000   \n",
              "75%                       1.000000                     3.000000   \n",
              "max                     252.000000                   404.000000   \n",
              "\n",
              "       checkout_count_last_60_days       row_id  \n",
              "count                 55970.000000  55970.00000  \n",
              "mean                      5.933893  27984.50000  \n",
              "std                      14.233715  16157.29162  \n",
              "min                       0.000000      0.00000  \n",
              "25%                       0.000000  13992.25000  \n",
              "50%                       2.000000  27984.50000  \n",
              "75%                       7.000000  41976.75000  \n",
              "max                     609.000000  55969.00000  "
            ]
          },
          "metadata": {
            "tags": []
          },
          "execution_count": 47
        }
      ]
    },
    {
      "cell_type": "code",
      "metadata": {
        "id": "I5hdEIThOZFf",
        "colab": {
          "base_uri": "https://localhost:8080/"
        },
        "outputId": "e08eb961-66cd-4614-8267-00d85dbb6045"
      },
      "source": [
        "df_test.info()"
      ],
      "execution_count": null,
      "outputs": [
        {
          "output_type": "stream",
          "text": [
            "<class 'pandas.core.frame.DataFrame'>\n",
            "RangeIndex: 55970 entries, 0 to 55969\n",
            "Data columns (total 17 columns):\n",
            " #   Column                       Non-Null Count  Dtype \n",
            "---  ------                       --------------  ----- \n",
            " 0   country_code                 55970 non-null  int64 \n",
            " 1   grass_date                   55970 non-null  object\n",
            " 2   user_id                      55970 non-null  int64 \n",
            " 3   subject_line_length          55970 non-null  int64 \n",
            " 4   last_open_day                55970 non-null  object\n",
            " 5   last_login_day               55970 non-null  object\n",
            " 6   last_checkout_day            55970 non-null  object\n",
            " 7   open_count_last_10_days      55970 non-null  int64 \n",
            " 8   open_count_last_30_days      55970 non-null  int64 \n",
            " 9   open_count_last_60_days      55970 non-null  int64 \n",
            " 10  login_count_last_10_days     55970 non-null  int64 \n",
            " 11  login_count_last_30_days     55970 non-null  int64 \n",
            " 12  login_count_last_60_days     55970 non-null  int64 \n",
            " 13  checkout_count_last_10_days  55970 non-null  int64 \n",
            " 14  checkout_count_last_30_days  55970 non-null  int64 \n",
            " 15  checkout_count_last_60_days  55970 non-null  int64 \n",
            " 16  row_id                       55970 non-null  int64 \n",
            "dtypes: int64(13), object(4)\n",
            "memory usage: 7.3+ MB\n"
          ],
          "name": "stdout"
        }
      ]
    },
    {
      "cell_type": "markdown",
      "metadata": {
        "id": "7sn2aX-o-rQy"
      },
      "source": [
        "## **Pre-processing** (df_train): One hot encoding, remove noise, drop column, merge data\n",
        "\n",
        "\n",
        "\n"
      ]
    },
    {
      "cell_type": "code",
      "metadata": {
        "colab": {
          "base_uri": "https://localhost:8080/",
          "height": 204
        },
        "id": "Hht2DRoCoyPK",
        "outputId": "004a7022-c761-4cc1-82be-32b954a8c4a1"
      },
      "source": [
        "#create a new data frame for feature engineering \n",
        "\n",
        "# One-hot encoding country code column (1-7)\n",
        "df = df_train[['country_code']].copy()\n",
        "encoded_columns = pd.get_dummies(df['country_code'])\n",
        "df = df.join(encoded_columns).drop('country_code', axis=1)\n",
        "\n",
        "# Extract weekday date & month @ grass date\n",
        "df['weekday_date'] = pd.to_datetime(df_train.grass_date).dt.day_name()\n",
        "df['month'] = pd.to_datetime(df_train.grass_date).dt.month\n",
        "\n",
        "# Add subject line length column\n",
        "df['subject_line_length']=df_train['subject_line_length'].copy()\n",
        "\n",
        "# Convert last open day jadi tipe integer + set last open day jadi 0\n",
        "df['last_open_day'] = df_train.last_open_day.apply(lambda x: 1000 if x =='Never open' else x)\n",
        "df['last_open_day']=df['last_open_day'].astype(str).astype(int)\n",
        "\n",
        "# Convert last login day jadi tipe integer\n",
        "df['last_login_day'] = df_train.last_login_day.apply(lambda x: 20000 if x =='Never login' else x)\n",
        "df['last_login_day'] = df['last_login_day'].astype(str).astype(int)\n",
        "\n",
        "# Convert  last checkout day jadi tipe integer\n",
        "df['last_checkout_day'] = df_train.last_checkout_day.apply(lambda x: 1500 if x =='Never checkout' else x)\n",
        "df['last_checkout_day'] = df['last_checkout_day'].astype(str).astype(int)\n",
        "\n",
        "df.head(5)"
      ],
      "execution_count": null,
      "outputs": [
        {
          "output_type": "execute_result",
          "data": {
            "text/html": [
              "<div>\n",
              "<style scoped>\n",
              "    .dataframe tbody tr th:only-of-type {\n",
              "        vertical-align: middle;\n",
              "    }\n",
              "\n",
              "    .dataframe tbody tr th {\n",
              "        vertical-align: top;\n",
              "    }\n",
              "\n",
              "    .dataframe thead th {\n",
              "        text-align: right;\n",
              "    }\n",
              "</style>\n",
              "<table border=\"1\" class=\"dataframe\">\n",
              "  <thead>\n",
              "    <tr style=\"text-align: right;\">\n",
              "      <th></th>\n",
              "      <th>1</th>\n",
              "      <th>2</th>\n",
              "      <th>3</th>\n",
              "      <th>4</th>\n",
              "      <th>5</th>\n",
              "      <th>6</th>\n",
              "      <th>7</th>\n",
              "      <th>weekday_date</th>\n",
              "      <th>month</th>\n",
              "      <th>subject_line_length</th>\n",
              "      <th>last_open_day</th>\n",
              "      <th>last_login_day</th>\n",
              "      <th>last_checkout_day</th>\n",
              "    </tr>\n",
              "  </thead>\n",
              "  <tbody>\n",
              "    <tr>\n",
              "      <th>0</th>\n",
              "      <td>0</td>\n",
              "      <td>0</td>\n",
              "      <td>0</td>\n",
              "      <td>1</td>\n",
              "      <td>0</td>\n",
              "      <td>0</td>\n",
              "      <td>0</td>\n",
              "      <td>Tuesday</td>\n",
              "      <td>7</td>\n",
              "      <td>44</td>\n",
              "      <td>19</td>\n",
              "      <td>6</td>\n",
              "      <td>18</td>\n",
              "    </tr>\n",
              "    <tr>\n",
              "      <th>1</th>\n",
              "      <td>0</td>\n",
              "      <td>0</td>\n",
              "      <td>0</td>\n",
              "      <td>1</td>\n",
              "      <td>0</td>\n",
              "      <td>0</td>\n",
              "      <td>0</td>\n",
              "      <td>Tuesday</td>\n",
              "      <td>7</td>\n",
              "      <td>44</td>\n",
              "      <td>9</td>\n",
              "      <td>4</td>\n",
              "      <td>8</td>\n",
              "    </tr>\n",
              "    <tr>\n",
              "      <th>2</th>\n",
              "      <td>0</td>\n",
              "      <td>0</td>\n",
              "      <td>0</td>\n",
              "      <td>0</td>\n",
              "      <td>0</td>\n",
              "      <td>1</td>\n",
              "      <td>0</td>\n",
              "      <td>Tuesday</td>\n",
              "      <td>7</td>\n",
              "      <td>49</td>\n",
              "      <td>14</td>\n",
              "      <td>5</td>\n",
              "      <td>5</td>\n",
              "    </tr>\n",
              "    <tr>\n",
              "      <th>3</th>\n",
              "      <td>1</td>\n",
              "      <td>0</td>\n",
              "      <td>0</td>\n",
              "      <td>0</td>\n",
              "      <td>0</td>\n",
              "      <td>0</td>\n",
              "      <td>0</td>\n",
              "      <td>Tuesday</td>\n",
              "      <td>7</td>\n",
              "      <td>49</td>\n",
              "      <td>49</td>\n",
              "      <td>9</td>\n",
              "      <td>53</td>\n",
              "    </tr>\n",
              "    <tr>\n",
              "      <th>4</th>\n",
              "      <td>0</td>\n",
              "      <td>0</td>\n",
              "      <td>0</td>\n",
              "      <td>0</td>\n",
              "      <td>0</td>\n",
              "      <td>1</td>\n",
              "      <td>0</td>\n",
              "      <td>Tuesday</td>\n",
              "      <td>7</td>\n",
              "      <td>49</td>\n",
              "      <td>227</td>\n",
              "      <td>6</td>\n",
              "      <td>221</td>\n",
              "    </tr>\n",
              "  </tbody>\n",
              "</table>\n",
              "</div>"
            ],
            "text/plain": [
              "   1  2  3  4  5  6  7 weekday_date  month  subject_line_length  \\\n",
              "0  0  0  0  1  0  0  0      Tuesday      7                   44   \n",
              "1  0  0  0  1  0  0  0      Tuesday      7                   44   \n",
              "2  0  0  0  0  0  1  0      Tuesday      7                   49   \n",
              "3  1  0  0  0  0  0  0      Tuesday      7                   49   \n",
              "4  0  0  0  0  0  1  0      Tuesday      7                   49   \n",
              "\n",
              "   last_open_day  last_login_day  last_checkout_day  \n",
              "0             19               6                 18  \n",
              "1              9               4                  8  \n",
              "2             14               5                  5  \n",
              "3             49               9                 53  \n",
              "4            227               6                221  "
            ]
          },
          "metadata": {
            "tags": []
          },
          "execution_count": 49
        }
      ]
    },
    {
      "cell_type": "code",
      "metadata": {
        "colab": {
          "base_uri": "https://localhost:8080/",
          "height": 204
        },
        "id": "q516UHTzi8yZ",
        "outputId": "49e4cdab-8bba-45d7-ad8a-dda45997c107"
      },
      "source": [
        "df.head()"
      ],
      "execution_count": null,
      "outputs": [
        {
          "output_type": "execute_result",
          "data": {
            "text/html": [
              "<div>\n",
              "<style scoped>\n",
              "    .dataframe tbody tr th:only-of-type {\n",
              "        vertical-align: middle;\n",
              "    }\n",
              "\n",
              "    .dataframe tbody tr th {\n",
              "        vertical-align: top;\n",
              "    }\n",
              "\n",
              "    .dataframe thead th {\n",
              "        text-align: right;\n",
              "    }\n",
              "</style>\n",
              "<table border=\"1\" class=\"dataframe\">\n",
              "  <thead>\n",
              "    <tr style=\"text-align: right;\">\n",
              "      <th></th>\n",
              "      <th>1</th>\n",
              "      <th>2</th>\n",
              "      <th>3</th>\n",
              "      <th>4</th>\n",
              "      <th>5</th>\n",
              "      <th>6</th>\n",
              "      <th>7</th>\n",
              "      <th>weekday_date</th>\n",
              "      <th>month</th>\n",
              "      <th>subject_line_length</th>\n",
              "      <th>last_open_day</th>\n",
              "      <th>last_login_day</th>\n",
              "      <th>last_checkout_day</th>\n",
              "    </tr>\n",
              "  </thead>\n",
              "  <tbody>\n",
              "    <tr>\n",
              "      <th>0</th>\n",
              "      <td>0</td>\n",
              "      <td>0</td>\n",
              "      <td>0</td>\n",
              "      <td>1</td>\n",
              "      <td>0</td>\n",
              "      <td>0</td>\n",
              "      <td>0</td>\n",
              "      <td>Tuesday</td>\n",
              "      <td>7</td>\n",
              "      <td>44</td>\n",
              "      <td>19</td>\n",
              "      <td>6</td>\n",
              "      <td>18</td>\n",
              "    </tr>\n",
              "    <tr>\n",
              "      <th>1</th>\n",
              "      <td>0</td>\n",
              "      <td>0</td>\n",
              "      <td>0</td>\n",
              "      <td>1</td>\n",
              "      <td>0</td>\n",
              "      <td>0</td>\n",
              "      <td>0</td>\n",
              "      <td>Tuesday</td>\n",
              "      <td>7</td>\n",
              "      <td>44</td>\n",
              "      <td>9</td>\n",
              "      <td>4</td>\n",
              "      <td>8</td>\n",
              "    </tr>\n",
              "    <tr>\n",
              "      <th>2</th>\n",
              "      <td>0</td>\n",
              "      <td>0</td>\n",
              "      <td>0</td>\n",
              "      <td>0</td>\n",
              "      <td>0</td>\n",
              "      <td>1</td>\n",
              "      <td>0</td>\n",
              "      <td>Tuesday</td>\n",
              "      <td>7</td>\n",
              "      <td>49</td>\n",
              "      <td>14</td>\n",
              "      <td>5</td>\n",
              "      <td>5</td>\n",
              "    </tr>\n",
              "    <tr>\n",
              "      <th>3</th>\n",
              "      <td>1</td>\n",
              "      <td>0</td>\n",
              "      <td>0</td>\n",
              "      <td>0</td>\n",
              "      <td>0</td>\n",
              "      <td>0</td>\n",
              "      <td>0</td>\n",
              "      <td>Tuesday</td>\n",
              "      <td>7</td>\n",
              "      <td>49</td>\n",
              "      <td>49</td>\n",
              "      <td>9</td>\n",
              "      <td>53</td>\n",
              "    </tr>\n",
              "    <tr>\n",
              "      <th>4</th>\n",
              "      <td>0</td>\n",
              "      <td>0</td>\n",
              "      <td>0</td>\n",
              "      <td>0</td>\n",
              "      <td>0</td>\n",
              "      <td>1</td>\n",
              "      <td>0</td>\n",
              "      <td>Tuesday</td>\n",
              "      <td>7</td>\n",
              "      <td>49</td>\n",
              "      <td>227</td>\n",
              "      <td>6</td>\n",
              "      <td>221</td>\n",
              "    </tr>\n",
              "  </tbody>\n",
              "</table>\n",
              "</div>"
            ],
            "text/plain": [
              "   1  2  3  4  5  6  7 weekday_date  month  subject_line_length  \\\n",
              "0  0  0  0  1  0  0  0      Tuesday      7                   44   \n",
              "1  0  0  0  1  0  0  0      Tuesday      7                   44   \n",
              "2  0  0  0  0  0  1  0      Tuesday      7                   49   \n",
              "3  1  0  0  0  0  0  0      Tuesday      7                   49   \n",
              "4  0  0  0  0  0  1  0      Tuesday      7                   49   \n",
              "\n",
              "   last_open_day  last_login_day  last_checkout_day  \n",
              "0             19               6                 18  \n",
              "1              9               4                  8  \n",
              "2             14               5                  5  \n",
              "3             49               9                 53  \n",
              "4            227               6                221  "
            ]
          },
          "metadata": {
            "tags": []
          },
          "execution_count": 50
        }
      ]
    },
    {
      "cell_type": "code",
      "metadata": {
        "id": "0Agp27CuVmuI"
      },
      "source": [
        "#remove noise in open count last 10/30/60 days\n",
        "\n",
        "# Set last open days > 10 days ago to 0 on open_count_last_10_days\n",
        "df['open_count_last_10_days'] = df_train['open_count_last_10_days'].copy()\n",
        "df['open_count_last_10_days'] = df.apply(lambda x: 0 if (x['last_open_day'] > 10) else x['open_count_last_10_days'],axis =1)\n",
        "\n",
        "df['open_count_last_30_days'] = df_train['open_count_last_30_days'].copy()\n",
        "df['open_count_last_30_days'] = df.apply(lambda x: 0 if (x['last_open_day'] > 30) else x['open_count_last_30_days'],axis =1)\n",
        "df['open_count_last_60_days'] = df_train['open_count_last_60_days'].copy()\n",
        "df['open_count_last_60_days'] = df.apply(lambda x: 0 if (x['last_open_day'] > 60) else x['open_count_last_60_days'],axis =1)"
      ],
      "execution_count": null,
      "outputs": []
    },
    {
      "cell_type": "code",
      "metadata": {
        "colab": {
          "base_uri": "https://localhost:8080/",
          "height": 253
        },
        "id": "OktR1K2GVs0k",
        "outputId": "11119c01-1fe9-49cc-fe20-c5a1ed08d54d"
      },
      "source": [
        "df['open_count_last_10_days'] = df.apply(lambda x: 1 if ((x['last_open_day'] <= 10) & (x['open_count_last_10_days']==0)) else x['open_count_last_10_days'],axis=1)\n",
        "df['open_count_last_30_days'] = df.apply(lambda x: 1 if ((x['last_open_day'] <= 30) & (x['open_count_last_30_days']==0)) else x['open_count_last_30_days'],axis =1)\n",
        "df['open_count_last_60_days'] = df.apply(lambda x: 1 if ((x['last_open_day'] <= 60) & (x['open_count_last_60_days']==0)) else x['open_count_last_60_days'],axis =1)\n",
        "df.head()"
      ],
      "execution_count": null,
      "outputs": [
        {
          "output_type": "execute_result",
          "data": {
            "text/html": [
              "<div>\n",
              "<style scoped>\n",
              "    .dataframe tbody tr th:only-of-type {\n",
              "        vertical-align: middle;\n",
              "    }\n",
              "\n",
              "    .dataframe tbody tr th {\n",
              "        vertical-align: top;\n",
              "    }\n",
              "\n",
              "    .dataframe thead th {\n",
              "        text-align: right;\n",
              "    }\n",
              "</style>\n",
              "<table border=\"1\" class=\"dataframe\">\n",
              "  <thead>\n",
              "    <tr style=\"text-align: right;\">\n",
              "      <th></th>\n",
              "      <th>1</th>\n",
              "      <th>2</th>\n",
              "      <th>3</th>\n",
              "      <th>4</th>\n",
              "      <th>5</th>\n",
              "      <th>6</th>\n",
              "      <th>...</th>\n",
              "      <th>last_open_day</th>\n",
              "      <th>last_login_day</th>\n",
              "      <th>last_checkout_day</th>\n",
              "      <th>open_count_last_10_days</th>\n",
              "      <th>open_count_last_30_days</th>\n",
              "      <th>open_count_last_60_days</th>\n",
              "    </tr>\n",
              "  </thead>\n",
              "  <tbody>\n",
              "    <tr>\n",
              "      <th>0</th>\n",
              "      <td>0</td>\n",
              "      <td>0</td>\n",
              "      <td>0</td>\n",
              "      <td>1</td>\n",
              "      <td>0</td>\n",
              "      <td>0</td>\n",
              "      <td>...</td>\n",
              "      <td>19</td>\n",
              "      <td>6</td>\n",
              "      <td>18</td>\n",
              "      <td>0</td>\n",
              "      <td>2</td>\n",
              "      <td>4</td>\n",
              "    </tr>\n",
              "    <tr>\n",
              "      <th>1</th>\n",
              "      <td>0</td>\n",
              "      <td>0</td>\n",
              "      <td>0</td>\n",
              "      <td>1</td>\n",
              "      <td>0</td>\n",
              "      <td>0</td>\n",
              "      <td>...</td>\n",
              "      <td>9</td>\n",
              "      <td>4</td>\n",
              "      <td>8</td>\n",
              "      <td>2</td>\n",
              "      <td>9</td>\n",
              "      <td>17</td>\n",
              "    </tr>\n",
              "    <tr>\n",
              "      <th>2</th>\n",
              "      <td>0</td>\n",
              "      <td>0</td>\n",
              "      <td>0</td>\n",
              "      <td>0</td>\n",
              "      <td>0</td>\n",
              "      <td>1</td>\n",
              "      <td>...</td>\n",
              "      <td>14</td>\n",
              "      <td>5</td>\n",
              "      <td>5</td>\n",
              "      <td>0</td>\n",
              "      <td>4</td>\n",
              "      <td>12</td>\n",
              "    </tr>\n",
              "    <tr>\n",
              "      <th>3</th>\n",
              "      <td>1</td>\n",
              "      <td>0</td>\n",
              "      <td>0</td>\n",
              "      <td>0</td>\n",
              "      <td>0</td>\n",
              "      <td>0</td>\n",
              "      <td>...</td>\n",
              "      <td>49</td>\n",
              "      <td>9</td>\n",
              "      <td>53</td>\n",
              "      <td>0</td>\n",
              "      <td>0</td>\n",
              "      <td>1</td>\n",
              "    </tr>\n",
              "    <tr>\n",
              "      <th>4</th>\n",
              "      <td>0</td>\n",
              "      <td>0</td>\n",
              "      <td>0</td>\n",
              "      <td>0</td>\n",
              "      <td>0</td>\n",
              "      <td>1</td>\n",
              "      <td>...</td>\n",
              "      <td>227</td>\n",
              "      <td>6</td>\n",
              "      <td>221</td>\n",
              "      <td>0</td>\n",
              "      <td>0</td>\n",
              "      <td>0</td>\n",
              "    </tr>\n",
              "  </tbody>\n",
              "</table>\n",
              "<p>5 rows × 16 columns</p>\n",
              "</div>"
            ],
            "text/plain": [
              "   1  2  3  4  5  6  ...  last_open_day last_login_day  last_checkout_day  \\\n",
              "0  0  0  0  1  0  0  ...             19              6                 18   \n",
              "1  0  0  0  1  0  0  ...              9              4                  8   \n",
              "2  0  0  0  0  0  1  ...             14              5                  5   \n",
              "3  1  0  0  0  0  0  ...             49              9                 53   \n",
              "4  0  0  0  0  0  1  ...            227              6                221   \n",
              "\n",
              "   open_count_last_10_days  open_count_last_30_days  open_count_last_60_days  \n",
              "0                        0                        2                        4  \n",
              "1                        2                        9                       17  \n",
              "2                        0                        4                       12  \n",
              "3                        0                        0                        1  \n",
              "4                        0                        0                        0  \n",
              "\n",
              "[5 rows x 16 columns]"
            ]
          },
          "metadata": {
            "tags": []
          },
          "execution_count": 52
        }
      ]
    },
    {
      "cell_type": "code",
      "metadata": {
        "colab": {
          "base_uri": "https://localhost:8080/",
          "height": 253
        },
        "id": "Sf__Im2gVxq8",
        "outputId": "39548b39-cba0-4670-99e8-891f45e0737a"
      },
      "source": [
        "#remove noise in login count last 10/30/60 days\n",
        "\n",
        "# Set last open days > 10 days ago to 0 on open_login_last_10_days\n",
        "df['login_count_last_10_days'] = df_train['login_count_last_10_days'].copy()\n",
        "df['login_count_last_10_days'] = df.apply(lambda x: 0 if (x['last_login_day'] > 10) else x['login_count_last_10_days'],axis =1)\n",
        "df['login_count_last_30_days'] = df_train['login_count_last_30_days'].copy()\n",
        "df['login_count_last_30_days'] = df.apply(lambda x: 0 if (x['last_login_day'] > 30) else x['login_count_last_30_days'],axis =1)\n",
        "df['login_count_last_60_days'] = df_train['login_count_last_60_days'].copy()\n",
        "df['login_count_last_60_days'] = df.apply(lambda x: 0 if (x['last_login_day'] > 60) else x['login_count_last_60_days'],axis =1)\n",
        "\n",
        "df['login_count_last_10_days'] = df.apply(lambda x: 1 if ((x['last_login_day'] <= 10) & (x['login_count_last_10_days']==0)) else x['login_count_last_10_days'],axis=1)\n",
        "df['login_count_last_30_days'] = df.apply(lambda x: 1 if ((x['last_login_day'] <= 30) & (x['login_count_last_30_days']==0)) else x['login_count_last_30_days'],axis =1)\n",
        "df['login_count_last_60_days'] = df.apply(lambda x: 1 if ((x['last_login_day'] <= 60) & (x['login_count_last_60_days']==0)) else x['login_count_last_60_days'],axis =1)\n",
        "\n",
        "df.head()"
      ],
      "execution_count": null,
      "outputs": [
        {
          "output_type": "execute_result",
          "data": {
            "text/html": [
              "<div>\n",
              "<style scoped>\n",
              "    .dataframe tbody tr th:only-of-type {\n",
              "        vertical-align: middle;\n",
              "    }\n",
              "\n",
              "    .dataframe tbody tr th {\n",
              "        vertical-align: top;\n",
              "    }\n",
              "\n",
              "    .dataframe thead th {\n",
              "        text-align: right;\n",
              "    }\n",
              "</style>\n",
              "<table border=\"1\" class=\"dataframe\">\n",
              "  <thead>\n",
              "    <tr style=\"text-align: right;\">\n",
              "      <th></th>\n",
              "      <th>1</th>\n",
              "      <th>2</th>\n",
              "      <th>3</th>\n",
              "      <th>4</th>\n",
              "      <th>5</th>\n",
              "      <th>6</th>\n",
              "      <th>...</th>\n",
              "      <th>open_count_last_10_days</th>\n",
              "      <th>open_count_last_30_days</th>\n",
              "      <th>open_count_last_60_days</th>\n",
              "      <th>login_count_last_10_days</th>\n",
              "      <th>login_count_last_30_days</th>\n",
              "      <th>login_count_last_60_days</th>\n",
              "    </tr>\n",
              "  </thead>\n",
              "  <tbody>\n",
              "    <tr>\n",
              "      <th>0</th>\n",
              "      <td>0</td>\n",
              "      <td>0</td>\n",
              "      <td>0</td>\n",
              "      <td>1</td>\n",
              "      <td>0</td>\n",
              "      <td>0</td>\n",
              "      <td>...</td>\n",
              "      <td>0</td>\n",
              "      <td>2</td>\n",
              "      <td>4</td>\n",
              "      <td>12</td>\n",
              "      <td>43</td>\n",
              "      <td>99</td>\n",
              "    </tr>\n",
              "    <tr>\n",
              "      <th>1</th>\n",
              "      <td>0</td>\n",
              "      <td>0</td>\n",
              "      <td>0</td>\n",
              "      <td>1</td>\n",
              "      <td>0</td>\n",
              "      <td>0</td>\n",
              "      <td>...</td>\n",
              "      <td>2</td>\n",
              "      <td>9</td>\n",
              "      <td>17</td>\n",
              "      <td>18</td>\n",
              "      <td>48</td>\n",
              "      <td>90</td>\n",
              "    </tr>\n",
              "    <tr>\n",
              "      <th>2</th>\n",
              "      <td>0</td>\n",
              "      <td>0</td>\n",
              "      <td>0</td>\n",
              "      <td>0</td>\n",
              "      <td>0</td>\n",
              "      <td>1</td>\n",
              "      <td>...</td>\n",
              "      <td>0</td>\n",
              "      <td>4</td>\n",
              "      <td>12</td>\n",
              "      <td>24</td>\n",
              "      <td>69</td>\n",
              "      <td>119</td>\n",
              "    </tr>\n",
              "    <tr>\n",
              "      <th>3</th>\n",
              "      <td>1</td>\n",
              "      <td>0</td>\n",
              "      <td>0</td>\n",
              "      <td>0</td>\n",
              "      <td>0</td>\n",
              "      <td>0</td>\n",
              "      <td>...</td>\n",
              "      <td>0</td>\n",
              "      <td>0</td>\n",
              "      <td>1</td>\n",
              "      <td>9</td>\n",
              "      <td>23</td>\n",
              "      <td>69</td>\n",
              "    </tr>\n",
              "    <tr>\n",
              "      <th>4</th>\n",
              "      <td>0</td>\n",
              "      <td>0</td>\n",
              "      <td>0</td>\n",
              "      <td>0</td>\n",
              "      <td>0</td>\n",
              "      <td>1</td>\n",
              "      <td>...</td>\n",
              "      <td>0</td>\n",
              "      <td>0</td>\n",
              "      <td>0</td>\n",
              "      <td>2</td>\n",
              "      <td>5</td>\n",
              "      <td>5</td>\n",
              "    </tr>\n",
              "  </tbody>\n",
              "</table>\n",
              "<p>5 rows × 19 columns</p>\n",
              "</div>"
            ],
            "text/plain": [
              "   1  2  3  4  5  6  ...  open_count_last_10_days open_count_last_30_days  \\\n",
              "0  0  0  0  1  0  0  ...                        0                       2   \n",
              "1  0  0  0  1  0  0  ...                        2                       9   \n",
              "2  0  0  0  0  0  1  ...                        0                       4   \n",
              "3  1  0  0  0  0  0  ...                        0                       0   \n",
              "4  0  0  0  0  0  1  ...                        0                       0   \n",
              "\n",
              "   open_count_last_60_days  login_count_last_10_days  \\\n",
              "0                        4                        12   \n",
              "1                       17                        18   \n",
              "2                       12                        24   \n",
              "3                        1                         9   \n",
              "4                        0                         2   \n",
              "\n",
              "   login_count_last_30_days  login_count_last_60_days  \n",
              "0                        43                        99  \n",
              "1                        48                        90  \n",
              "2                        69                       119  \n",
              "3                        23                        69  \n",
              "4                         5                         5  \n",
              "\n",
              "[5 rows x 19 columns]"
            ]
          },
          "metadata": {
            "tags": []
          },
          "execution_count": 53
        }
      ]
    },
    {
      "cell_type": "code",
      "metadata": {
        "id": "c24Av3s9V0B9"
      },
      "source": [
        "df['checkout_count_last_10_days'] = df_train['checkout_count_last_10_days'].copy()\n",
        "df['checkout_count_last_30_days'] = df_train['checkout_count_last_30_days'].copy()\n",
        "df['checkout_count_last_60_days'] = df_train['checkout_count_last_60_days'].copy()"
      ],
      "execution_count": null,
      "outputs": []
    },
    {
      "cell_type": "code",
      "metadata": {
        "colab": {
          "base_uri": "https://localhost:8080/",
          "height": 253
        },
        "id": "hEJXuJTQV1up",
        "outputId": "5c8a5d59-fafd-4ec5-8765-d3573ca557ff"
      },
      "source": [
        "# remove noise in checkout count last 10/30/60 days\n",
        "\n",
        "# Set last open days > 10 days ago to 0 on checkout_count_last_10_days\n",
        "df['checkout_count_last_10_days'] = df.apply(lambda x: 0 if (x['last_checkout_day'] > 10) else x['checkout_count_last_10_days'],axis =1)\n",
        "df['checkout_count_last_30_days'] = df.apply(lambda x: 0 if (x['last_checkout_day'] > 30) else x['checkout_count_last_30_days'],axis =1)\n",
        "df['checkout_count_last_60_days'] = df.apply(lambda x: 0 if (x['last_checkout_day'] > 60) else x['checkout_count_last_60_days'],axis =1)\n",
        "\n",
        "df['checkout_count_last_10_days'] = df.apply(lambda x: 1 if ((x['last_checkout_day'] <= 10) & (x['checkout_count_last_10_days']==0)) else x['checkout_count_last_10_days'],axis=1)\n",
        "df['checkout_count_last_30_days'] = df.apply(lambda x: 1 if ((x['last_checkout_day'] <= 30) & (x['checkout_count_last_30_days']==0)) else x['checkout_count_last_30_days'],axis =1)\n",
        "df['checkout_count_last_60_days'] = df.apply(lambda x: 1 if ((x['last_checkout_day'] <= 60) & (x['checkout_count_last_60_days']==0)) else x['checkout_count_last_60_days'],axis =1)\n",
        "\n",
        "df.head()"
      ],
      "execution_count": null,
      "outputs": [
        {
          "output_type": "execute_result",
          "data": {
            "text/html": [
              "<div>\n",
              "<style scoped>\n",
              "    .dataframe tbody tr th:only-of-type {\n",
              "        vertical-align: middle;\n",
              "    }\n",
              "\n",
              "    .dataframe tbody tr th {\n",
              "        vertical-align: top;\n",
              "    }\n",
              "\n",
              "    .dataframe thead th {\n",
              "        text-align: right;\n",
              "    }\n",
              "</style>\n",
              "<table border=\"1\" class=\"dataframe\">\n",
              "  <thead>\n",
              "    <tr style=\"text-align: right;\">\n",
              "      <th></th>\n",
              "      <th>1</th>\n",
              "      <th>2</th>\n",
              "      <th>3</th>\n",
              "      <th>4</th>\n",
              "      <th>5</th>\n",
              "      <th>6</th>\n",
              "      <th>...</th>\n",
              "      <th>login_count_last_10_days</th>\n",
              "      <th>login_count_last_30_days</th>\n",
              "      <th>login_count_last_60_days</th>\n",
              "      <th>checkout_count_last_10_days</th>\n",
              "      <th>checkout_count_last_30_days</th>\n",
              "      <th>checkout_count_last_60_days</th>\n",
              "    </tr>\n",
              "  </thead>\n",
              "  <tbody>\n",
              "    <tr>\n",
              "      <th>0</th>\n",
              "      <td>0</td>\n",
              "      <td>0</td>\n",
              "      <td>0</td>\n",
              "      <td>1</td>\n",
              "      <td>0</td>\n",
              "      <td>0</td>\n",
              "      <td>...</td>\n",
              "      <td>12</td>\n",
              "      <td>43</td>\n",
              "      <td>99</td>\n",
              "      <td>0</td>\n",
              "      <td>5</td>\n",
              "      <td>10</td>\n",
              "    </tr>\n",
              "    <tr>\n",
              "      <th>1</th>\n",
              "      <td>0</td>\n",
              "      <td>0</td>\n",
              "      <td>0</td>\n",
              "      <td>1</td>\n",
              "      <td>0</td>\n",
              "      <td>0</td>\n",
              "      <td>...</td>\n",
              "      <td>18</td>\n",
              "      <td>48</td>\n",
              "      <td>90</td>\n",
              "      <td>1</td>\n",
              "      <td>1</td>\n",
              "      <td>4</td>\n",
              "    </tr>\n",
              "    <tr>\n",
              "      <th>2</th>\n",
              "      <td>0</td>\n",
              "      <td>0</td>\n",
              "      <td>0</td>\n",
              "      <td>0</td>\n",
              "      <td>0</td>\n",
              "      <td>1</td>\n",
              "      <td>...</td>\n",
              "      <td>24</td>\n",
              "      <td>69</td>\n",
              "      <td>119</td>\n",
              "      <td>5</td>\n",
              "      <td>19</td>\n",
              "      <td>27</td>\n",
              "    </tr>\n",
              "    <tr>\n",
              "      <th>3</th>\n",
              "      <td>1</td>\n",
              "      <td>0</td>\n",
              "      <td>0</td>\n",
              "      <td>0</td>\n",
              "      <td>0</td>\n",
              "      <td>0</td>\n",
              "      <td>...</td>\n",
              "      <td>9</td>\n",
              "      <td>23</td>\n",
              "      <td>69</td>\n",
              "      <td>0</td>\n",
              "      <td>0</td>\n",
              "      <td>6</td>\n",
              "    </tr>\n",
              "    <tr>\n",
              "      <th>4</th>\n",
              "      <td>0</td>\n",
              "      <td>0</td>\n",
              "      <td>0</td>\n",
              "      <td>0</td>\n",
              "      <td>0</td>\n",
              "      <td>1</td>\n",
              "      <td>...</td>\n",
              "      <td>2</td>\n",
              "      <td>5</td>\n",
              "      <td>5</td>\n",
              "      <td>0</td>\n",
              "      <td>0</td>\n",
              "      <td>0</td>\n",
              "    </tr>\n",
              "  </tbody>\n",
              "</table>\n",
              "<p>5 rows × 22 columns</p>\n",
              "</div>"
            ],
            "text/plain": [
              "   1  2  3  4  5  6  ...  login_count_last_10_days login_count_last_30_days  \\\n",
              "0  0  0  0  1  0  0  ...                        12                       43   \n",
              "1  0  0  0  1  0  0  ...                        18                       48   \n",
              "2  0  0  0  0  0  1  ...                        24                       69   \n",
              "3  1  0  0  0  0  0  ...                         9                       23   \n",
              "4  0  0  0  0  0  1  ...                         2                        5   \n",
              "\n",
              "   login_count_last_60_days  checkout_count_last_10_days  \\\n",
              "0                        99                            0   \n",
              "1                        90                            1   \n",
              "2                       119                            5   \n",
              "3                        69                            0   \n",
              "4                         5                            0   \n",
              "\n",
              "   checkout_count_last_30_days  checkout_count_last_60_days  \n",
              "0                            5                           10  \n",
              "1                            1                            4  \n",
              "2                           19                           27  \n",
              "3                            0                            6  \n",
              "4                            0                            0  \n",
              "\n",
              "[5 rows x 22 columns]"
            ]
          },
          "metadata": {
            "tags": []
          },
          "execution_count": 55
        }
      ]
    },
    {
      "cell_type": "markdown",
      "metadata": {
        "id": "YxYRRqWNEYXw"
      },
      "source": [
        "## Processing df_users & merge with dftr_train"
      ]
    },
    {
      "cell_type": "code",
      "metadata": {
        "colab": {
          "base_uri": "https://localhost:8080/"
        },
        "id": "1_einctEEfUT",
        "outputId": "884d5453-333b-48d8-cfe5-bac58bd21922"
      },
      "source": [
        "df_users.info()"
      ],
      "execution_count": null,
      "outputs": [
        {
          "output_type": "stream",
          "text": [
            "<class 'pandas.core.frame.DataFrame'>\n",
            "RangeIndex: 127886 entries, 0 to 127885\n",
            "Data columns (total 6 columns):\n",
            " #   Column   Non-Null Count   Dtype  \n",
            "---  ------   --------------   -----  \n",
            " 0   user_id  127886 non-null  int64  \n",
            " 1   attr_1   78987 non-null   float64\n",
            " 2   attr_2   127439 non-null  float64\n",
            " 3   attr_3   127886 non-null  float64\n",
            " 4   age      78987 non-null   float64\n",
            " 5   domain   127886 non-null  object \n",
            "dtypes: float64(4), int64(1), object(1)\n",
            "memory usage: 5.9+ MB\n"
          ],
          "name": "stdout"
        }
      ]
    },
    {
      "cell_type": "code",
      "metadata": {
        "colab": {
          "base_uri": "https://localhost:8080/"
        },
        "id": "JmDmnICfEhVB",
        "outputId": "f4aa2724-4dd2-4ba8-b7e9-3e511a011def"
      },
      "source": [
        "df_users.isna().sum()"
      ],
      "execution_count": null,
      "outputs": [
        {
          "output_type": "execute_result",
          "data": {
            "text/plain": [
              "user_id        0\n",
              "attr_1     48899\n",
              "attr_2       447\n",
              "attr_3         0\n",
              "age        48899\n",
              "domain         0\n",
              "dtype: int64"
            ]
          },
          "metadata": {
            "tags": []
          },
          "execution_count": 57
        }
      ]
    },
    {
      "cell_type": "code",
      "metadata": {
        "id": "QxW5MKR6GENT"
      },
      "source": [
        "df['user_id']= df_train['user_id'].copy()\n",
        "df['open_flag']=df_train['open_flag'].copy()\n",
        "\n",
        "#merge\n",
        "data_train = pd.merge(left=df, right=df_users, left_on='user_id', right_on='user_id')"
      ],
      "execution_count": null,
      "outputs": []
    },
    {
      "cell_type": "code",
      "metadata": {
        "colab": {
          "base_uri": "https://localhost:8080/",
          "height": 419
        },
        "id": "KFotgtNVEjKv",
        "outputId": "8a749d50-2d3f-49ff-f66c-bc41cc32e961"
      },
      "source": [
        "# One-hot encoding: domain column\n",
        "encoded_columns = pd.get_dummies(data_train ['domain'])\n",
        "data_train  = data_train.join(encoded_columns).drop('domain', axis=1)\n",
        "\n",
        "# one-hot encoding: weekday date column\n",
        "encoded_columns = pd.get_dummies(data_train['weekday_date'])\n",
        "data_train = data_train.join(encoded_columns).drop('weekday_date', axis=1)\n",
        "\n",
        "# assign -1 for missing data\n",
        "data_train ['attr_1']= data_train['attr_1'].fillna(-1)\n",
        "data_train ['attr_2']= data_train['attr_2'].fillna(-1)\n",
        "\n",
        "data_train "
      ],
      "execution_count": null,
      "outputs": [
        {
          "output_type": "execute_result",
          "data": {
            "text/html": [
              "<div>\n",
              "<style scoped>\n",
              "    .dataframe tbody tr th:only-of-type {\n",
              "        vertical-align: middle;\n",
              "    }\n",
              "\n",
              "    .dataframe tbody tr th {\n",
              "        vertical-align: top;\n",
              "    }\n",
              "\n",
              "    .dataframe thead th {\n",
              "        text-align: right;\n",
              "    }\n",
              "</style>\n",
              "<table border=\"1\" class=\"dataframe\">\n",
              "  <thead>\n",
              "    <tr style=\"text-align: right;\">\n",
              "      <th></th>\n",
              "      <th>1</th>\n",
              "      <th>2</th>\n",
              "      <th>3</th>\n",
              "      <th>4</th>\n",
              "      <th>5</th>\n",
              "      <th>6</th>\n",
              "      <th>...</th>\n",
              "      <th>Monday</th>\n",
              "      <th>Saturday</th>\n",
              "      <th>Sunday</th>\n",
              "      <th>Thursday</th>\n",
              "      <th>Tuesday</th>\n",
              "      <th>Wednesday</th>\n",
              "    </tr>\n",
              "  </thead>\n",
              "  <tbody>\n",
              "    <tr>\n",
              "      <th>0</th>\n",
              "      <td>0</td>\n",
              "      <td>0</td>\n",
              "      <td>0</td>\n",
              "      <td>1</td>\n",
              "      <td>0</td>\n",
              "      <td>0</td>\n",
              "      <td>...</td>\n",
              "      <td>0</td>\n",
              "      <td>0</td>\n",
              "      <td>0</td>\n",
              "      <td>0</td>\n",
              "      <td>1</td>\n",
              "      <td>0</td>\n",
              "    </tr>\n",
              "    <tr>\n",
              "      <th>1</th>\n",
              "      <td>0</td>\n",
              "      <td>0</td>\n",
              "      <td>0</td>\n",
              "      <td>1</td>\n",
              "      <td>0</td>\n",
              "      <td>0</td>\n",
              "      <td>...</td>\n",
              "      <td>0</td>\n",
              "      <td>0</td>\n",
              "      <td>0</td>\n",
              "      <td>0</td>\n",
              "      <td>1</td>\n",
              "      <td>0</td>\n",
              "    </tr>\n",
              "    <tr>\n",
              "      <th>2</th>\n",
              "      <td>0</td>\n",
              "      <td>0</td>\n",
              "      <td>0</td>\n",
              "      <td>0</td>\n",
              "      <td>0</td>\n",
              "      <td>1</td>\n",
              "      <td>...</td>\n",
              "      <td>0</td>\n",
              "      <td>0</td>\n",
              "      <td>0</td>\n",
              "      <td>0</td>\n",
              "      <td>1</td>\n",
              "      <td>0</td>\n",
              "    </tr>\n",
              "    <tr>\n",
              "      <th>3</th>\n",
              "      <td>1</td>\n",
              "      <td>0</td>\n",
              "      <td>0</td>\n",
              "      <td>0</td>\n",
              "      <td>0</td>\n",
              "      <td>0</td>\n",
              "      <td>...</td>\n",
              "      <td>0</td>\n",
              "      <td>0</td>\n",
              "      <td>0</td>\n",
              "      <td>0</td>\n",
              "      <td>1</td>\n",
              "      <td>0</td>\n",
              "    </tr>\n",
              "    <tr>\n",
              "      <th>4</th>\n",
              "      <td>0</td>\n",
              "      <td>0</td>\n",
              "      <td>0</td>\n",
              "      <td>0</td>\n",
              "      <td>0</td>\n",
              "      <td>1</td>\n",
              "      <td>...</td>\n",
              "      <td>0</td>\n",
              "      <td>0</td>\n",
              "      <td>0</td>\n",
              "      <td>0</td>\n",
              "      <td>1</td>\n",
              "      <td>0</td>\n",
              "    </tr>\n",
              "    <tr>\n",
              "      <th>...</th>\n",
              "      <td>...</td>\n",
              "      <td>...</td>\n",
              "      <td>...</td>\n",
              "      <td>...</td>\n",
              "      <td>...</td>\n",
              "      <td>...</td>\n",
              "      <td>...</td>\n",
              "      <td>...</td>\n",
              "      <td>...</td>\n",
              "      <td>...</td>\n",
              "      <td>...</td>\n",
              "      <td>...</td>\n",
              "      <td>...</td>\n",
              "    </tr>\n",
              "    <tr>\n",
              "      <th>73534</th>\n",
              "      <td>0</td>\n",
              "      <td>0</td>\n",
              "      <td>0</td>\n",
              "      <td>0</td>\n",
              "      <td>0</td>\n",
              "      <td>1</td>\n",
              "      <td>...</td>\n",
              "      <td>1</td>\n",
              "      <td>0</td>\n",
              "      <td>0</td>\n",
              "      <td>0</td>\n",
              "      <td>0</td>\n",
              "      <td>0</td>\n",
              "    </tr>\n",
              "    <tr>\n",
              "      <th>73535</th>\n",
              "      <td>0</td>\n",
              "      <td>1</td>\n",
              "      <td>0</td>\n",
              "      <td>0</td>\n",
              "      <td>0</td>\n",
              "      <td>0</td>\n",
              "      <td>...</td>\n",
              "      <td>1</td>\n",
              "      <td>0</td>\n",
              "      <td>0</td>\n",
              "      <td>0</td>\n",
              "      <td>0</td>\n",
              "      <td>0</td>\n",
              "    </tr>\n",
              "    <tr>\n",
              "      <th>73536</th>\n",
              "      <td>0</td>\n",
              "      <td>1</td>\n",
              "      <td>0</td>\n",
              "      <td>0</td>\n",
              "      <td>0</td>\n",
              "      <td>0</td>\n",
              "      <td>...</td>\n",
              "      <td>1</td>\n",
              "      <td>0</td>\n",
              "      <td>0</td>\n",
              "      <td>0</td>\n",
              "      <td>0</td>\n",
              "      <td>0</td>\n",
              "    </tr>\n",
              "    <tr>\n",
              "      <th>73537</th>\n",
              "      <td>0</td>\n",
              "      <td>1</td>\n",
              "      <td>0</td>\n",
              "      <td>0</td>\n",
              "      <td>0</td>\n",
              "      <td>0</td>\n",
              "      <td>...</td>\n",
              "      <td>1</td>\n",
              "      <td>0</td>\n",
              "      <td>0</td>\n",
              "      <td>0</td>\n",
              "      <td>0</td>\n",
              "      <td>0</td>\n",
              "    </tr>\n",
              "    <tr>\n",
              "      <th>73538</th>\n",
              "      <td>0</td>\n",
              "      <td>0</td>\n",
              "      <td>0</td>\n",
              "      <td>0</td>\n",
              "      <td>0</td>\n",
              "      <td>1</td>\n",
              "      <td>...</td>\n",
              "      <td>1</td>\n",
              "      <td>0</td>\n",
              "      <td>0</td>\n",
              "      <td>0</td>\n",
              "      <td>0</td>\n",
              "      <td>0</td>\n",
              "    </tr>\n",
              "  </tbody>\n",
              "</table>\n",
              "<p>73539 rows × 45 columns</p>\n",
              "</div>"
            ],
            "text/plain": [
              "       1  2  3  4  5  6  ...  Monday  Saturday  Sunday  Thursday  Tuesday  \\\n",
              "0      0  0  0  1  0  0  ...       0         0       0         0        1   \n",
              "1      0  0  0  1  0  0  ...       0         0       0         0        1   \n",
              "2      0  0  0  0  0  1  ...       0         0       0         0        1   \n",
              "3      1  0  0  0  0  0  ...       0         0       0         0        1   \n",
              "4      0  0  0  0  0  1  ...       0         0       0         0        1   \n",
              "...   .. .. .. .. .. ..  ...     ...       ...     ...       ...      ...   \n",
              "73534  0  0  0  0  0  1  ...       1         0       0         0        0   \n",
              "73535  0  1  0  0  0  0  ...       1         0       0         0        0   \n",
              "73536  0  1  0  0  0  0  ...       1         0       0         0        0   \n",
              "73537  0  1  0  0  0  0  ...       1         0       0         0        0   \n",
              "73538  0  0  0  0  0  1  ...       1         0       0         0        0   \n",
              "\n",
              "       Wednesday  \n",
              "0              0  \n",
              "1              0  \n",
              "2              0  \n",
              "3              0  \n",
              "4              0  \n",
              "...          ...  \n",
              "73534          0  \n",
              "73535          0  \n",
              "73536          0  \n",
              "73537          0  \n",
              "73538          0  \n",
              "\n",
              "[73539 rows x 45 columns]"
            ]
          },
          "metadata": {
            "tags": []
          },
          "execution_count": 59
        }
      ]
    },
    {
      "cell_type": "code",
      "metadata": {
        "id": "PAj9xnuLGh9V"
      },
      "source": [
        "#delete columns (unnecessary for prediction)\n",
        "data_train.drop(['user_id','age'], axis = 1, inplace = True)"
      ],
      "execution_count": null,
      "outputs": []
    },
    {
      "cell_type": "code",
      "metadata": {
        "colab": {
          "base_uri": "https://localhost:8080/",
          "height": 419
        },
        "id": "AISK2PwmGzEB",
        "outputId": "35c07fc7-4291-4d82-bd63-1294d354eb1e"
      },
      "source": [
        "data_train"
      ],
      "execution_count": null,
      "outputs": [
        {
          "output_type": "execute_result",
          "data": {
            "text/html": [
              "<div>\n",
              "<style scoped>\n",
              "    .dataframe tbody tr th:only-of-type {\n",
              "        vertical-align: middle;\n",
              "    }\n",
              "\n",
              "    .dataframe tbody tr th {\n",
              "        vertical-align: top;\n",
              "    }\n",
              "\n",
              "    .dataframe thead th {\n",
              "        text-align: right;\n",
              "    }\n",
              "</style>\n",
              "<table border=\"1\" class=\"dataframe\">\n",
              "  <thead>\n",
              "    <tr style=\"text-align: right;\">\n",
              "      <th></th>\n",
              "      <th>1</th>\n",
              "      <th>2</th>\n",
              "      <th>3</th>\n",
              "      <th>4</th>\n",
              "      <th>5</th>\n",
              "      <th>6</th>\n",
              "      <th>...</th>\n",
              "      <th>Monday</th>\n",
              "      <th>Saturday</th>\n",
              "      <th>Sunday</th>\n",
              "      <th>Thursday</th>\n",
              "      <th>Tuesday</th>\n",
              "      <th>Wednesday</th>\n",
              "    </tr>\n",
              "  </thead>\n",
              "  <tbody>\n",
              "    <tr>\n",
              "      <th>0</th>\n",
              "      <td>0</td>\n",
              "      <td>0</td>\n",
              "      <td>0</td>\n",
              "      <td>1</td>\n",
              "      <td>0</td>\n",
              "      <td>0</td>\n",
              "      <td>...</td>\n",
              "      <td>0</td>\n",
              "      <td>0</td>\n",
              "      <td>0</td>\n",
              "      <td>0</td>\n",
              "      <td>1</td>\n",
              "      <td>0</td>\n",
              "    </tr>\n",
              "    <tr>\n",
              "      <th>1</th>\n",
              "      <td>0</td>\n",
              "      <td>0</td>\n",
              "      <td>0</td>\n",
              "      <td>1</td>\n",
              "      <td>0</td>\n",
              "      <td>0</td>\n",
              "      <td>...</td>\n",
              "      <td>0</td>\n",
              "      <td>0</td>\n",
              "      <td>0</td>\n",
              "      <td>0</td>\n",
              "      <td>1</td>\n",
              "      <td>0</td>\n",
              "    </tr>\n",
              "    <tr>\n",
              "      <th>2</th>\n",
              "      <td>0</td>\n",
              "      <td>0</td>\n",
              "      <td>0</td>\n",
              "      <td>0</td>\n",
              "      <td>0</td>\n",
              "      <td>1</td>\n",
              "      <td>...</td>\n",
              "      <td>0</td>\n",
              "      <td>0</td>\n",
              "      <td>0</td>\n",
              "      <td>0</td>\n",
              "      <td>1</td>\n",
              "      <td>0</td>\n",
              "    </tr>\n",
              "    <tr>\n",
              "      <th>3</th>\n",
              "      <td>1</td>\n",
              "      <td>0</td>\n",
              "      <td>0</td>\n",
              "      <td>0</td>\n",
              "      <td>0</td>\n",
              "      <td>0</td>\n",
              "      <td>...</td>\n",
              "      <td>0</td>\n",
              "      <td>0</td>\n",
              "      <td>0</td>\n",
              "      <td>0</td>\n",
              "      <td>1</td>\n",
              "      <td>0</td>\n",
              "    </tr>\n",
              "    <tr>\n",
              "      <th>4</th>\n",
              "      <td>0</td>\n",
              "      <td>0</td>\n",
              "      <td>0</td>\n",
              "      <td>0</td>\n",
              "      <td>0</td>\n",
              "      <td>1</td>\n",
              "      <td>...</td>\n",
              "      <td>0</td>\n",
              "      <td>0</td>\n",
              "      <td>0</td>\n",
              "      <td>0</td>\n",
              "      <td>1</td>\n",
              "      <td>0</td>\n",
              "    </tr>\n",
              "    <tr>\n",
              "      <th>...</th>\n",
              "      <td>...</td>\n",
              "      <td>...</td>\n",
              "      <td>...</td>\n",
              "      <td>...</td>\n",
              "      <td>...</td>\n",
              "      <td>...</td>\n",
              "      <td>...</td>\n",
              "      <td>...</td>\n",
              "      <td>...</td>\n",
              "      <td>...</td>\n",
              "      <td>...</td>\n",
              "      <td>...</td>\n",
              "      <td>...</td>\n",
              "    </tr>\n",
              "    <tr>\n",
              "      <th>73534</th>\n",
              "      <td>0</td>\n",
              "      <td>0</td>\n",
              "      <td>0</td>\n",
              "      <td>0</td>\n",
              "      <td>0</td>\n",
              "      <td>1</td>\n",
              "      <td>...</td>\n",
              "      <td>1</td>\n",
              "      <td>0</td>\n",
              "      <td>0</td>\n",
              "      <td>0</td>\n",
              "      <td>0</td>\n",
              "      <td>0</td>\n",
              "    </tr>\n",
              "    <tr>\n",
              "      <th>73535</th>\n",
              "      <td>0</td>\n",
              "      <td>1</td>\n",
              "      <td>0</td>\n",
              "      <td>0</td>\n",
              "      <td>0</td>\n",
              "      <td>0</td>\n",
              "      <td>...</td>\n",
              "      <td>1</td>\n",
              "      <td>0</td>\n",
              "      <td>0</td>\n",
              "      <td>0</td>\n",
              "      <td>0</td>\n",
              "      <td>0</td>\n",
              "    </tr>\n",
              "    <tr>\n",
              "      <th>73536</th>\n",
              "      <td>0</td>\n",
              "      <td>1</td>\n",
              "      <td>0</td>\n",
              "      <td>0</td>\n",
              "      <td>0</td>\n",
              "      <td>0</td>\n",
              "      <td>...</td>\n",
              "      <td>1</td>\n",
              "      <td>0</td>\n",
              "      <td>0</td>\n",
              "      <td>0</td>\n",
              "      <td>0</td>\n",
              "      <td>0</td>\n",
              "    </tr>\n",
              "    <tr>\n",
              "      <th>73537</th>\n",
              "      <td>0</td>\n",
              "      <td>1</td>\n",
              "      <td>0</td>\n",
              "      <td>0</td>\n",
              "      <td>0</td>\n",
              "      <td>0</td>\n",
              "      <td>...</td>\n",
              "      <td>1</td>\n",
              "      <td>0</td>\n",
              "      <td>0</td>\n",
              "      <td>0</td>\n",
              "      <td>0</td>\n",
              "      <td>0</td>\n",
              "    </tr>\n",
              "    <tr>\n",
              "      <th>73538</th>\n",
              "      <td>0</td>\n",
              "      <td>0</td>\n",
              "      <td>0</td>\n",
              "      <td>0</td>\n",
              "      <td>0</td>\n",
              "      <td>1</td>\n",
              "      <td>...</td>\n",
              "      <td>1</td>\n",
              "      <td>0</td>\n",
              "      <td>0</td>\n",
              "      <td>0</td>\n",
              "      <td>0</td>\n",
              "      <td>0</td>\n",
              "    </tr>\n",
              "  </tbody>\n",
              "</table>\n",
              "<p>73539 rows × 43 columns</p>\n",
              "</div>"
            ],
            "text/plain": [
              "       1  2  3  4  5  6  ...  Monday  Saturday  Sunday  Thursday  Tuesday  \\\n",
              "0      0  0  0  1  0  0  ...       0         0       0         0        1   \n",
              "1      0  0  0  1  0  0  ...       0         0       0         0        1   \n",
              "2      0  0  0  0  0  1  ...       0         0       0         0        1   \n",
              "3      1  0  0  0  0  0  ...       0         0       0         0        1   \n",
              "4      0  0  0  0  0  1  ...       0         0       0         0        1   \n",
              "...   .. .. .. .. .. ..  ...     ...       ...     ...       ...      ...   \n",
              "73534  0  0  0  0  0  1  ...       1         0       0         0        0   \n",
              "73535  0  1  0  0  0  0  ...       1         0       0         0        0   \n",
              "73536  0  1  0  0  0  0  ...       1         0       0         0        0   \n",
              "73537  0  1  0  0  0  0  ...       1         0       0         0        0   \n",
              "73538  0  0  0  0  0  1  ...       1         0       0         0        0   \n",
              "\n",
              "       Wednesday  \n",
              "0              0  \n",
              "1              0  \n",
              "2              0  \n",
              "3              0  \n",
              "4              0  \n",
              "...          ...  \n",
              "73534          0  \n",
              "73535          0  \n",
              "73536          0  \n",
              "73537          0  \n",
              "73538          0  \n",
              "\n",
              "[73539 rows x 43 columns]"
            ]
          },
          "metadata": {
            "tags": []
          },
          "execution_count": 61
        }
      ]
    },
    {
      "cell_type": "code",
      "metadata": {
        "colab": {
          "base_uri": "https://localhost:8080/"
        },
        "id": "fDi6Z-CLoPZ0",
        "outputId": "e846ae6c-f8eb-4770-de0a-938e5b15482c"
      },
      "source": [
        "data_train.info()"
      ],
      "execution_count": null,
      "outputs": [
        {
          "output_type": "stream",
          "text": [
            "<class 'pandas.core.frame.DataFrame'>\n",
            "Int64Index: 73539 entries, 0 to 73538\n",
            "Data columns (total 43 columns):\n",
            " #   Column                       Non-Null Count  Dtype  \n",
            "---  ------                       --------------  -----  \n",
            " 0   1                            73539 non-null  uint8  \n",
            " 1   2                            73539 non-null  uint8  \n",
            " 2   3                            73539 non-null  uint8  \n",
            " 3   4                            73539 non-null  uint8  \n",
            " 4   5                            73539 non-null  uint8  \n",
            " 5   6                            73539 non-null  uint8  \n",
            " 6   7                            73539 non-null  uint8  \n",
            " 7   month                        73539 non-null  int64  \n",
            " 8   subject_line_length          73539 non-null  int64  \n",
            " 9   last_open_day                73539 non-null  int64  \n",
            " 10  last_login_day               73539 non-null  int64  \n",
            " 11  last_checkout_day            73539 non-null  int64  \n",
            " 12  open_count_last_10_days      73539 non-null  int64  \n",
            " 13  open_count_last_30_days      73539 non-null  int64  \n",
            " 14  open_count_last_60_days      73539 non-null  int64  \n",
            " 15  login_count_last_10_days     73539 non-null  int64  \n",
            " 16  login_count_last_30_days     73539 non-null  int64  \n",
            " 17  login_count_last_60_days     73539 non-null  int64  \n",
            " 18  checkout_count_last_10_days  73539 non-null  int64  \n",
            " 19  checkout_count_last_30_days  73539 non-null  int64  \n",
            " 20  checkout_count_last_60_days  73539 non-null  int64  \n",
            " 21  open_flag                    73539 non-null  int64  \n",
            " 22  attr_1                       73539 non-null  float64\n",
            " 23  attr_2                       73539 non-null  float64\n",
            " 24  attr_3                       73539 non-null  float64\n",
            " 25  @163.com                     73539 non-null  uint8  \n",
            " 26  @gmail.com                   73539 non-null  uint8  \n",
            " 27  @hotmail.com                 73539 non-null  uint8  \n",
            " 28  @icloud.com                  73539 non-null  uint8  \n",
            " 29  @live.com                    73539 non-null  uint8  \n",
            " 30  @outlook.com                 73539 non-null  uint8  \n",
            " 31  @qq.com                      73539 non-null  uint8  \n",
            " 32  @rocketmail.com              73539 non-null  uint8  \n",
            " 33  @yahoo.com                   73539 non-null  uint8  \n",
            " 34  @ymail.com                   73539 non-null  uint8  \n",
            " 35  other                        73539 non-null  uint8  \n",
            " 36  Friday                       73539 non-null  uint8  \n",
            " 37  Monday                       73539 non-null  uint8  \n",
            " 38  Saturday                     73539 non-null  uint8  \n",
            " 39  Sunday                       73539 non-null  uint8  \n",
            " 40  Thursday                     73539 non-null  uint8  \n",
            " 41  Tuesday                      73539 non-null  uint8  \n",
            " 42  Wednesday                    73539 non-null  uint8  \n",
            "dtypes: float64(3), int64(15), uint8(25)\n",
            "memory usage: 14.9 MB\n"
          ],
          "name": "stdout"
        }
      ]
    },
    {
      "cell_type": "markdown",
      "metadata": {
        "id": "0PGP5MznIbQI"
      },
      "source": [
        "## Prediction and testing on data_train"
      ]
    },
    {
      "cell_type": "code",
      "metadata": {
        "colab": {
          "base_uri": "https://localhost:8080/"
        },
        "id": "lnIU8PjOKFcu",
        "outputId": "9394ff10-3c1a-4c77-adc2-591e46ff3274"
      },
      "source": [
        "from sklearn.model_selection import train_test_split\n",
        "\n",
        "# separate independent and target variable \n",
        "train_X = data_train.drop(columns=['open_flag'])\n",
        "test_X = data_train['open_flag']\n",
        "\n",
        "# randomly split data\n",
        "x_train, x_test, y_train, y_test = train_test_split(train_X, test_X,test_size=0.3,random_state=0)\n",
        "\n",
        "# shape of train and test splits\n",
        "x_train.shape, x_test.shape, y_train.shape, y_test.shape"
      ],
      "execution_count": null,
      "outputs": [
        {
          "output_type": "execute_result",
          "data": {
            "text/plain": [
              "((51477, 42), (22062, 42), (51477,), (22062,))"
            ]
          },
          "metadata": {
            "tags": []
          },
          "execution_count": 63
        }
      ]
    },
    {
      "cell_type": "markdown",
      "metadata": {
        "id": "_hGqnSiGKxWF"
      },
      "source": [
        "### Random Forest"
      ]
    },
    {
      "cell_type": "markdown",
      "metadata": {
        "id": "V4nv7DjaS_Wj"
      },
      "source": [
        "#### 100 tree"
      ]
    },
    {
      "cell_type": "code",
      "metadata": {
        "colab": {
          "base_uri": "https://localhost:8080/"
        },
        "id": "bt4VkuWnKdzG",
        "outputId": "0587d82c-c3a7-43e1-b359-04db059f6522"
      },
      "source": [
        "from sklearn.ensemble import RandomForestClassifier\n",
        "# 100 tree #\n",
        "clf = RandomForestClassifier(random_state=0)\n",
        "clf.fit(x_train,y_train)\n",
        "\n",
        "#accuracy\n",
        "print(\"Accuracy Train (100):   \", clf.score(x_train,y_train))\n",
        "print(\"Accuracy Test (100):   \", clf.score(x_test,y_test))\n",
        "\n",
        "#auc\n",
        "from sklearn import metrics\n",
        "fpr, tpr, _ = metrics.roc_curve(np.array(y_train), clf.predict_proba(x_train)[:,1])\n",
        "auc_train_rf = metrics.auc(fpr,tpr)\n",
        "\n",
        "fpr, tpr, _ = metrics.roc_curve(np.array(y_test), clf.predict_proba(x_test)[:,1])\n",
        "auc_test_rf = metrics.auc(fpr,tpr)\n",
        "\n",
        "print(\"AUC Train (100):   \", auc_train_rf)\n",
        "print(\"AUC Test (100):   \", auc_test_rf)\n",
        "\n",
        "#fscore\n",
        "y_pred = clf.predict(x_test)\n",
        "y_true = y_test\n",
        "f1_rf = metrics.f1_score(y_true, y_pred, average='weighted')\n",
        "print(\"F Score (100):   \", f1_rf)\n",
        "\n",
        "#mcc\n",
        "from sklearn.metrics import matthews_corrcoef\n",
        "print(\"MCC (100):   \", matthews_corrcoef(y_true, y_pred))"
      ],
      "execution_count": null,
      "outputs": [
        {
          "output_type": "stream",
          "text": [
            "Accuracy Train (100):    0.9998640169396041\n",
            "Accuracy Test (100):    0.8870909255733841\n",
            "AUC Train (100):    0.9999957588194086\n",
            "AUC Test (100):    0.8670558791283584\n",
            "F Score (100):    0.8749978169078866\n",
            "MCC (100):    0.5105810371272698\n"
          ],
          "name": "stdout"
        }
      ]
    },
    {
      "cell_type": "code",
      "metadata": {
        "colab": {
          "base_uri": "https://localhost:8080/"
        },
        "id": "b-ESZ9U8e3UO",
        "outputId": "3f5ec223-072e-4aef-f202-c7c62f31ace3"
      },
      "source": [
        "from sklearn.metrics import confusion_matrix\n",
        "\n",
        "#Get the confusion matrix\n",
        "cf_matrix = confusion_matrix(y_test, y_pred)\n",
        "print(cf_matrix)"
      ],
      "execution_count": null,
      "outputs": [
        {
          "output_type": "stream",
          "text": [
            "[[18051   554]\n",
            " [ 1937  1520]]\n"
          ],
          "name": "stdout"
        }
      ]
    },
    {
      "cell_type": "code",
      "metadata": {
        "colab": {
          "base_uri": "https://localhost:8080/",
          "height": 353
        },
        "id": "l8ssSUjpjvXT",
        "outputId": "b1f9c0af-2218-4ea8-b50e-8e35e39dbc57"
      },
      "source": [
        "plt.figure(figsize=(7,5))\n",
        "ax = sns.heatmap(cf_matrix, annot=True, \n",
        "            fmt='', cmap='Oranges')\n",
        "plt.title(\"Confusion Matrix Model Random Forest\", fontsize=13)"
      ],
      "execution_count": null,
      "outputs": [
        {
          "output_type": "execute_result",
          "data": {
            "text/plain": [
              "Text(0.5, 1.0, 'Confusion Matrix Model Random Forest')"
            ]
          },
          "metadata": {
            "tags": []
          },
          "execution_count": 66
        },
        {
          "output_type": "display_data",
          "data": {
            "image/png": "[encoded data removed]",
            "text/plain": [
              "<Figure size 504x360 with 2 Axes>"
            ]
          },
          "metadata": {
            "tags": [],
            "needs_background": "light"
          }
        }
      ]
    },
    {
      "cell_type": "markdown",
      "metadata": {
        "id": "HWrXgGY1TEdD"
      },
      "source": [
        "#### 50 tree"
      ]
    },
    {
      "cell_type": "code",
      "metadata": {
        "colab": {
          "base_uri": "https://localhost:8080/"
        },
        "id": "UXFSrcv6S8C_",
        "outputId": "bc259346-e00f-453c-d1bf-d36b7a139bf1"
      },
      "source": [
        "# 50 tree #\n",
        "clf50 = RandomForestClassifier(random_state=0, n_estimators=50)\n",
        "clf50.fit(x_train,y_train)\n",
        "\n",
        "#accuracy\n",
        "print(\"Accuracy Train (50):   \", clf50.score(x_train,y_train))\n",
        "print(\"Accuracy Test (50):   \", clf50.score(x_test,y_test))\n",
        "\n",
        "#auc\n",
        "from sklearn import metrics\n",
        "fpr, tpr, _ = metrics.roc_curve(np.array(y_train), clf50.predict_proba(x_train)[:,1])\n",
        "auc_train_rf = metrics.auc(fpr,tpr)\n",
        "\n",
        "fpr, tpr, _ = metrics.roc_curve(np.array(y_test), clf50.predict_proba(x_test)[:,1])\n",
        "auc_test_rf = metrics.auc(fpr,tpr)\n",
        "\n",
        "print(\"AUC Train (50):   \", auc_train_rf)\n",
        "print(\"AUC Test (50):   \", auc_test_rf)\n",
        "\n",
        "#fscore\n",
        "y_pred = clf50.predict(x_test)\n",
        "y_true = y_test\n",
        "f1_rf = metrics.f1_score(y_true, y_pred, average='weighted')\n",
        "print(\"F Score (50):   \", f1_rf)\n",
        "\n",
        "#mcc\n",
        "from sklearn.metrics import matthews_corrcoef\n",
        "print(\"MCC (50):   \", matthews_corrcoef(y_true, y_pred))"
      ],
      "execution_count": null,
      "outputs": [
        {
          "output_type": "stream",
          "text": [
            "Accuracy Train (50):    0.9994366416069312\n",
            "Accuracy Test (50):    0.8867283111231983\n",
            "AUC Train (50):    0.9999947409360666\n",
            "AUC Test (50):    0.8627150610755381\n",
            "F Score (50):    0.8745735849361567\n",
            "MCC (50):    0.5087985794700243\n"
          ],
          "name": "stdout"
        }
      ]
    },
    {
      "cell_type": "markdown",
      "metadata": {
        "id": "CEhorNL8TNF8"
      },
      "source": [
        "#### 150 tree"
      ]
    },
    {
      "cell_type": "code",
      "metadata": {
        "colab": {
          "base_uri": "https://localhost:8080/"
        },
        "id": "s9QBR2ukS9tp",
        "outputId": "3f660e1b-2721-489f-c631-b21220c116b1"
      },
      "source": [
        "# 150 tree #\n",
        "clf150 = RandomForestClassifier(random_state=0, n_estimators=150)\n",
        "clf150.fit(x_train,y_train)\n",
        "\n",
        "#accuracy\n",
        "print(\"Accuracy Train (150):   \", clf150.score(x_train,y_train))\n",
        "print(\"Accuracy Test (150):   \", clf150.score(x_test,y_test))\n",
        "\n",
        "#auc\n",
        "from sklearn import metrics\n",
        "fpr, tpr, _ = metrics.roc_curve(np.array(y_train), clf150.predict_proba(x_train)[:,1])\n",
        "auc_train_rf = metrics.auc(fpr,tpr)\n",
        "\n",
        "fpr, tpr, _ = metrics.roc_curve(np.array(y_test), clf150.predict_proba(x_test)[:,1])\n",
        "auc_test_rf = metrics.auc(fpr,tpr)\n",
        "\n",
        "print(\"AUC Train (150):   \", auc_train_rf)\n",
        "print(\"AUC Test (150):   \", auc_test_rf)\n",
        "\n",
        "#fscore\n",
        "y_pred = clf150.predict(x_test)\n",
        "y_true = y_test\n",
        "f1_rf = metrics.f1_score(y_true, y_pred, average='weighted')\n",
        "print(\"F Score (150):   \", f1_rf)\n",
        "\n",
        "#mcc\n",
        "from sklearn.metrics import matthews_corrcoef\n",
        "print(\"MCC (150):   \", matthews_corrcoef(y_true, y_pred))"
      ],
      "execution_count": null,
      "outputs": [
        {
          "output_type": "stream",
          "text": [
            "Accuracy Train (150):    0.9999028692425743\n",
            "Accuracy Test (150):    0.8874535400235699\n",
            "AUC Train (150):    0.9999951952455807\n",
            "AUC Test (150):    0.8694346723911858\n",
            "F Score (150):    0.8755796693346736\n",
            "MCC (150):    0.5128685827456969\n"
          ],
          "name": "stdout"
        }
      ]
    },
    {
      "cell_type": "markdown",
      "metadata": {
        "id": "4dccy_SrSjes"
      },
      "source": [
        "### Neural Network"
      ]
    },
    {
      "cell_type": "markdown",
      "metadata": {
        "id": "Wzg0cvM5Cb4_"
      },
      "source": [
        "#### 100 hidden layer"
      ]
    },
    {
      "cell_type": "code",
      "metadata": {
        "colab": {
          "base_uri": "https://localhost:8080/"
        },
        "id": "rNvs0AvuSVxe",
        "outputId": "5e165c1c-5cc0-4c33-88f9-f858092c57c9"
      },
      "source": [
        "from sklearn.neural_network import MLPClassifier\n",
        "clf2 = MLPClassifier()\n",
        "clf2.fit(x_train,y_train)\n",
        "\n",
        "print(\"Accuracy Train:   \", clf2.score(x_train,y_train))\n",
        "print(\"Accuracy Test:   \", clf2.score(x_test,y_test))\n",
        "\n",
        "#auc\n",
        "from sklearn import metrics\n",
        "fpr, tpr, _ = metrics.roc_curve(np.array(y_train), clf2.predict_proba(x_train)[:,1])\n",
        "auc_train_nn = metrics.auc(fpr,tpr)\n",
        "\n",
        "fpr, tpr, _ = metrics.roc_curve(np.array(y_test), clf2.predict_proba(x_test)[:,1])\n",
        "auc_test_nn = metrics.auc(fpr,tpr)\n",
        "\n",
        "print(\"AUC Train:   \", auc_train_nn)\n",
        "print(\"AUC Test:   \", auc_test_nn)\n",
        "\n",
        "#fscore\n",
        "y_pred = clf2.predict(x_test)\n",
        "y_true = y_test\n",
        "f1_nn = metrics.f1_score(y_true, y_pred, average='weighted')\n",
        "print(\"F Score:   \", f1_nn)\n",
        "\n",
        "#mcc\n",
        "from sklearn.metrics import matthews_corrcoef\n",
        "print(\"MCC:   \", matthews_corrcoef(y_true, y_pred))"
      ],
      "execution_count": null,
      "outputs": [
        {
          "output_type": "stream",
          "text": [
            "/usr/local/lib/python3.7/dist-packages/sklearn/neural_network/_multilayer_perceptron.py:571: ConvergenceWarning: Stochastic Optimizer: Maximum iterations (200) reached and the optimization hasn't converged yet.\n",
            "  % self.max_iter, ConvergenceWarning)\n"
          ],
          "name": "stderr"
        },
        {
          "output_type": "stream",
          "text": [
            "Accuracy Train:    0.890164539503079\n",
            "Accuracy Test:    0.8821956304958752\n",
            "AUC Train:    0.8700704463259159\n",
            "AUC Test:    0.8523403083935885\n",
            "F Score:    0.8686395481\n",
            "MCC:    0.4843366687760598\n"
          ],
          "name": "stdout"
        }
      ]
    },
    {
      "cell_type": "markdown",
      "metadata": {
        "id": "wp2bpQXTCgMN"
      },
      "source": [
        "#### 50 hidden layer"
      ]
    },
    {
      "cell_type": "code",
      "metadata": {
        "colab": {
          "base_uri": "https://localhost:8080/"
        },
        "id": "MZTRT-qLCkS1",
        "outputId": "00d219cc-ff16-482b-c0ee-ae820c7b86ef"
      },
      "source": [
        "from sklearn.neural_network import MLPClassifier\n",
        "clf2 = MLPClassifier(hidden_layer_sizes = 50)\n",
        "clf2.fit(x_train,y_train)\n",
        "\n",
        "print(\"Accuracy Train (50):   \", clf2.score(x_train,y_train))\n",
        "print(\"Accuracy Test (50):   \", clf2.score(x_test,y_test))\n",
        "\n",
        "#auc\n",
        "from sklearn import metrics\n",
        "fpr, tpr, _ = metrics.roc_curve(np.array(y_train), clf2.predict_proba(x_train)[:,1])\n",
        "auc_train_nn = metrics.auc(fpr,tpr)\n",
        "\n",
        "fpr, tpr, _ = metrics.roc_curve(np.array(y_test), clf2.predict_proba(x_test)[:,1])\n",
        "auc_test_nn = metrics.auc(fpr,tpr)\n",
        "\n",
        "print(\"AUC Train (50):   \", auc_train_nn)\n",
        "print(\"AUC Test (50):   \", auc_test_nn)\n",
        "\n",
        "#fscore\n",
        "y_pred = clf2.predict(x_test)\n",
        "y_true = y_test\n",
        "f1_nn = metrics.f1_score(y_true, y_pred, average='weighted')\n",
        "print(\"F Score (50):   \", f1_nn)\n",
        "\n",
        "#mcc\n",
        "from sklearn.metrics import matthews_corrcoef\n",
        "print(\"MCC (50):   \", matthews_corrcoef(y_true, y_pred))"
      ],
      "execution_count": null,
      "outputs": [
        {
          "output_type": "stream",
          "text": [
            "Accuracy Train (50):    0.8902616702605047\n",
            "Accuracy Test (50):    0.8833741274589793\n",
            "AUC Train (50):    0.8605070038971304\n",
            "AUC Test (50):    0.8518996195202595\n",
            "F Score (50):    0.8708594774072557\n",
            "MCC (50):    0.49298315673559245\n"
          ],
          "name": "stdout"
        }
      ]
    },
    {
      "cell_type": "markdown",
      "metadata": {
        "id": "MPSy6iwzCspb"
      },
      "source": [
        "#### 150 hidden layer"
      ]
    },
    {
      "cell_type": "code",
      "metadata": {
        "colab": {
          "base_uri": "https://localhost:8080/"
        },
        "id": "-otL5QQ6Cu2T",
        "outputId": "0064f04e-f188-43f2-c234-5e78b9c2e427"
      },
      "source": [
        "from sklearn.neural_network import MLPClassifier\n",
        "clf2 = MLPClassifier(hidden_layer_sizes = 150)\n",
        "clf2.fit(x_train,y_train)\n",
        "\n",
        "print(\"Accuracy Train (150):   \", clf2.score(x_train,y_train))\n",
        "print(\"Accuracy Test (150):   \", clf2.score(x_test,y_test))\n",
        "\n",
        "#auc\n",
        "from sklearn import metrics\n",
        "fpr, tpr, _ = metrics.roc_curve(np.array(y_train), clf2.predict_proba(x_train)[:,1])\n",
        "auc_train_nn = metrics.auc(fpr,tpr)\n",
        "\n",
        "fpr, tpr, _ = metrics.roc_curve(np.array(y_test), clf2.predict_proba(x_test)[:,1])\n",
        "auc_test_nn = metrics.auc(fpr,tpr)\n",
        "\n",
        "print(\"AUC Train:   \", auc_train_nn)\n",
        "print(\"AUC Test:   \", auc_test_nn)\n",
        "\n",
        "#fscore\n",
        "y_pred = clf2.predict(x_test)\n",
        "y_true = y_test\n",
        "f1_nn = metrics.f1_score(y_true, y_pred, average='weighted')\n",
        "print(\"F Score (150):   \", f1_nn)\n",
        "\n",
        "#mcc\n",
        "from sklearn.metrics import matthews_corrcoef\n",
        "print(\"MCC (150):   \", matthews_corrcoef(y_true, y_pred))"
      ],
      "execution_count": null,
      "outputs": [
        {
          "output_type": "stream",
          "text": [
            "Accuracy Train (150):    0.891815762379315\n",
            "Accuracy Test (150):    0.8813797479829572\n",
            "AUC Train:    0.8760045279361561\n",
            "AUC Test:    0.8544365346375095\n",
            "F Score (150):    0.8693116633812769\n",
            "MCC (150):    0.4859640514663063\n"
          ],
          "name": "stdout"
        }
      ]
    },
    {
      "cell_type": "markdown",
      "metadata": {
        "id": "1el2sTsJSmQ-"
      },
      "source": [
        "### Naive Bayes"
      ]
    },
    {
      "cell_type": "code",
      "metadata": {
        "colab": {
          "base_uri": "https://localhost:8080/"
        },
        "id": "NRu1N6kpSnsx",
        "outputId": "997eb53f-c177-4275-f403-ae6b895b5e99"
      },
      "source": [
        "from sklearn.naive_bayes import GaussianNB \n",
        "clf3 = GaussianNB()\n",
        "clf3.fit(x_train,y_train)\n",
        "\n",
        "print(\"Accuracy Train:   \", clf3.score(x_train,y_train))\n",
        "print(\"Accuracy Test:   \", clf3.score(x_test,y_test))\n",
        "\n",
        "#auc\n",
        "from sklearn import metrics\n",
        "fpr, tpr, _ = metrics.roc_curve(np.array(y_train), clf3.predict_proba(x_train)[:,1])\n",
        "auc_train_nb = metrics.auc(fpr,tpr)\n",
        "\n",
        "fpr, tpr, _ = metrics.roc_curve(np.array(y_test), clf3.predict_proba(x_test)[:,1])\n",
        "auc_test_nb = metrics.auc(fpr,tpr)\n",
        "\n",
        "print(\"AUC Train:   \", auc_train_nb)\n",
        "print(\"AUC Test:   \", auc_test_nb)\n",
        "\n",
        "#fscore\n",
        "y_pred = clf3.predict(x_test)\n",
        "y_true = y_test\n",
        "f1_nb = metrics.f1_score(y_true, y_pred, average='weighted')\n",
        "print(\"F Score:   \", f1_nb)\n",
        "\n",
        "#mcc\n",
        "from sklearn.metrics import matthews_corrcoef\n",
        "print(\"MCC:   \", matthews_corrcoef(y_true, y_pred))"
      ],
      "execution_count": null,
      "outputs": [
        {
          "output_type": "stream",
          "text": [
            "Accuracy Train:    0.831419857412048\n",
            "Accuracy Test:    0.8339679086211585\n",
            "AUC Train:    0.8100117723096638\n",
            "AUC Test:    0.8109243699438807\n",
            "F Score:    0.839212674816173\n",
            "MCC:    0.41493262915930135\n"
          ],
          "name": "stdout"
        }
      ]
    },
    {
      "cell_type": "markdown",
      "metadata": {
        "id": "Tgee9A6rTDIj"
      },
      "source": [
        "## Processing df_test\n",
        "1. One-hot encoding\n",
        "2. Remove noise"
      ]
    },
    {
      "cell_type": "code",
      "metadata": {
        "id": "9d9IHIMRTGtT",
        "colab": {
          "base_uri": "https://localhost:8080/"
        },
        "outputId": "95739037-d1f4-4880-f55e-030410d4ce92"
      },
      "source": [
        "df_test.info()"
      ],
      "execution_count": null,
      "outputs": [
        {
          "output_type": "stream",
          "text": [
            "<class 'pandas.core.frame.DataFrame'>\n",
            "RangeIndex: 55970 entries, 0 to 55969\n",
            "Data columns (total 17 columns):\n",
            " #   Column                       Non-Null Count  Dtype \n",
            "---  ------                       --------------  ----- \n",
            " 0   country_code                 55970 non-null  int64 \n",
            " 1   grass_date                   55970 non-null  object\n",
            " 2   user_id                      55970 non-null  int64 \n",
            " 3   subject_line_length          55970 non-null  int64 \n",
            " 4   last_open_day                55970 non-null  object\n",
            " 5   last_login_day               55970 non-null  object\n",
            " 6   last_checkout_day            55970 non-null  object\n",
            " 7   open_count_last_10_days      55970 non-null  int64 \n",
            " 8   open_count_last_30_days      55970 non-null  int64 \n",
            " 9   open_count_last_60_days      55970 non-null  int64 \n",
            " 10  login_count_last_10_days     55970 non-null  int64 \n",
            " 11  login_count_last_30_days     55970 non-null  int64 \n",
            " 12  login_count_last_60_days     55970 non-null  int64 \n",
            " 13  checkout_count_last_10_days  55970 non-null  int64 \n",
            " 14  checkout_count_last_30_days  55970 non-null  int64 \n",
            " 15  checkout_count_last_60_days  55970 non-null  int64 \n",
            " 16  row_id                       55970 non-null  int64 \n",
            "dtypes: int64(13), object(4)\n",
            "memory usage: 7.3+ MB\n"
          ],
          "name": "stdout"
        }
      ]
    },
    {
      "cell_type": "code",
      "metadata": {
        "colab": {
          "base_uri": "https://localhost:8080/",
          "height": 253
        },
        "id": "RYma_3w1fUOq",
        "outputId": "f7e84e13-e973-49b5-912a-d9e38530b320"
      },
      "source": [
        "#create a new data frame for feature engineering \n",
        "\n",
        "# One-hot encoding country code column (1-7)\n",
        "dftest = df_test[['country_code']].copy()\n",
        "encoded_columns = pd.get_dummies(dftest['country_code'])\n",
        "dftest = dftest.join(encoded_columns).drop('country_code', axis=1)\n",
        "\n",
        "# Extract weekday date & month @ grass date\n",
        "dftest['weekday_date'] = pd.to_datetime(df_test.grass_date).dt.day_name()\n",
        "dftest['month'] = pd.to_datetime(df_test.grass_date).dt.month\n",
        "\n",
        "# Add subject line length column\n",
        "dftest['subject_line_length'] = df_test['subject_line_length'].copy()\n",
        "\n",
        "# Convert last open day jadi tipe integer + set last open day jadi 0\n",
        "dftest['last_open_day'] = df_test.last_open_day.apply(lambda x: 1000 if x =='Never open' else x)\n",
        "dftest['last_open_day'] = dftest['last_open_day'].astype(str).astype(int)\n",
        "\n",
        "# Convert last login day jadi tipe integer\n",
        "dftest['last_login_day'] = df_test.last_login_day.apply(lambda x: 20000 if x =='Never login' else x)\n",
        "dftest['last_login_day'] = dftest['last_login_day'].astype(str).astype(int)\n",
        "\n",
        "# Convert  last checkout day jadi tipe integer\n",
        "dftest['last_checkout_day'] = df_test.last_checkout_day.apply(lambda x: 1500 if x =='Never checkout' else x)\n",
        "dftest['last_checkout_day'] = dftest['last_checkout_day'].astype(str).astype(int)\n",
        "\n",
        "df.head(5)"
      ],
      "execution_count": null,
      "outputs": [
        {
          "output_type": "execute_result",
          "data": {
            "text/html": [
              "<div>\n",
              "<style scoped>\n",
              "    .dataframe tbody tr th:only-of-type {\n",
              "        vertical-align: middle;\n",
              "    }\n",
              "\n",
              "    .dataframe tbody tr th {\n",
              "        vertical-align: top;\n",
              "    }\n",
              "\n",
              "    .dataframe thead th {\n",
              "        text-align: right;\n",
              "    }\n",
              "</style>\n",
              "<table border=\"1\" class=\"dataframe\">\n",
              "  <thead>\n",
              "    <tr style=\"text-align: right;\">\n",
              "      <th></th>\n",
              "      <th>1</th>\n",
              "      <th>2</th>\n",
              "      <th>3</th>\n",
              "      <th>4</th>\n",
              "      <th>5</th>\n",
              "      <th>6</th>\n",
              "      <th>...</th>\n",
              "      <th>login_count_last_60_days</th>\n",
              "      <th>checkout_count_last_10_days</th>\n",
              "      <th>checkout_count_last_30_days</th>\n",
              "      <th>checkout_count_last_60_days</th>\n",
              "      <th>user_id</th>\n",
              "      <th>open_flag</th>\n",
              "    </tr>\n",
              "  </thead>\n",
              "  <tbody>\n",
              "    <tr>\n",
              "      <th>0</th>\n",
              "      <td>0</td>\n",
              "      <td>0</td>\n",
              "      <td>0</td>\n",
              "      <td>1</td>\n",
              "      <td>0</td>\n",
              "      <td>0</td>\n",
              "      <td>...</td>\n",
              "      <td>99</td>\n",
              "      <td>0</td>\n",
              "      <td>5</td>\n",
              "      <td>10</td>\n",
              "      <td>43</td>\n",
              "      <td>0</td>\n",
              "    </tr>\n",
              "    <tr>\n",
              "      <th>1</th>\n",
              "      <td>0</td>\n",
              "      <td>0</td>\n",
              "      <td>0</td>\n",
              "      <td>1</td>\n",
              "      <td>0</td>\n",
              "      <td>0</td>\n",
              "      <td>...</td>\n",
              "      <td>90</td>\n",
              "      <td>1</td>\n",
              "      <td>1</td>\n",
              "      <td>4</td>\n",
              "      <td>102</td>\n",
              "      <td>1</td>\n",
              "    </tr>\n",
              "    <tr>\n",
              "      <th>2</th>\n",
              "      <td>0</td>\n",
              "      <td>0</td>\n",
              "      <td>0</td>\n",
              "      <td>0</td>\n",
              "      <td>0</td>\n",
              "      <td>1</td>\n",
              "      <td>...</td>\n",
              "      <td>119</td>\n",
              "      <td>5</td>\n",
              "      <td>19</td>\n",
              "      <td>27</td>\n",
              "      <td>177</td>\n",
              "      <td>0</td>\n",
              "    </tr>\n",
              "    <tr>\n",
              "      <th>3</th>\n",
              "      <td>1</td>\n",
              "      <td>0</td>\n",
              "      <td>0</td>\n",
              "      <td>0</td>\n",
              "      <td>0</td>\n",
              "      <td>0</td>\n",
              "      <td>...</td>\n",
              "      <td>69</td>\n",
              "      <td>0</td>\n",
              "      <td>0</td>\n",
              "      <td>6</td>\n",
              "      <td>184</td>\n",
              "      <td>0</td>\n",
              "    </tr>\n",
              "    <tr>\n",
              "      <th>4</th>\n",
              "      <td>0</td>\n",
              "      <td>0</td>\n",
              "      <td>0</td>\n",
              "      <td>0</td>\n",
              "      <td>0</td>\n",
              "      <td>1</td>\n",
              "      <td>...</td>\n",
              "      <td>5</td>\n",
              "      <td>0</td>\n",
              "      <td>0</td>\n",
              "      <td>0</td>\n",
              "      <td>221</td>\n",
              "      <td>0</td>\n",
              "    </tr>\n",
              "  </tbody>\n",
              "</table>\n",
              "<p>5 rows × 24 columns</p>\n",
              "</div>"
            ],
            "text/plain": [
              "   1  2  3  4  5  6  ...  login_count_last_60_days  \\\n",
              "0  0  0  0  1  0  0  ...                        99   \n",
              "1  0  0  0  1  0  0  ...                        90   \n",
              "2  0  0  0  0  0  1  ...                       119   \n",
              "3  1  0  0  0  0  0  ...                        69   \n",
              "4  0  0  0  0  0  1  ...                         5   \n",
              "\n",
              "  checkout_count_last_10_days  checkout_count_last_30_days  \\\n",
              "0                           0                            5   \n",
              "1                           1                            1   \n",
              "2                           5                           19   \n",
              "3                           0                            0   \n",
              "4                           0                            0   \n",
              "\n",
              "   checkout_count_last_60_days  user_id  open_flag  \n",
              "0                           10       43          0  \n",
              "1                            4      102          1  \n",
              "2                           27      177          0  \n",
              "3                            6      184          0  \n",
              "4                            0      221          0  \n",
              "\n",
              "[5 rows x 24 columns]"
            ]
          },
          "metadata": {
            "tags": []
          },
          "execution_count": 89
        }
      ]
    },
    {
      "cell_type": "code",
      "metadata": {
        "id": "Jdxd7zvpffHC"
      },
      "source": [
        "#remove noise in open count last 10/30/60 days\n",
        "\n",
        "# Set last open days > 10 days ago to 0 on open_count_last_10_days\n",
        "dftest['open_count_last_10_days'] = df_test['open_count_last_10_days'].copy()\n",
        "dftest['open_count_last_10_days'] = dftest.apply(lambda x: 0 if (x['last_open_day'] > 10) else x['open_count_last_10_days'],axis =1)\n",
        "\n",
        "dftest['open_count_last_30_days'] = df_test['open_count_last_30_days'].copy()\n",
        "dftest['open_count_last_30_days'] = dftest.apply(lambda x: 0 if (x['last_open_day'] > 30) else x['open_count_last_30_days'],axis =1)\n",
        "dftest['open_count_last_60_days'] = df_test['open_count_last_60_days'].copy()\n",
        "dftest['open_count_last_60_days'] = dftest.apply(lambda x: 0 if (x['last_open_day'] > 60) else x['open_count_last_60_days'],axis =1)"
      ],
      "execution_count": null,
      "outputs": []
    },
    {
      "cell_type": "code",
      "metadata": {
        "colab": {
          "base_uri": "https://localhost:8080/",
          "height": 253
        },
        "id": "nRaPns3Tfiie",
        "outputId": "fa79b445-1269-463e-ce6b-8962813c222b"
      },
      "source": [
        "dftest['open_count_last_10_days'] = dftest.apply(lambda x: 1 if ((x['last_open_day'] <= 10) & (x['open_count_last_10_days']==0)) else x['open_count_last_10_days'],axis=1)\n",
        "dftest['open_count_last_30_days'] = dftest.apply(lambda x: 1 if ((x['last_open_day'] <= 30) & (x['open_count_last_30_days']==0)) else x['open_count_last_30_days'],axis =1)\n",
        "dftest['open_count_last_60_days'] = dftest.apply(lambda x: 1 if ((x['last_open_day'] <= 60) & (x['open_count_last_60_days']==0)) else x['open_count_last_60_days'],axis =1)\n",
        "dftest.head()"
      ],
      "execution_count": null,
      "outputs": [
        {
          "output_type": "execute_result",
          "data": {
            "text/html": [
              "<div>\n",
              "<style scoped>\n",
              "    .dataframe tbody tr th:only-of-type {\n",
              "        vertical-align: middle;\n",
              "    }\n",
              "\n",
              "    .dataframe tbody tr th {\n",
              "        vertical-align: top;\n",
              "    }\n",
              "\n",
              "    .dataframe thead th {\n",
              "        text-align: right;\n",
              "    }\n",
              "</style>\n",
              "<table border=\"1\" class=\"dataframe\">\n",
              "  <thead>\n",
              "    <tr style=\"text-align: right;\">\n",
              "      <th></th>\n",
              "      <th>1</th>\n",
              "      <th>2</th>\n",
              "      <th>3</th>\n",
              "      <th>4</th>\n",
              "      <th>5</th>\n",
              "      <th>6</th>\n",
              "      <th>...</th>\n",
              "      <th>last_open_day</th>\n",
              "      <th>last_login_day</th>\n",
              "      <th>last_checkout_day</th>\n",
              "      <th>open_count_last_10_days</th>\n",
              "      <th>open_count_last_30_days</th>\n",
              "      <th>open_count_last_60_days</th>\n",
              "    </tr>\n",
              "  </thead>\n",
              "  <tbody>\n",
              "    <tr>\n",
              "      <th>0</th>\n",
              "      <td>0</td>\n",
              "      <td>0</td>\n",
              "      <td>0</td>\n",
              "      <td>0</td>\n",
              "      <td>0</td>\n",
              "      <td>1</td>\n",
              "      <td>...</td>\n",
              "      <td>27</td>\n",
              "      <td>2</td>\n",
              "      <td>13</td>\n",
              "      <td>0</td>\n",
              "      <td>3</td>\n",
              "      <td>4</td>\n",
              "    </tr>\n",
              "    <tr>\n",
              "      <th>1</th>\n",
              "      <td>0</td>\n",
              "      <td>0</td>\n",
              "      <td>0</td>\n",
              "      <td>0</td>\n",
              "      <td>0</td>\n",
              "      <td>1</td>\n",
              "      <td>...</td>\n",
              "      <td>7</td>\n",
              "      <td>5</td>\n",
              "      <td>383</td>\n",
              "      <td>1</td>\n",
              "      <td>1</td>\n",
              "      <td>1</td>\n",
              "    </tr>\n",
              "    <tr>\n",
              "      <th>2</th>\n",
              "      <td>0</td>\n",
              "      <td>0</td>\n",
              "      <td>0</td>\n",
              "      <td>0</td>\n",
              "      <td>1</td>\n",
              "      <td>0</td>\n",
              "      <td>...</td>\n",
              "      <td>34</td>\n",
              "      <td>1</td>\n",
              "      <td>3</td>\n",
              "      <td>0</td>\n",
              "      <td>0</td>\n",
              "      <td>1</td>\n",
              "    </tr>\n",
              "    <tr>\n",
              "      <th>3</th>\n",
              "      <td>1</td>\n",
              "      <td>0</td>\n",
              "      <td>0</td>\n",
              "      <td>0</td>\n",
              "      <td>0</td>\n",
              "      <td>0</td>\n",
              "      <td>...</td>\n",
              "      <td>63</td>\n",
              "      <td>5</td>\n",
              "      <td>5</td>\n",
              "      <td>0</td>\n",
              "      <td>0</td>\n",
              "      <td>0</td>\n",
              "    </tr>\n",
              "    <tr>\n",
              "      <th>4</th>\n",
              "      <td>0</td>\n",
              "      <td>0</td>\n",
              "      <td>0</td>\n",
              "      <td>0</td>\n",
              "      <td>1</td>\n",
              "      <td>0</td>\n",
              "      <td>...</td>\n",
              "      <td>6</td>\n",
              "      <td>5</td>\n",
              "      <td>54</td>\n",
              "      <td>1</td>\n",
              "      <td>1</td>\n",
              "      <td>1</td>\n",
              "    </tr>\n",
              "  </tbody>\n",
              "</table>\n",
              "<p>5 rows × 16 columns</p>\n",
              "</div>"
            ],
            "text/plain": [
              "   1  2  3  4  5  6  ...  last_open_day last_login_day  last_checkout_day  \\\n",
              "0  0  0  0  0  0  1  ...             27              2                 13   \n",
              "1  0  0  0  0  0  1  ...              7              5                383   \n",
              "2  0  0  0  0  1  0  ...             34              1                  3   \n",
              "3  1  0  0  0  0  0  ...             63              5                  5   \n",
              "4  0  0  0  0  1  0  ...              6              5                 54   \n",
              "\n",
              "   open_count_last_10_days  open_count_last_30_days  open_count_last_60_days  \n",
              "0                        0                        3                        4  \n",
              "1                        1                        1                        1  \n",
              "2                        0                        0                        1  \n",
              "3                        0                        0                        0  \n",
              "4                        1                        1                        1  \n",
              "\n",
              "[5 rows x 16 columns]"
            ]
          },
          "metadata": {
            "tags": []
          },
          "execution_count": 91
        }
      ]
    },
    {
      "cell_type": "code",
      "metadata": {
        "colab": {
          "base_uri": "https://localhost:8080/",
          "height": 253
        },
        "id": "Uoh7ZSkNflT4",
        "outputId": "a8375dc4-7269-4b4b-f1c7-537f9f2c4455"
      },
      "source": [
        "#remove noise in login count last 10/30/60 days\n",
        "\n",
        "# Set last open days > 10 days ago to 0 on open_login_last_10_days\n",
        "dftest['login_count_last_10_days'] = df_test['login_count_last_10_days'].copy()\n",
        "dftest['login_count_last_10_days'] = dftest.apply(lambda x: 0 if (x['last_login_day'] > 10) else x['login_count_last_10_days'],axis =1)\n",
        "dftest['login_count_last_30_days'] = df_test['login_count_last_30_days'].copy()\n",
        "dftest['login_count_last_30_days'] = dftest.apply(lambda x: 0 if (x['last_login_day'] > 30) else x['login_count_last_30_days'],axis =1)\n",
        "dftest['login_count_last_60_days'] = df_test['login_count_last_60_days'].copy()\n",
        "dftest['login_count_last_60_days'] = dftest.apply(lambda x: 0 if (x['last_login_day'] > 60) else x['login_count_last_60_days'],axis =1)\n",
        "\n",
        "dftest['login_count_last_10_days'] = dftest.apply(lambda x: 1 if ((x['last_login_day'] <= 10) & (x['login_count_last_10_days']==0)) else x['login_count_last_10_days'],axis=1)\n",
        "dftest['login_count_last_30_days'] = dftest.apply(lambda x: 1 if ((x['last_login_day'] <= 30) & (x['login_count_last_30_days']==0)) else x['login_count_last_30_days'],axis =1)\n",
        "dftest['login_count_last_60_days'] = dftest.apply(lambda x: 1 if ((x['last_login_day'] <= 60) & (x['login_count_last_60_days']==0)) else x['login_count_last_60_days'],axis =1)\n",
        "\n",
        "dftest.head()"
      ],
      "execution_count": null,
      "outputs": [
        {
          "output_type": "execute_result",
          "data": {
            "text/html": [
              "<div>\n",
              "<style scoped>\n",
              "    .dataframe tbody tr th:only-of-type {\n",
              "        vertical-align: middle;\n",
              "    }\n",
              "\n",
              "    .dataframe tbody tr th {\n",
              "        vertical-align: top;\n",
              "    }\n",
              "\n",
              "    .dataframe thead th {\n",
              "        text-align: right;\n",
              "    }\n",
              "</style>\n",
              "<table border=\"1\" class=\"dataframe\">\n",
              "  <thead>\n",
              "    <tr style=\"text-align: right;\">\n",
              "      <th></th>\n",
              "      <th>1</th>\n",
              "      <th>2</th>\n",
              "      <th>3</th>\n",
              "      <th>4</th>\n",
              "      <th>5</th>\n",
              "      <th>6</th>\n",
              "      <th>...</th>\n",
              "      <th>open_count_last_10_days</th>\n",
              "      <th>open_count_last_30_days</th>\n",
              "      <th>open_count_last_60_days</th>\n",
              "      <th>login_count_last_10_days</th>\n",
              "      <th>login_count_last_30_days</th>\n",
              "      <th>login_count_last_60_days</th>\n",
              "    </tr>\n",
              "  </thead>\n",
              "  <tbody>\n",
              "    <tr>\n",
              "      <th>0</th>\n",
              "      <td>0</td>\n",
              "      <td>0</td>\n",
              "      <td>0</td>\n",
              "      <td>0</td>\n",
              "      <td>0</td>\n",
              "      <td>1</td>\n",
              "      <td>...</td>\n",
              "      <td>0</td>\n",
              "      <td>3</td>\n",
              "      <td>4</td>\n",
              "      <td>10</td>\n",
              "      <td>34</td>\n",
              "      <td>134</td>\n",
              "    </tr>\n",
              "    <tr>\n",
              "      <th>1</th>\n",
              "      <td>0</td>\n",
              "      <td>0</td>\n",
              "      <td>0</td>\n",
              "      <td>0</td>\n",
              "      <td>0</td>\n",
              "      <td>1</td>\n",
              "      <td>...</td>\n",
              "      <td>1</td>\n",
              "      <td>1</td>\n",
              "      <td>1</td>\n",
              "      <td>5</td>\n",
              "      <td>5</td>\n",
              "      <td>5</td>\n",
              "    </tr>\n",
              "    <tr>\n",
              "      <th>2</th>\n",
              "      <td>0</td>\n",
              "      <td>0</td>\n",
              "      <td>0</td>\n",
              "      <td>0</td>\n",
              "      <td>1</td>\n",
              "      <td>0</td>\n",
              "      <td>...</td>\n",
              "      <td>0</td>\n",
              "      <td>0</td>\n",
              "      <td>1</td>\n",
              "      <td>13</td>\n",
              "      <td>19</td>\n",
              "      <td>38</td>\n",
              "    </tr>\n",
              "    <tr>\n",
              "      <th>3</th>\n",
              "      <td>1</td>\n",
              "      <td>0</td>\n",
              "      <td>0</td>\n",
              "      <td>0</td>\n",
              "      <td>0</td>\n",
              "      <td>0</td>\n",
              "      <td>...</td>\n",
              "      <td>0</td>\n",
              "      <td>0</td>\n",
              "      <td>0</td>\n",
              "      <td>43</td>\n",
              "      <td>110</td>\n",
              "      <td>173</td>\n",
              "    </tr>\n",
              "    <tr>\n",
              "      <th>4</th>\n",
              "      <td>0</td>\n",
              "      <td>0</td>\n",
              "      <td>0</td>\n",
              "      <td>0</td>\n",
              "      <td>1</td>\n",
              "      <td>0</td>\n",
              "      <td>...</td>\n",
              "      <td>1</td>\n",
              "      <td>1</td>\n",
              "      <td>1</td>\n",
              "      <td>4</td>\n",
              "      <td>12</td>\n",
              "      <td>39</td>\n",
              "    </tr>\n",
              "  </tbody>\n",
              "</table>\n",
              "<p>5 rows × 19 columns</p>\n",
              "</div>"
            ],
            "text/plain": [
              "   1  2  3  4  5  6  ...  open_count_last_10_days open_count_last_30_days  \\\n",
              "0  0  0  0  0  0  1  ...                        0                       3   \n",
              "1  0  0  0  0  0  1  ...                        1                       1   \n",
              "2  0  0  0  0  1  0  ...                        0                       0   \n",
              "3  1  0  0  0  0  0  ...                        0                       0   \n",
              "4  0  0  0  0  1  0  ...                        1                       1   \n",
              "\n",
              "   open_count_last_60_days  login_count_last_10_days  \\\n",
              "0                        4                        10   \n",
              "1                        1                         5   \n",
              "2                        1                        13   \n",
              "3                        0                        43   \n",
              "4                        1                         4   \n",
              "\n",
              "   login_count_last_30_days  login_count_last_60_days  \n",
              "0                        34                       134  \n",
              "1                         5                         5  \n",
              "2                        19                        38  \n",
              "3                       110                       173  \n",
              "4                        12                        39  \n",
              "\n",
              "[5 rows x 19 columns]"
            ]
          },
          "metadata": {
            "tags": []
          },
          "execution_count": 92
        }
      ]
    },
    {
      "cell_type": "code",
      "metadata": {
        "id": "XOOnY1sbfmQk"
      },
      "source": [
        "dftest['checkout_count_last_10_days'] = df_test['checkout_count_last_10_days'].copy()\n",
        "dftest['checkout_count_last_30_days'] = df_test['checkout_count_last_30_days'].copy()\n",
        "dftest['checkout_count_last_60_days'] = df_test['checkout_count_last_60_days'].copy()"
      ],
      "execution_count": null,
      "outputs": []
    },
    {
      "cell_type": "code",
      "metadata": {
        "colab": {
          "base_uri": "https://localhost:8080/",
          "height": 253
        },
        "id": "_i0gWaWPfpOa",
        "outputId": "a78379c8-da63-4a00-ba05-5b7a1b8cbbe3"
      },
      "source": [
        "# remove noise in checkout count last 10/30/60 days\n",
        "\n",
        "# Set last open days > 10 days ago to 0 on checkout_count_last_10_days\n",
        "dftest['checkout_count_last_10_days'] = dftest.apply(lambda x: 0 if (x['last_checkout_day'] > 10) else x['checkout_count_last_10_days'],axis =1)\n",
        "dftest['checkout_count_last_30_days'] = dftest.apply(lambda x: 0 if (x['last_checkout_day'] > 30) else x['checkout_count_last_30_days'],axis =1)\n",
        "dftest['checkout_count_last_60_days'] = dftest.apply(lambda x: 0 if (x['last_checkout_day'] > 60) else x['checkout_count_last_60_days'],axis =1)\n",
        "\n",
        "dftest['checkout_count_last_10_days'] = dftest.apply(lambda x: 1 if ((x['last_checkout_day'] <= 10) & (x['checkout_count_last_10_days']==0)) else x['checkout_count_last_10_days'],axis=1)\n",
        "dftest['checkout_count_last_30_days'] = dftest.apply(lambda x: 1 if ((x['last_checkout_day'] <= 30) & (x['checkout_count_last_30_days']==0)) else x['checkout_count_last_30_days'],axis =1)\n",
        "dftest['checkout_count_last_60_days'] = dftest.apply(lambda x: 1 if ((x['last_checkout_day'] <= 60) & (x['checkout_count_last_60_days']==0)) else x['checkout_count_last_60_days'],axis =1)\n",
        "\n",
        "dftest.head()"
      ],
      "execution_count": null,
      "outputs": [
        {
          "output_type": "execute_result",
          "data": {
            "text/html": [
              "<div>\n",
              "<style scoped>\n",
              "    .dataframe tbody tr th:only-of-type {\n",
              "        vertical-align: middle;\n",
              "    }\n",
              "\n",
              "    .dataframe tbody tr th {\n",
              "        vertical-align: top;\n",
              "    }\n",
              "\n",
              "    .dataframe thead th {\n",
              "        text-align: right;\n",
              "    }\n",
              "</style>\n",
              "<table border=\"1\" class=\"dataframe\">\n",
              "  <thead>\n",
              "    <tr style=\"text-align: right;\">\n",
              "      <th></th>\n",
              "      <th>1</th>\n",
              "      <th>2</th>\n",
              "      <th>3</th>\n",
              "      <th>4</th>\n",
              "      <th>5</th>\n",
              "      <th>6</th>\n",
              "      <th>...</th>\n",
              "      <th>login_count_last_10_days</th>\n",
              "      <th>login_count_last_30_days</th>\n",
              "      <th>login_count_last_60_days</th>\n",
              "      <th>checkout_count_last_10_days</th>\n",
              "      <th>checkout_count_last_30_days</th>\n",
              "      <th>checkout_count_last_60_days</th>\n",
              "    </tr>\n",
              "  </thead>\n",
              "  <tbody>\n",
              "    <tr>\n",
              "      <th>0</th>\n",
              "      <td>0</td>\n",
              "      <td>0</td>\n",
              "      <td>0</td>\n",
              "      <td>0</td>\n",
              "      <td>0</td>\n",
              "      <td>1</td>\n",
              "      <td>...</td>\n",
              "      <td>10</td>\n",
              "      <td>34</td>\n",
              "      <td>134</td>\n",
              "      <td>0</td>\n",
              "      <td>6</td>\n",
              "      <td>18</td>\n",
              "    </tr>\n",
              "    <tr>\n",
              "      <th>1</th>\n",
              "      <td>0</td>\n",
              "      <td>0</td>\n",
              "      <td>0</td>\n",
              "      <td>0</td>\n",
              "      <td>0</td>\n",
              "      <td>1</td>\n",
              "      <td>...</td>\n",
              "      <td>5</td>\n",
              "      <td>5</td>\n",
              "      <td>5</td>\n",
              "      <td>0</td>\n",
              "      <td>0</td>\n",
              "      <td>0</td>\n",
              "    </tr>\n",
              "    <tr>\n",
              "      <th>2</th>\n",
              "      <td>0</td>\n",
              "      <td>0</td>\n",
              "      <td>0</td>\n",
              "      <td>0</td>\n",
              "      <td>1</td>\n",
              "      <td>0</td>\n",
              "      <td>...</td>\n",
              "      <td>13</td>\n",
              "      <td>19</td>\n",
              "      <td>38</td>\n",
              "      <td>2</td>\n",
              "      <td>2</td>\n",
              "      <td>2</td>\n",
              "    </tr>\n",
              "    <tr>\n",
              "      <th>3</th>\n",
              "      <td>1</td>\n",
              "      <td>0</td>\n",
              "      <td>0</td>\n",
              "      <td>0</td>\n",
              "      <td>0</td>\n",
              "      <td>0</td>\n",
              "      <td>...</td>\n",
              "      <td>43</td>\n",
              "      <td>110</td>\n",
              "      <td>173</td>\n",
              "      <td>2</td>\n",
              "      <td>5</td>\n",
              "      <td>5</td>\n",
              "    </tr>\n",
              "    <tr>\n",
              "      <th>4</th>\n",
              "      <td>0</td>\n",
              "      <td>0</td>\n",
              "      <td>0</td>\n",
              "      <td>0</td>\n",
              "      <td>1</td>\n",
              "      <td>0</td>\n",
              "      <td>...</td>\n",
              "      <td>4</td>\n",
              "      <td>12</td>\n",
              "      <td>39</td>\n",
              "      <td>0</td>\n",
              "      <td>0</td>\n",
              "      <td>2</td>\n",
              "    </tr>\n",
              "  </tbody>\n",
              "</table>\n",
              "<p>5 rows × 22 columns</p>\n",
              "</div>"
            ],
            "text/plain": [
              "   1  2  3  4  5  6  ...  login_count_last_10_days login_count_last_30_days  \\\n",
              "0  0  0  0  0  0  1  ...                        10                       34   \n",
              "1  0  0  0  0  0  1  ...                         5                        5   \n",
              "2  0  0  0  0  1  0  ...                        13                       19   \n",
              "3  1  0  0  0  0  0  ...                        43                      110   \n",
              "4  0  0  0  0  1  0  ...                         4                       12   \n",
              "\n",
              "   login_count_last_60_days  checkout_count_last_10_days  \\\n",
              "0                       134                            0   \n",
              "1                         5                            0   \n",
              "2                        38                            2   \n",
              "3                       173                            2   \n",
              "4                        39                            0   \n",
              "\n",
              "   checkout_count_last_30_days  checkout_count_last_60_days  \n",
              "0                            6                           18  \n",
              "1                            0                            0  \n",
              "2                            2                            2  \n",
              "3                            5                            5  \n",
              "4                            0                            2  \n",
              "\n",
              "[5 rows x 22 columns]"
            ]
          },
          "metadata": {
            "tags": []
          },
          "execution_count": 94
        }
      ]
    },
    {
      "cell_type": "markdown",
      "metadata": {
        "id": "dTfP5vK4hq6K"
      },
      "source": [
        "## Merge user ke dftest"
      ]
    },
    {
      "cell_type": "code",
      "metadata": {
        "id": "TNYdky6AhqrP"
      },
      "source": [
        "dftest['user_id']= df_test['user_id'].copy()\n",
        "df_test_1 = pd.merge(left=dftest, right=df_users, left_on='user_id', right_on='user_id')"
      ],
      "execution_count": null,
      "outputs": []
    },
    {
      "cell_type": "code",
      "metadata": {
        "id": "OT5vCGU7iOV7",
        "colab": {
          "base_uri": "https://localhost:8080/",
          "height": 419
        },
        "outputId": "18f383fa-07d7-4cd3-8243-cd872da88ad4"
      },
      "source": [
        "# Apply one-hot encoding for the domain column\n",
        "encoded_columns = pd.get_dummies(df_test_1['domain'])\n",
        "df_test_1 = df_test_1.join(encoded_columns).drop('domain', axis=1)\n",
        "\n",
        "#-1 assigned for missing data\n",
        "df_test_1['attr_1']= df_test_1['attr_1'].fillna(-1)\n",
        "df_test_1['attr_2']= df_test_1['attr_2'].fillna(-1)\n",
        "\n",
        "# Apply one-hot encoding for the weekday date column\n",
        "encoded_columns = pd.get_dummies(df_test_1['weekday_date'])\n",
        "df_test_1 = df_test_1.join(encoded_columns).drop('weekday_date', axis=1)\n",
        "df_test_1"
      ],
      "execution_count": null,
      "outputs": [
        {
          "output_type": "execute_result",
          "data": {
            "text/html": [
              "<div>\n",
              "<style scoped>\n",
              "    .dataframe tbody tr th:only-of-type {\n",
              "        vertical-align: middle;\n",
              "    }\n",
              "\n",
              "    .dataframe tbody tr th {\n",
              "        vertical-align: top;\n",
              "    }\n",
              "\n",
              "    .dataframe thead th {\n",
              "        text-align: right;\n",
              "    }\n",
              "</style>\n",
              "<table border=\"1\" class=\"dataframe\">\n",
              "  <thead>\n",
              "    <tr style=\"text-align: right;\">\n",
              "      <th></th>\n",
              "      <th>1</th>\n",
              "      <th>2</th>\n",
              "      <th>3</th>\n",
              "      <th>4</th>\n",
              "      <th>5</th>\n",
              "      <th>6</th>\n",
              "      <th>...</th>\n",
              "      <th>Monday</th>\n",
              "      <th>Saturday</th>\n",
              "      <th>Sunday</th>\n",
              "      <th>Thursday</th>\n",
              "      <th>Tuesday</th>\n",
              "      <th>Wednesday</th>\n",
              "    </tr>\n",
              "  </thead>\n",
              "  <tbody>\n",
              "    <tr>\n",
              "      <th>0</th>\n",
              "      <td>0</td>\n",
              "      <td>0</td>\n",
              "      <td>0</td>\n",
              "      <td>0</td>\n",
              "      <td>0</td>\n",
              "      <td>1</td>\n",
              "      <td>...</td>\n",
              "      <td>0</td>\n",
              "      <td>0</td>\n",
              "      <td>0</td>\n",
              "      <td>0</td>\n",
              "      <td>1</td>\n",
              "      <td>0</td>\n",
              "    </tr>\n",
              "    <tr>\n",
              "      <th>1</th>\n",
              "      <td>0</td>\n",
              "      <td>0</td>\n",
              "      <td>0</td>\n",
              "      <td>0</td>\n",
              "      <td>0</td>\n",
              "      <td>1</td>\n",
              "      <td>...</td>\n",
              "      <td>0</td>\n",
              "      <td>0</td>\n",
              "      <td>0</td>\n",
              "      <td>0</td>\n",
              "      <td>1</td>\n",
              "      <td>0</td>\n",
              "    </tr>\n",
              "    <tr>\n",
              "      <th>2</th>\n",
              "      <td>0</td>\n",
              "      <td>0</td>\n",
              "      <td>0</td>\n",
              "      <td>0</td>\n",
              "      <td>1</td>\n",
              "      <td>0</td>\n",
              "      <td>...</td>\n",
              "      <td>0</td>\n",
              "      <td>0</td>\n",
              "      <td>0</td>\n",
              "      <td>0</td>\n",
              "      <td>1</td>\n",
              "      <td>0</td>\n",
              "    </tr>\n",
              "    <tr>\n",
              "      <th>3</th>\n",
              "      <td>1</td>\n",
              "      <td>0</td>\n",
              "      <td>0</td>\n",
              "      <td>0</td>\n",
              "      <td>0</td>\n",
              "      <td>0</td>\n",
              "      <td>...</td>\n",
              "      <td>0</td>\n",
              "      <td>0</td>\n",
              "      <td>0</td>\n",
              "      <td>0</td>\n",
              "      <td>1</td>\n",
              "      <td>0</td>\n",
              "    </tr>\n",
              "    <tr>\n",
              "      <th>4</th>\n",
              "      <td>0</td>\n",
              "      <td>0</td>\n",
              "      <td>0</td>\n",
              "      <td>0</td>\n",
              "      <td>1</td>\n",
              "      <td>0</td>\n",
              "      <td>...</td>\n",
              "      <td>0</td>\n",
              "      <td>0</td>\n",
              "      <td>0</td>\n",
              "      <td>0</td>\n",
              "      <td>1</td>\n",
              "      <td>0</td>\n",
              "    </tr>\n",
              "    <tr>\n",
              "      <th>...</th>\n",
              "      <td>...</td>\n",
              "      <td>...</td>\n",
              "      <td>...</td>\n",
              "      <td>...</td>\n",
              "      <td>...</td>\n",
              "      <td>...</td>\n",
              "      <td>...</td>\n",
              "      <td>...</td>\n",
              "      <td>...</td>\n",
              "      <td>...</td>\n",
              "      <td>...</td>\n",
              "      <td>...</td>\n",
              "      <td>...</td>\n",
              "    </tr>\n",
              "    <tr>\n",
              "      <th>55965</th>\n",
              "      <td>0</td>\n",
              "      <td>0</td>\n",
              "      <td>0</td>\n",
              "      <td>0</td>\n",
              "      <td>0</td>\n",
              "      <td>1</td>\n",
              "      <td>...</td>\n",
              "      <td>0</td>\n",
              "      <td>0</td>\n",
              "      <td>1</td>\n",
              "      <td>0</td>\n",
              "      <td>0</td>\n",
              "      <td>0</td>\n",
              "    </tr>\n",
              "    <tr>\n",
              "      <th>55966</th>\n",
              "      <td>0</td>\n",
              "      <td>0</td>\n",
              "      <td>0</td>\n",
              "      <td>0</td>\n",
              "      <td>0</td>\n",
              "      <td>1</td>\n",
              "      <td>...</td>\n",
              "      <td>0</td>\n",
              "      <td>0</td>\n",
              "      <td>1</td>\n",
              "      <td>0</td>\n",
              "      <td>0</td>\n",
              "      <td>0</td>\n",
              "    </tr>\n",
              "    <tr>\n",
              "      <th>55967</th>\n",
              "      <td>0</td>\n",
              "      <td>0</td>\n",
              "      <td>0</td>\n",
              "      <td>0</td>\n",
              "      <td>0</td>\n",
              "      <td>1</td>\n",
              "      <td>...</td>\n",
              "      <td>0</td>\n",
              "      <td>0</td>\n",
              "      <td>1</td>\n",
              "      <td>0</td>\n",
              "      <td>0</td>\n",
              "      <td>0</td>\n",
              "    </tr>\n",
              "    <tr>\n",
              "      <th>55968</th>\n",
              "      <td>0</td>\n",
              "      <td>0</td>\n",
              "      <td>0</td>\n",
              "      <td>0</td>\n",
              "      <td>0</td>\n",
              "      <td>1</td>\n",
              "      <td>...</td>\n",
              "      <td>0</td>\n",
              "      <td>0</td>\n",
              "      <td>1</td>\n",
              "      <td>0</td>\n",
              "      <td>0</td>\n",
              "      <td>0</td>\n",
              "    </tr>\n",
              "    <tr>\n",
              "      <th>55969</th>\n",
              "      <td>0</td>\n",
              "      <td>0</td>\n",
              "      <td>0</td>\n",
              "      <td>0</td>\n",
              "      <td>0</td>\n",
              "      <td>1</td>\n",
              "      <td>...</td>\n",
              "      <td>0</td>\n",
              "      <td>0</td>\n",
              "      <td>1</td>\n",
              "      <td>0</td>\n",
              "      <td>0</td>\n",
              "      <td>0</td>\n",
              "    </tr>\n",
              "  </tbody>\n",
              "</table>\n",
              "<p>55970 rows × 44 columns</p>\n",
              "</div>"
            ],
            "text/plain": [
              "       1  2  3  4  5  6  ...  Monday  Saturday  Sunday  Thursday  Tuesday  \\\n",
              "0      0  0  0  0  0  1  ...       0         0       0         0        1   \n",
              "1      0  0  0  0  0  1  ...       0         0       0         0        1   \n",
              "2      0  0  0  0  1  0  ...       0         0       0         0        1   \n",
              "3      1  0  0  0  0  0  ...       0         0       0         0        1   \n",
              "4      0  0  0  0  1  0  ...       0         0       0         0        1   \n",
              "...   .. .. .. .. .. ..  ...     ...       ...     ...       ...      ...   \n",
              "55965  0  0  0  0  0  1  ...       0         0       1         0        0   \n",
              "55966  0  0  0  0  0  1  ...       0         0       1         0        0   \n",
              "55967  0  0  0  0  0  1  ...       0         0       1         0        0   \n",
              "55968  0  0  0  0  0  1  ...       0         0       1         0        0   \n",
              "55969  0  0  0  0  0  1  ...       0         0       1         0        0   \n",
              "\n",
              "       Wednesday  \n",
              "0              0  \n",
              "1              0  \n",
              "2              0  \n",
              "3              0  \n",
              "4              0  \n",
              "...          ...  \n",
              "55965          0  \n",
              "55966          0  \n",
              "55967          0  \n",
              "55968          0  \n",
              "55969          0  \n",
              "\n",
              "[55970 rows x 44 columns]"
            ]
          },
          "metadata": {
            "tags": []
          },
          "execution_count": 96
        }
      ]
    },
    {
      "cell_type": "code",
      "metadata": {
        "id": "QeKE1x07hjC7"
      },
      "source": [
        "#delete columns (unnecessary for prediction)\n",
        "df_test_1.drop(['user_id','age'], axis = 1, inplace = True)"
      ],
      "execution_count": null,
      "outputs": []
    },
    {
      "cell_type": "code",
      "metadata": {
        "colab": {
          "base_uri": "https://localhost:8080/"
        },
        "id": "VncgxTgSoANb",
        "outputId": "34bd519a-be34-4843-c1d5-0f0a156f404d"
      },
      "source": [
        "df_test_1.info()"
      ],
      "execution_count": null,
      "outputs": [
        {
          "output_type": "stream",
          "text": [
            "<class 'pandas.core.frame.DataFrame'>\n",
            "Int64Index: 55970 entries, 0 to 55969\n",
            "Data columns (total 42 columns):\n",
            " #   Column                       Non-Null Count  Dtype  \n",
            "---  ------                       --------------  -----  \n",
            " 0   1                            55970 non-null  uint8  \n",
            " 1   2                            55970 non-null  uint8  \n",
            " 2   3                            55970 non-null  uint8  \n",
            " 3   4                            55970 non-null  uint8  \n",
            " 4   5                            55970 non-null  uint8  \n",
            " 5   6                            55970 non-null  uint8  \n",
            " 6   7                            55970 non-null  uint8  \n",
            " 7   month                        55970 non-null  int64  \n",
            " 8   subject_line_length          55970 non-null  int64  \n",
            " 9   last_open_day                55970 non-null  int64  \n",
            " 10  last_login_day               55970 non-null  int64  \n",
            " 11  last_checkout_day            55970 non-null  int64  \n",
            " 12  open_count_last_10_days      55970 non-null  int64  \n",
            " 13  open_count_last_30_days      55970 non-null  int64  \n",
            " 14  open_count_last_60_days      55970 non-null  int64  \n",
            " 15  login_count_last_10_days     55970 non-null  int64  \n",
            " 16  login_count_last_30_days     55970 non-null  int64  \n",
            " 17  login_count_last_60_days     55970 non-null  int64  \n",
            " 18  checkout_count_last_10_days  55970 non-null  int64  \n",
            " 19  checkout_count_last_30_days  55970 non-null  int64  \n",
            " 20  checkout_count_last_60_days  55970 non-null  int64  \n",
            " 21  attr_1                       55970 non-null  float64\n",
            " 22  attr_2                       55970 non-null  float64\n",
            " 23  attr_3                       55970 non-null  float64\n",
            " 24  @163.com                     55970 non-null  uint8  \n",
            " 25  @gmail.com                   55970 non-null  uint8  \n",
            " 26  @hotmail.com                 55970 non-null  uint8  \n",
            " 27  @icloud.com                  55970 non-null  uint8  \n",
            " 28  @live.com                    55970 non-null  uint8  \n",
            " 29  @outlook.com                 55970 non-null  uint8  \n",
            " 30  @qq.com                      55970 non-null  uint8  \n",
            " 31  @rocketmail.com              55970 non-null  uint8  \n",
            " 32  @yahoo.com                   55970 non-null  uint8  \n",
            " 33  @ymail.com                   55970 non-null  uint8  \n",
            " 34  other                        55970 non-null  uint8  \n",
            " 35  Friday                       55970 non-null  uint8  \n",
            " 36  Monday                       55970 non-null  uint8  \n",
            " 37  Saturday                     55970 non-null  uint8  \n",
            " 38  Sunday                       55970 non-null  uint8  \n",
            " 39  Thursday                     55970 non-null  uint8  \n",
            " 40  Tuesday                      55970 non-null  uint8  \n",
            " 41  Wednesday                    55970 non-null  uint8  \n",
            "dtypes: float64(3), int64(14), uint8(25)\n",
            "memory usage: 11.5 MB\n"
          ],
          "name": "stdout"
        }
      ]
    },
    {
      "cell_type": "markdown",
      "metadata": {
        "id": "p71zo6meiRL1"
      },
      "source": [
        "## Prediction of dftest"
      ]
    },
    {
      "cell_type": "code",
      "metadata": {
        "id": "DxXBVvD9iP-5"
      },
      "source": [
        "#USE RANDOM FOREST\n",
        "predictions = clf.predict(df_test_1)"
      ],
      "execution_count": null,
      "outputs": []
    },
    {
      "cell_type": "code",
      "metadata": {
        "colab": {
          "base_uri": "https://localhost:8080/"
        },
        "id": "2ZOo1MGuitUE",
        "outputId": "59fb83fb-7d9a-47a6-8ab2-9842b9009546"
      },
      "source": [
        "from google.colab import files\n",
        "columns_titles = [\"row_id\",\"open_flag\"]\n",
        "predictions_df = pd.DataFrame(predictions)\n",
        "predictions_df['row_id'] = predictions_df.index\n",
        "predictions_df.rename(columns = {0: 'open_flag'}, inplace = True)\n",
        "predictions_df['open_flag']= predictions_df['open_flag'].astype(int)\n",
        "predictions_df=predictions_df.reindex(columns=columns_titles)\n",
        "print(predictions_df)"
      ],
      "execution_count": null,
      "outputs": [
        {
          "output_type": "stream",
          "text": [
            "       row_id  open_flag\n",
            "0           0          0\n",
            "1           1          0\n",
            "2           2          0\n",
            "3           3          0\n",
            "4           4          0\n",
            "...       ...        ...\n",
            "55965   55965          0\n",
            "55966   55966          0\n",
            "55967   55967          0\n",
            "55968   55968          0\n",
            "55969   55969          1\n",
            "\n",
            "[55970 rows x 2 columns]\n"
          ],
          "name": "stdout"
        }
      ]
    },
    {
      "cell_type": "code",
      "metadata": {
        "colab": {
          "base_uri": "https://localhost:8080/"
        },
        "id": "uTgNo4WKsJyS",
        "outputId": "5491f664-78de-4868-a3ee-5dbcf31b4083"
      },
      "source": [
        "predictions_df['open_flag'].value_counts()"
      ],
      "execution_count": null,
      "outputs": [
        {
          "output_type": "execute_result",
          "data": {
            "text/plain": [
              "0    51297\n",
              "1     4673\n",
              "Name: open_flag, dtype: int64"
            ]
          },
          "metadata": {
            "tags": []
          },
          "execution_count": 101
        }
      ]
    },
    {
      "cell_type": "code",
      "metadata": {
        "colab": {
          "base_uri": "https://localhost:8080/",
          "height": 337
        },
        "id": "NQ2AH8_XnOi-",
        "outputId": "2021616b-a907-433d-95f2-c6d944a40b12"
      },
      "source": [
        "plt.figure(figsize=(7,5))\n",
        "x = ['0 - not open', '1 - open']\n",
        "y = [51252, 4718]\n",
        "plt.bar(x,y, color='orange')\n",
        "plt.title('Frequency of opened email or not on data test', fontsize=14)\n",
        "for index,data in enumerate(y):\n",
        "    plt.text(x=index , y =data , s=f\"{data}\" , fontdict=dict(fontsize=12), ha='center')\n",
        "plt.show()"
      ],
      "execution_count": null,
      "outputs": [
        {
          "output_type": "display_data",
          "data": {
            "image/png": "[encoded data removed]",
            "text/plain": [
              "<Figure size 504x360 with 1 Axes>"
            ]
          },
          "metadata": {
            "tags": [],
            "needs_background": "light"
          }
        }
      ]
    },
    {
      "cell_type": "code",
      "metadata": {
        "id": "UVDyqUoqq2v2",
        "colab": {
          "base_uri": "https://localhost:8080/",
          "height": 17
        },
        "outputId": "f1b757aa-07df-4eba-f6c7-0878346d91e3"
      },
      "source": [
        "filename = 'hasilprediksi.csv'\n",
        "predictions_df.to_csv(filename, index=False)\n",
        "files.download(filename)"
      ],
      "execution_count": null,
      "outputs": [
        {
          "output_type": "display_data",
          "data": {
            "application/javascript": [
              "\n",
              "    async function download(id, filename, size) {\n",
              "      if (!google.colab.kernel.accessAllowed) {\n",
              "        return;\n",
              "      }\n",
              "      const div = document.createElement('div');\n",
              "      const label = document.createElement('label');\n",
              "      label.textContent = `Downloading \"${filename}\": `;\n",
              "      div.appendChild(label);\n",
              "      const progress = document.createElement('progress');\n",
              "      progress.max = size;\n",
              "      div.appendChild(progress);\n",
              "      document.body.appendChild(div);\n",
              "\n",
              "      const buffers = [];\n",
              "      let downloaded = 0;\n",
              "\n",
              "      const channel = await google.colab.kernel.comms.open(id);\n",
              "      // Send a message to notify the kernel that we're ready.\n",
              "      channel.send({})\n",
              "\n",
              "      for await (const message of channel.messages) {\n",
              "        // Send a message to notify the kernel that we're ready.\n",
              "        channel.send({})\n",
              "        if (message.buffers) {\n",
              "          for (const buffer of message.buffers) {\n",
              "            buffers.push(buffer);\n",
              "            downloaded += buffer.byteLength;\n",
              "            progress.value = downloaded;\n",
              "          }\n",
              "        }\n",
              "      }\n",
              "      const blob = new Blob(buffers, {type: 'application/binary'});\n",
              "      const a = document.createElement('a');\n",
              "      a.href = window.URL.createObjectURL(blob);\n",
              "      a.download = filename;\n",
              "      div.appendChild(a);\n",
              "      a.click();\n",
              "      div.remove();\n",
              "    }\n",
              "  "
            ],
            "text/plain": [
              "<IPython.core.display.Javascript object>"
            ]
          },
          "metadata": {
            "tags": []
          }
        },
        {
          "output_type": "display_data",
          "data": {
            "application/javascript": [
              "download(\"download_70109f31-2b86-4948-847c-75d722a9b4f8\", \"hasilprediksi.csv\", 436667)"
            ],
            "text/plain": [
              "<IPython.core.display.Javascript object>"
            ]
          },
          "metadata": {
            "tags": []
          }
        }
      ]
    }
  ]
}