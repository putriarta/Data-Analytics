{
  "nbformat": 4,
  "nbformat_minor": 0,
  "metadata": {
    "kernelspec": {
      "display_name": "Python 3",
      "language": "python",
      "name": "python3"
    },
    "language_info": {
      "codemirror_mode": {
        "name": "ipython",
        "version": 3
      },
      "file_extension": ".py",
      "mimetype": "text/x-python",
      "name": "python",
      "nbconvert_exporter": "python",
      "pygments_lexer": "ipython3",
      "version": "3.8.5"
    },
    "colab": {
      "name": "Business Decision Research.ipynb",
      "provenance": [],
      "collapsed_sections": [],
      "include_colab_link": true
    }
  },
  "cells": [
    {
      "cell_type": "markdown",
      "metadata": {
        "id": "view-in-github",
        "colab_type": "text"
      },
      "source": [
        "<a href=\"https://colab.research.google.com/github/putriarta/Data-Analytics/blob/main/Business_Decision_Research.ipynb\" target=\"_parent\"><img src=\"https://colab.research.google.com/assets/colab-badge.svg\" alt=\"Open In Colab\"/></a>"
      ]
    },
    {
      "cell_type": "code",
      "metadata": {
        "id": "9yQ8bsnYFARs"
      },
      "source": [
        "#import library\n",
        "import pandas as pd\n",
        "import matplotlib.pyplot as plt\n",
        "import seaborn as sns\n",
        "import numpy as np\n",
        "from sklearn.model_selection import train_test_split\n",
        "from sklearn.linear_model import LogisticRegression\n",
        "from sklearn.metrics import confusion_matrix\n",
        "from sklearn.metrics import accuracy_score, precision_score, recall_score"
      ],
      "execution_count": 29,
      "outputs": []
    },
    {
      "cell_type": "markdown",
      "metadata": {
        "id": "7klVZBo3oM2V"
      },
      "source": [
        "### Importing Data and General Inspection \n",
        "Using data_retail dataset from dqlab and perform general inspections"
      ]
    },
    {
      "cell_type": "code",
      "metadata": {
        "id": "k7JnxSEQoM2b"
      },
      "source": [
        "df = pd.read_csv('https://storage.googleapis.com/dqlab-dataset/data_retail.csv', sep=';')"
      ],
      "execution_count": 3,
      "outputs": []
    },
    {
      "cell_type": "code",
      "metadata": {
        "colab": {
          "base_uri": "https://localhost:8080/"
        },
        "id": "r2H57PLQoM2c",
        "outputId": "7bf94f22-f2f1-46e5-aad4-d72b7ca27297"
      },
      "source": [
        "pd.set_option('display.max_columns',None)\n",
        "print(\"First 5 records: \\n\", df.head())"
      ],
      "execution_count": 4,
      "outputs": [
        {
          "output_type": "stream",
          "text": [
            "First 5 records: \n",
            "    no  Row_Num  Customer_ID Product  First_Transaction  Last_Transaction  \\\n",
            "0   1        1        29531   Jaket      1466304274396     1538718482608   \n",
            "1   2        2        29531  Sepatu      1406077331494     1545735761270   \n",
            "2   3        3       141526     Tas      1493349147000     1548322802000   \n",
            "3   4        4       141526   Jaket      1493362372547     1547643603911   \n",
            "4   5        5        37545  Sepatu      1429178498531     1542891221530   \n",
            "\n",
            "   Average_Transaction_Amount  Count_Transaction  \n",
            "0                     1467681                 22  \n",
            "1                     1269337                 41  \n",
            "2                      310915                 30  \n",
            "3                      722632                 27  \n",
            "4                     1775036                 25  \n"
          ],
          "name": "stdout"
        }
      ]
    },
    {
      "cell_type": "code",
      "metadata": {
        "colab": {
          "base_uri": "https://localhost:8080/"
        },
        "id": "fGIrTQ5_oM2e",
        "outputId": "4ba1ad6c-6553-4496-e24f-ad9bbaf3530c"
      },
      "source": [
        "print('The shape/size of dataset: ', df.shape)"
      ],
      "execution_count": 5,
      "outputs": [
        {
          "output_type": "stream",
          "text": [
            "The shape/size of dataset:  (100000, 8)\n"
          ],
          "name": "stdout"
        }
      ]
    },
    {
      "cell_type": "code",
      "metadata": {
        "colab": {
          "base_uri": "https://localhost:8080/"
        },
        "id": "Y3eIOR3VoM2d",
        "outputId": "6e8e7468-7ea9-43c5-e60a-16c4e232a52a"
      },
      "source": [
        "print('Dataset info: ')\n",
        "print(df.info())"
      ],
      "execution_count": 6,
      "outputs": [
        {
          "output_type": "stream",
          "text": [
            "Dataset info: \n",
            "<class 'pandas.core.frame.DataFrame'>\n",
            "RangeIndex: 100000 entries, 0 to 99999\n",
            "Data columns (total 8 columns):\n",
            " #   Column                      Non-Null Count   Dtype \n",
            "---  ------                      --------------   ----- \n",
            " 0   no                          100000 non-null  int64 \n",
            " 1   Row_Num                     100000 non-null  int64 \n",
            " 2   Customer_ID                 100000 non-null  int64 \n",
            " 3   Product                     100000 non-null  object\n",
            " 4   First_Transaction           100000 non-null  int64 \n",
            " 5   Last_Transaction            100000 non-null  int64 \n",
            " 6   Average_Transaction_Amount  100000 non-null  int64 \n",
            " 7   Count_Transaction           100000 non-null  int64 \n",
            "dtypes: int64(7), object(1)\n",
            "memory usage: 6.1+ MB\n",
            "None\n"
          ],
          "name": "stdout"
        }
      ]
    },
    {
      "cell_type": "markdown",
      "metadata": {
        "id": "1x8hPpFooM2f"
      },
      "source": [
        "### Data Cleaning\n",
        "- Transform 'First_Transaction' and 'Last_Transaction' columns from int to datetime for a better use of analysis\n",
        "- Drop the columns that will not be used in this analysis, which are 'no' and 'Row_Num' columns"
      ]
    },
    {
      "cell_type": "code",
      "metadata": {
        "id": "TvufkJ51oM2g"
      },
      "source": [
        "df['First_Transaction'] = pd.to_datetime(df['First_Transaction']/1000, unit='s', origin='1970-01-01')\n",
        "\n",
        "df['Last_Transaction'] = pd.to_datetime(df['Last_Transaction']/1000, unit='s', origin='1970-01-01')"
      ],
      "execution_count": 7,
      "outputs": []
    },
    {
      "cell_type": "code",
      "metadata": {
        "colab": {
          "base_uri": "https://localhost:8080/"
        },
        "id": "6odGQjqYoM2h",
        "outputId": "fa59c87f-6bc0-4288-f1ea-ee1ef56a37a9"
      },
      "source": [
        "print('First 5 records: \\n', df.head())"
      ],
      "execution_count": 8,
      "outputs": [
        {
          "output_type": "stream",
          "text": [
            "First 5 records: \n",
            "    no  Row_Num  Customer_ID Product             First_Transaction  \\\n",
            "0   1        1        29531   Jaket 2016-06-19 02:44:34.395999908   \n",
            "1   2        2        29531  Sepatu 2014-07-23 01:02:11.493999958   \n",
            "2   3        3       141526     Tas 2017-04-28 03:12:27.000000000   \n",
            "3   4        4       141526   Jaket 2017-04-28 06:52:52.546999931   \n",
            "4   5        5        37545  Sepatu 2015-04-16 10:01:38.530999899   \n",
            "\n",
            "               Last_Transaction  Average_Transaction_Amount  Count_Transaction  \n",
            "0 2018-10-05 05:48:02.608000040                     1467681                 22  \n",
            "1 2018-12-25 11:02:41.269999981                     1269337                 41  \n",
            "2 2019-01-24 09:40:02.000000000                      310915                 30  \n",
            "3 2019-01-16 13:00:03.911000013                      722632                 27  \n",
            "4 2018-11-22 12:53:41.529999970                     1775036                 25  \n"
          ],
          "name": "stdout"
        }
      ]
    },
    {
      "cell_type": "code",
      "metadata": {
        "colab": {
          "base_uri": "https://localhost:8080/"
        },
        "id": "C7iARBlqoM2i",
        "outputId": "8364be5a-2e36-4c8f-df4d-ce0b8e573e43"
      },
      "source": [
        "print('Dataset info:')\n",
        "print(df.info())"
      ],
      "execution_count": 9,
      "outputs": [
        {
          "output_type": "stream",
          "text": [
            "Dataset info:\n",
            "<class 'pandas.core.frame.DataFrame'>\n",
            "RangeIndex: 100000 entries, 0 to 99999\n",
            "Data columns (total 8 columns):\n",
            " #   Column                      Non-Null Count   Dtype         \n",
            "---  ------                      --------------   -----         \n",
            " 0   no                          100000 non-null  int64         \n",
            " 1   Row_Num                     100000 non-null  int64         \n",
            " 2   Customer_ID                 100000 non-null  int64         \n",
            " 3   Product                     100000 non-null  object        \n",
            " 4   First_Transaction           100000 non-null  datetime64[ns]\n",
            " 5   Last_Transaction            100000 non-null  datetime64[ns]\n",
            " 6   Average_Transaction_Amount  100000 non-null  int64         \n",
            " 7   Count_Transaction           100000 non-null  int64         \n",
            "dtypes: datetime64[ns](2), int64(5), object(1)\n",
            "memory usage: 6.1+ MB\n",
            "None\n"
          ],
          "name": "stdout"
        }
      ]
    },
    {
      "cell_type": "code",
      "metadata": {
        "colab": {
          "base_uri": "https://localhost:8080/"
        },
        "id": "Ql-EsxxAoM2n",
        "outputId": "4240f88b-e8f2-43b6-fc69-1176d3718e3d"
      },
      "source": [
        "del df['no']\n",
        "del df['Row_Num']\n",
        "\n",
        "print('First 5 records: \\n', df.head())"
      ],
      "execution_count": 10,
      "outputs": [
        {
          "output_type": "stream",
          "text": [
            "First 5 records: \n",
            "    Customer_ID Product             First_Transaction  \\\n",
            "0        29531   Jaket 2016-06-19 02:44:34.395999908   \n",
            "1        29531  Sepatu 2014-07-23 01:02:11.493999958   \n",
            "2       141526     Tas 2017-04-28 03:12:27.000000000   \n",
            "3       141526   Jaket 2017-04-28 06:52:52.546999931   \n",
            "4        37545  Sepatu 2015-04-16 10:01:38.530999899   \n",
            "\n",
            "               Last_Transaction  Average_Transaction_Amount  Count_Transaction  \n",
            "0 2018-10-05 05:48:02.608000040                     1467681                 22  \n",
            "1 2018-12-25 11:02:41.269999981                     1269337                 41  \n",
            "2 2019-01-24 09:40:02.000000000                      310915                 30  \n",
            "3 2019-01-16 13:00:03.911000013                      722632                 27  \n",
            "4 2018-11-22 12:53:41.529999970                     1775036                 25  \n"
          ],
          "name": "stdout"
        }
      ]
    },
    {
      "cell_type": "markdown",
      "metadata": {
        "id": "OQ-w4yC5oM2k"
      },
      "source": [
        "### Churn Customer\n",
        "- Classify churn customers who didn't have any transaction in the last 6 months \n",
        "- Add 'is_churn' column to the dataframe"
      ]
    },
    {
      "cell_type": "code",
      "metadata": {
        "colab": {
          "base_uri": "https://localhost:8080/"
        },
        "id": "DBc3-8-GoM2k",
        "outputId": "5d796dae-7fdf-4300-eb23-0a3dc339f48b"
      },
      "source": [
        "print('The latest transaction:',max(df['Last_Transaction']))"
      ],
      "execution_count": 11,
      "outputs": [
        {
          "output_type": "stream",
          "text": [
            "The latest transaction: 2019-02-01 23:57:57.286000013\n"
          ],
          "name": "stdout"
        }
      ]
    },
    {
      "cell_type": "code",
      "metadata": {
        "id": "8VuIc4F6oM2m"
      },
      "source": [
        "df.loc[df['Last_Transaction'] <= '2018-08-01','is_churn']=True\n",
        "df.loc[df['Last_Transaction'] > '2018-08-01','is_churn']=False"
      ],
      "execution_count": 12,
      "outputs": []
    },
    {
      "cell_type": "code",
      "metadata": {
        "colab": {
          "base_uri": "https://localhost:8080/"
        },
        "id": "isr8N9zhoM2m",
        "outputId": "7bd1c05d-009c-4a77-a795-0133b78673fd"
      },
      "source": [
        "print('First 5 records: \\n', df.head())"
      ],
      "execution_count": 13,
      "outputs": [
        {
          "output_type": "stream",
          "text": [
            "First 5 records: \n",
            "    Customer_ID Product             First_Transaction  \\\n",
            "0        29531   Jaket 2016-06-19 02:44:34.395999908   \n",
            "1        29531  Sepatu 2014-07-23 01:02:11.493999958   \n",
            "2       141526     Tas 2017-04-28 03:12:27.000000000   \n",
            "3       141526   Jaket 2017-04-28 06:52:52.546999931   \n",
            "4        37545  Sepatu 2015-04-16 10:01:38.530999899   \n",
            "\n",
            "               Last_Transaction  Average_Transaction_Amount  \\\n",
            "0 2018-10-05 05:48:02.608000040                     1467681   \n",
            "1 2018-12-25 11:02:41.269999981                     1269337   \n",
            "2 2019-01-24 09:40:02.000000000                      310915   \n",
            "3 2019-01-16 13:00:03.911000013                      722632   \n",
            "4 2018-11-22 12:53:41.529999970                     1775036   \n",
            "\n",
            "   Count_Transaction is_churn  \n",
            "0                 22    False  \n",
            "1                 41    False  \n",
            "2                 30    False  \n",
            "3                 27    False  \n",
            "4                 25    False  \n"
          ],
          "name": "stdout"
        }
      ]
    },
    {
      "cell_type": "markdown",
      "metadata": {
        "id": "duZeAVt_HsGO"
      },
      "source": [
        "### Data Visualization\n"
      ]
    },
    {
      "cell_type": "markdown",
      "metadata": {
        "id": "UxX_qHUyH4Y2"
      },
      "source": [
        "#### Customer acquisition by year\n",
        "The bar chart shows that 2017 was the year with the highest customer acquisition with 31,828 customers.\n",
        "The acquisition tends to increase from year to year, but there's a slight decrease (-4.71%) from 2017 to 2018."
      ]
    },
    {
      "cell_type": "code",
      "metadata": {
        "id": "Jollh0BooM2o"
      },
      "source": [
        "df['Year_First_Transaction'] = df['First_Transaction'].dt.year\n",
        "df['Year_Last_Transaction'] = df['Last_Transaction'].dt.year"
      ],
      "execution_count": 14,
      "outputs": []
    },
    {
      "cell_type": "code",
      "metadata": {
        "colab": {
          "base_uri": "https://localhost:8080/"
        },
        "id": "CBwiVlYQCDKn",
        "outputId": "dc9532c2-d2bc-43e2-f807-735e0d05ad4e"
      },
      "source": [
        "df_year1 = df.groupby(['Year_First_Transaction'])['Customer_ID'].count()\n",
        "df_year1"
      ],
      "execution_count": 30,
      "outputs": [
        {
          "output_type": "execute_result",
          "data": {
            "text/plain": [
              "Year_First_Transaction\n",
              "2013     1007\n",
              "2014     4954\n",
              "2015    11235\n",
              "2016    17656\n",
              "2017    31828\n",
              "2018    30327\n",
              "2019     2993\n",
              "Name: Customer_ID, dtype: int64"
            ]
          },
          "metadata": {
            "tags": []
          },
          "execution_count": 30
        }
      ]
    },
    {
      "cell_type": "code",
      "metadata": {
        "colab": {
          "base_uri": "https://localhost:8080/",
          "height": 296
        },
        "id": "qAmP4lRAoM2o",
        "outputId": "2adb09af-a5a4-4f23-9316-509bde1ea838"
      },
      "source": [
        "df_year1.plot(x='Year_First_Transaction', y='Customer_ID', kind='bar', title='Customer Acquisition', color='purple')\n",
        "plt.xlabel('Year_First_Transaction')\n",
        "plt.ylabel('Num_of_Customer')\n",
        "plt.tight_layout()\n",
        "plt.show()"
      ],
      "execution_count": 80,
      "outputs": [
        {
          "output_type": "display_data",
          "data": {
            "image/png": "[encoded data removed]",
            "text/plain": [
              "<Figure size 432x288 with 1 Axes>"
            ]
          },
          "metadata": {
            "tags": [],
            "needs_background": "light"
          }
        }
      ]
    },
    {
      "cell_type": "markdown",
      "metadata": {
        "id": "Z5S0aQRqoM2p"
      },
      "source": [
        "#### Transactions by year\n",
        "This chart aims to give a visualization of how many transactions happened in a customer's first-year transaction."
      ]
    },
    {
      "cell_type": "code",
      "metadata": {
        "colab": {
          "base_uri": "https://localhost:8080/"
        },
        "id": "nI7bZTtuCJVQ",
        "outputId": "8c708805-f0f8-41b8-99cd-48a434ac2313"
      },
      "source": [
        "df_year2 = df.groupby(['Year_First_Transaction'])['Count_Transaction'].sum()\n",
        "df_year2"
      ],
      "execution_count": 72,
      "outputs": [
        {
          "output_type": "execute_result",
          "data": {
            "text/plain": [
              "Year_First_Transaction\n",
              "2013     23154\n",
              "2014    165494\n",
              "2015    297445\n",
              "2016    278707\n",
              "2017    299199\n",
              "2018     99989\n",
              "2019      5862\n",
              "Name: Count_Transaction, dtype: int64"
            ]
          },
          "metadata": {
            "tags": []
          },
          "execution_count": 72
        }
      ]
    },
    {
      "cell_type": "code",
      "metadata": {
        "colab": {
          "base_uri": "https://localhost:8080/",
          "height": 296
        },
        "id": "ZnJgpkQYoM2p",
        "outputId": "c37b6442-b380-4cd9-8a44-8d5af72b242b"
      },
      "source": [
        "plt.clf()\n",
        "df_year2.plot(x='Year_First_Transaction', y='Count_Transaction', kind='bar', title='Customer Transaction', color='violet')\n",
        "plt.xlabel('Year_First_Transaction')\n",
        "plt.ylabel('Num_of_Transaction')\n",
        "plt.tight_layout()\n",
        "plt.show()"
      ],
      "execution_count": 81,
      "outputs": [
        {
          "output_type": "display_data",
          "data": {
            "image/png": "[encoded data removed]",
            "text/plain": [
              "<Figure size 432x288 with 1 Axes>"
            ]
          },
          "metadata": {
            "tags": [],
            "needs_background": "light"
          }
        }
      ]
    },
    {
      "cell_type": "markdown",
      "metadata": {
        "id": "2mRUgZPKNQp3"
      },
      "source": [
        "#### Comparison between customer acquisition and transaction\n",
        "This graph aims to visualize the comparison between customer acquisition (customer_Id) and customer transaction (count_transaction).\n",
        "Year 2018 shows a big decrease i transactions (-66.58%) from 299,199 to 99,989, even though the customer acquisition in 2018 was quite well. This is quite concerning since 2014, 2015, and 2016 which have a lower customer acquisition than 2018, able to gain a bigger amount of transactions compared to 2018."
      ]
    },
    {
      "cell_type": "code",
      "metadata": {
        "colab": {
          "base_uri": "https://localhost:8080/",
          "height": 257
        },
        "id": "F6b1wdyKOISS",
        "outputId": "96ce99ed-a604-44af-8fa1-4d075cdfc64c"
      },
      "source": [
        "df.groupby('Year_First_Transaction', as_index=False).agg({'Customer_ID':'count','Count_Transaction': 'sum'})"
      ],
      "execution_count": 79,
      "outputs": [
        {
          "output_type": "execute_result",
          "data": {
            "text/html": [
              "<div>\n",
              "<style scoped>\n",
              "    .dataframe tbody tr th:only-of-type {\n",
              "        vertical-align: middle;\n",
              "    }\n",
              "\n",
              "    .dataframe tbody tr th {\n",
              "        vertical-align: top;\n",
              "    }\n",
              "\n",
              "    .dataframe thead th {\n",
              "        text-align: right;\n",
              "    }\n",
              "</style>\n",
              "<table border=\"1\" class=\"dataframe\">\n",
              "  <thead>\n",
              "    <tr style=\"text-align: right;\">\n",
              "      <th></th>\n",
              "      <th>Year_First_Transaction</th>\n",
              "      <th>Customer_ID</th>\n",
              "      <th>Count_Transaction</th>\n",
              "    </tr>\n",
              "  </thead>\n",
              "  <tbody>\n",
              "    <tr>\n",
              "      <th>0</th>\n",
              "      <td>2013</td>\n",
              "      <td>1007</td>\n",
              "      <td>23154</td>\n",
              "    </tr>\n",
              "    <tr>\n",
              "      <th>1</th>\n",
              "      <td>2014</td>\n",
              "      <td>4954</td>\n",
              "      <td>165494</td>\n",
              "    </tr>\n",
              "    <tr>\n",
              "      <th>2</th>\n",
              "      <td>2015</td>\n",
              "      <td>11235</td>\n",
              "      <td>297445</td>\n",
              "    </tr>\n",
              "    <tr>\n",
              "      <th>3</th>\n",
              "      <td>2016</td>\n",
              "      <td>17656</td>\n",
              "      <td>278707</td>\n",
              "    </tr>\n",
              "    <tr>\n",
              "      <th>4</th>\n",
              "      <td>2017</td>\n",
              "      <td>31828</td>\n",
              "      <td>299199</td>\n",
              "    </tr>\n",
              "    <tr>\n",
              "      <th>5</th>\n",
              "      <td>2018</td>\n",
              "      <td>30327</td>\n",
              "      <td>99989</td>\n",
              "    </tr>\n",
              "    <tr>\n",
              "      <th>6</th>\n",
              "      <td>2019</td>\n",
              "      <td>2993</td>\n",
              "      <td>5862</td>\n",
              "    </tr>\n",
              "  </tbody>\n",
              "</table>\n",
              "</div>"
            ],
            "text/plain": [
              "   Year_First_Transaction  Customer_ID  Count_Transaction\n",
              "0                    2013         1007              23154\n",
              "1                    2014         4954             165494\n",
              "2                    2015        11235             297445\n",
              "3                    2016        17656             278707\n",
              "4                    2017        31828             299199\n",
              "5                    2018        30327              99989\n",
              "6                    2019         2993               5862"
            ]
          },
          "metadata": {
            "tags": []
          },
          "execution_count": 79
        }
      ]
    },
    {
      "cell_type": "code",
      "metadata": {
        "colab": {
          "base_uri": "https://localhost:8080/",
          "height": 314
        },
        "id": "w5pK5M1sGNbV",
        "outputId": "719bf7d5-8b31-4e1d-da98-15b802c286ae"
      },
      "source": [
        "plt.clf()\n",
        "fig, ax = plt.subplots()\n",
        "bar_width = 0.4\n",
        "X = np.arange(7)\n",
        "\n",
        "plt.bar(X, df_year1 , bar_width, label='Cust Acquisition', color='purple')\n",
        "plt.bar(X + bar_width, df_year2, bar_width, label='Cust Transactions', color='violet')\n",
        "plt.xticks(X + (bar_width/2) , (\"2013\", \"2014\", \"2015\", \"2016\", \"2017\", \"2018\", \"2019\"))\n",
        "plt.title('Comparison of Cust Acquisition and Transaction by Year')\n",
        "plt.legend()\n",
        "plt.tight_layout()\n",
        "plt.show()"
      ],
      "execution_count": 73,
      "outputs": [
        {
          "output_type": "display_data",
          "data": {
            "text/plain": [
              "<Figure size 432x288 with 0 Axes>"
            ]
          },
          "metadata": {
            "tags": []
          }
        },
        {
          "output_type": "display_data",
          "data": {
            "image/png": "[encoded data removed]",
            "text/plain": [
              "<Figure size 432x288 with 1 Axes>"
            ]
          },
          "metadata": {
            "tags": [],
            "needs_background": "light"
          }
        }
      ]
    },
    {
      "cell_type": "markdown",
      "metadata": {
        "id": "Eb9-oIg_oM2p"
      },
      "source": [
        "#### Average transaction amount by year\n",
        "This line chart shows the average customer's first year transaction in every products"
      ]
    },
    {
      "cell_type": "code",
      "metadata": {
        "colab": {
          "base_uri": "https://localhost:8080/",
          "height": 296
        },
        "id": "W3GqKWjaoM2t",
        "outputId": "3cae20b9-161e-4ce3-c03e-dc66479837b0"
      },
      "source": [
        "plt.clf()\n",
        "sns.pointplot(data = df.groupby(['Product', 'Year_First_Transaction']).mean().reset_index(),\n",
        "              x='Year_First_Transaction',  \n",
        "              y='Average_Transaction_Amount',\n",
        "              hue='Product', color = 'violet')\n",
        "plt.tight_layout()\n",
        "plt.show()"
      ],
      "execution_count": 83,
      "outputs": [
        {
          "output_type": "display_data",
          "data": {
            "image/png": "[encoded data removed]",
            "text/plain": [
              "<Figure size 432x288 with 1 Axes>"
            ]
          },
          "metadata": {
            "tags": [],
            "needs_background": "light"
          }
        }
      ]
    },
    {
      "cell_type": "markdown",
      "metadata": {
        "id": "E1SplaVqoM2u"
      },
      "source": [
        "### Count_Transaction Distribution\n",
        "This chart aims to show the amount of transaction distribution by the number of customers. It is shown that 49,255 customers having only 1 transaction. By this, the company should retain the customers so they won't leave after having a transaction."
      ]
    },
    {
      "cell_type": "code",
      "metadata": {
        "id": "B3gcRWjZoM2u"
      },
      "source": [
        "def func(row):\n",
        "\tif row['Count_Transaction'] == 1:\n",
        "\t\tval = '1'\n",
        "\telif (row['Count_Transaction'] >1 and row['Count_Transaction'] <= 3):\n",
        "\t\tval ='2 - 3'\n",
        "\telif (row['Count_Transaction'] >3 and row['Count_Transaction'] <= 6):\n",
        "\t\tval ='4 - 6'\n",
        "\telif (row['Count_Transaction'] >6 and row['Count_Transaction'] <= 10):\n",
        "\t\tval ='7 - 10'\n",
        "\telse:\n",
        "\t\tval ='>10'\n",
        "\treturn val"
      ],
      "execution_count": 92,
      "outputs": []
    },
    {
      "cell_type": "code",
      "metadata": {
        "colab": {
          "base_uri": "https://localhost:8080/"
        },
        "id": "6934yg_EQl5-",
        "outputId": "100ba347-82dc-44c2-eb6e-272f8077a92c"
      },
      "source": [
        "df['Count_Transaction_Group'] = df.apply(func, axis=1)\n",
        "df_year = df.groupby(['Count_Transaction_Group'])['Customer_ID'].count()\n",
        "df_year"
      ],
      "execution_count": 94,
      "outputs": [
        {
          "output_type": "execute_result",
          "data": {
            "text/plain": [
              "Count_Transaction_Group\n",
              "1         49255\n",
              "2 - 3     14272\n",
              "4 - 6     12126\n",
              "7 - 10     2890\n",
              ">10       21457\n",
              "Name: Customer_ID, dtype: int64"
            ]
          },
          "metadata": {
            "tags": []
          },
          "execution_count": 94
        }
      ]
    },
    {
      "cell_type": "code",
      "metadata": {
        "colab": {
          "base_uri": "https://localhost:8080/",
          "height": 296
        },
        "id": "zQgDVhWYQoVW",
        "outputId": "90fac227-f083-471b-d2db-ee7b105c6590"
      },
      "source": [
        "plt.clf()\n",
        "df_year.plot(x='Count_Transaction_Group', y='Customer_ID', kind='bar', title='Distribution of the Amount of Transactions', color='purple')\n",
        "plt.xlabel('Count_Transaction_Group')\n",
        "plt.ylabel('Num_of_Customer')\n",
        "plt.tight_layout()\n",
        "plt.show()"
      ],
      "execution_count": 95,
      "outputs": [
        {
          "output_type": "display_data",
          "data": {
            "image/png": "[encoded data removed]",
            "text/plain": [
              "<Figure size 432x288 with 1 Axes>"
            ]
          },
          "metadata": {
            "tags": [],
            "needs_background": "light"
          }
        }
      ]
    },
    {
      "cell_type": "markdown",
      "metadata": {
        "id": "YS05eBpgoM2v"
      },
      "source": [
        "### Avg Transactions Amount by the Num of Customers\n",
        "The chart shows the distribution of the average of transactions amount by the number of customers. It is showed that the highest transaction amount was 1M-2.5M IDR with more than 32819 customers."
      ]
    },
    {
      "cell_type": "code",
      "metadata": {
        "id": "laHkBWcIRUUO"
      },
      "source": [
        "def f(row):\n",
        "\tif (row['Average_Transaction_Amount'] >= 100000 and row['Average_Transaction_Amount'] <=200000):\n",
        "\t\tval ='1. 100K - 250K'\n",
        "\telif (row['Average_Transaction_Amount'] >250000 and row['Average_Transaction_Amount'] <= 500000):\n",
        "\t\tval ='2. 250K - 500K'\n",
        "\telif (row['Average_Transaction_Amount'] >500000 and row['Average_Transaction_Amount'] <= 750000):\n",
        "\t\tval ='3. 500K - 750K'\n",
        "\telif (row['Average_Transaction_Amount'] >750000 and row['Average_Transaction_Amount'] <= 1000000):\n",
        "\t\tval ='4. 750K - 1M'\n",
        "\telif (row['Average_Transaction_Amount'] >1000000 and row['Average_Transaction_Amount'] <= 2500000):\n",
        "\t\tval ='5. 1M - 2.5M'\n",
        "\telif (row['Average_Transaction_Amount'] >2500000 and row['Average_Transaction_Amount'] <= 5000000):\n",
        "\t\tval ='6. 2.5M - 5M'\n",
        "\telif (row['Average_Transaction_Amount'] >5000000 and row['Average_Transaction_Amount'] <= 10000000):\n",
        "\t\tval ='7. 5M - 10M'\n",
        "\telse:\n",
        "\t\tval ='8. >10M'\n",
        "\treturn val"
      ],
      "execution_count": 108,
      "outputs": []
    },
    {
      "cell_type": "code",
      "metadata": {
        "colab": {
          "base_uri": "https://localhost:8080/"
        },
        "id": "FPCPScMXRYaG",
        "outputId": "53ad6e9d-b996-4765-8efa-a5e54a797d4f"
      },
      "source": [
        "df['Average_Transaction_Amount_Group'] = df.apply(f, axis=1)\n",
        "df_year = df.groupby(['Average_Transaction_Amount_Group'])['Customer_ID'].count()\n",
        "df_year"
      ],
      "execution_count": 109,
      "outputs": [
        {
          "output_type": "execute_result",
          "data": {
            "text/plain": [
              "Average_Transaction_Amount_Group\n",
              "1. 100K - 250K     4912\n",
              "2. 250K - 500K    18857\n",
              "3. 500K - 750K    15171\n",
              "4. 750K - 1M      12298\n",
              "5. 1M - 2.5M      32819\n",
              "6. 2.5M - 5M       9027\n",
              "7. 5M - 10M        3689\n",
              "8. >10M            3227\n",
              "Name: Customer_ID, dtype: int64"
            ]
          },
          "metadata": {
            "tags": []
          },
          "execution_count": 109
        }
      ]
    },
    {
      "cell_type": "code",
      "metadata": {
        "colab": {
          "base_uri": "https://localhost:8080/",
          "height": 441
        },
        "id": "0bRFJY49oM2v",
        "outputId": "6c10ace7-ffe4-4627-90d7-f06dbca18a32"
      },
      "source": [
        "plt.clf()\n",
        "\n",
        "df_year.plot(figsize=(6,6),x='Average_Transaction_Amount_Group', y='Customer_ID',kind='bar', title='Avg Transaction Amount by the Num of Customers',color='violet')\n",
        "plt.xlabel('Average_Transaction_Amount_Group')\n",
        "plt.ylabel('Num_of_Customer')\n",
        "plt.tight_layout()\n",
        "plt.show()"
      ],
      "execution_count": 110,
      "outputs": [
        {
          "output_type": "display_data",
          "data": {
            "image/png": "[encoded data removed]",
            "text/plain": [
              "<Figure size 432x432 with 1 Axes>"
            ]
          },
          "metadata": {
            "tags": [],
            "needs_background": "light"
          }
        }
      ]
    },
    {
      "cell_type": "markdown",
      "metadata": {
        "id": "50FzgBuGoM2w"
      },
      "source": [
        "### Churned customer proportion for each product\n",
        "The pie chart aims to show the proportion of churned customer after buying a product. The churned percentage is about 60-68% in each product, means that the variety of product doesn't affect the percentage of the churned customer. The company should perform some improvements to the products to decrease the percentage of the churned customer."
      ]
    },
    {
      "cell_type": "code",
      "metadata": {
        "colab": {
          "base_uri": "https://localhost:8080/",
          "height": 532
        },
        "id": "O3qHDeVvoM2x",
        "outputId": "c00d2347-32cd-4b05-e1b4-90fc3c157436"
      },
      "source": [
        "plt.clf()\n",
        "\n",
        "# Melakukan pivot data\n",
        "df_piv = df.pivot_table(index='is_churn',\n",
        "                        columns='Product',\n",
        "                        values='Customer_ID',\n",
        "                        aggfunc='count',\n",
        "                        fill_value=0)\n",
        "\n",
        "# Mendapatkan Proportion Churn by Product\n",
        "plot_product = df_piv.count().sort_values(ascending=False).head(5).index\n",
        "\n",
        "# Plot pie chartnya\n",
        "colors = ['violet','purple']\n",
        "df_piv = df_piv.reindex(columns=plot_product)\n",
        "df_piv.plot.pie(subplots=True,\n",
        "                figsize=(16, 7),\n",
        "                layout=(-1, 2),\n",
        "                autopct='%1.0f%%',\n",
        "                title='Proportion Churn by Product',\n",
        "                colors=colors)\n",
        "plt.tight_layout()\n",
        "plt.show()"
      ],
      "execution_count": 111,
      "outputs": [
        {
          "output_type": "display_data",
          "data": {
            "text/plain": [
              "<Figure size 432x288 with 0 Axes>"
            ]
          },
          "metadata": {
            "tags": []
          }
        },
        {
          "output_type": "display_data",
          "data": {
            "image/png": "[encoded data removed]",
            "text/plain": [
              "<Figure size 1152x504 with 4 Axes>"
            ]
          },
          "metadata": {
            "tags": []
          }
        }
      ]
    },
    {
      "cell_type": "markdown",
      "metadata": {
        "id": "AKtnedT2Ujh6"
      },
      "source": [
        "### Logistic Regression to predict the churned customer\n",
        "With a total accuracy of 0.66668, it seems like the feature variables do not define the target variable well(which is is_churn/whether the customer churned or not). For further study, it can be implemented with another data science algorithm."
      ]
    },
    {
      "cell_type": "code",
      "metadata": {
        "id": "GgePY-Tm2b4v"
      },
      "source": [
        "# Feature column: Year_Diff\n",
        "df['Year_Diff']=df['Year_Last_Transaction']-df['Year_First_Transaction']\n",
        "\n",
        "feature_columns = ['Average_Transaction_Amount', 'Count_Transaction', 'Year_Diff']\n",
        "\n",
        "# Features variable\n",
        "X = df[feature_columns]\n",
        "\n",
        "# Target variable\n",
        "y = df['is_churn']\n",
        "y = y.astype('str')"
      ],
      "execution_count": 22,
      "outputs": []
    },
    {
      "cell_type": "code",
      "metadata": {
        "id": "gLdhyXWT2fnY"
      },
      "source": [
        "X_train, X_test, y_train, y_test = train_test_split(X, y, test_size=0.25, random_state=0)"
      ],
      "execution_count": 23,
      "outputs": []
    },
    {
      "cell_type": "code",
      "metadata": {
        "colab": {
          "base_uri": "https://localhost:8080/"
        },
        "id": "m_85UxsY2iAL",
        "outputId": "94f59378-1667-494f-8c4a-317e7a98f61b"
      },
      "source": [
        "from sklearn.linear_model import LogisticRegression\n",
        "from sklearn.metrics import confusion_matrix\n",
        "\n",
        "logreg = LogisticRegression()\n",
        "\n",
        "# fit the model with data\n",
        "logreg.fit(X_train, y_train)\n",
        "\n",
        "# Predict model\n",
        "y_pred = logreg.predict(X_test)\n",
        "\n",
        "# Evaluate the model\n",
        "cnf_matrix = confusion_matrix(y_test, y_pred)\n",
        "print('Confusion Matrix:\\n', cnf_matrix)"
      ],
      "execution_count": 112,
      "outputs": [
        {
          "output_type": "stream",
          "text": [
            "Confusion Matrix:\n",
            " [[    1  8330]\n",
            " [    3 16666]]\n"
          ],
          "name": "stdout"
        }
      ]
    },
    {
      "cell_type": "code",
      "metadata": {
        "colab": {
          "base_uri": "https://localhost:8080/",
          "height": 314
        },
        "id": "Fztmms4M2lN4",
        "outputId": "23fa3d4d-cc60-482b-8515-7a081718884d"
      },
      "source": [
        "plt.clf()\n",
        "\n",
        "# name of classes\n",
        "class_names = [0, 1]\n",
        "fig, ax = plt.subplots()\n",
        "tick_marks = np.arange(len(class_names))\n",
        "plt.xticks(tick_marks, class_names)\n",
        "plt.yticks(tick_marks, class_names)\n",
        "\n",
        "# create heatmap\n",
        "sns.heatmap(pd.DataFrame(cnf_matrix), annot=True, cmap='YlGnBu', fmt='g')\n",
        "ax.xaxis.set_label_position('top')\n",
        "plt.title('Confusion matrix', y=1.1)\n",
        "plt.ylabel('Actual')\n",
        "plt.xlabel('Predicted')\n",
        "plt.tight_layout()\n",
        "plt.show()"
      ],
      "execution_count": 113,
      "outputs": [
        {
          "output_type": "display_data",
          "data": {
            "text/plain": [
              "<Figure size 432x288 with 0 Axes>"
            ]
          },
          "metadata": {
            "tags": []
          }
        },
        {
          "output_type": "display_data",
          "data": {
            "image/png": "[encoded data removed]",
            "text/plain": [
              "<Figure size 432x288 with 2 Axes>"
            ]
          },
          "metadata": {
            "tags": [],
            "needs_background": "light"
          }
        }
      ]
    },
    {
      "cell_type": "code",
      "metadata": {
        "colab": {
          "base_uri": "https://localhost:8080/"
        },
        "id": "w7MvLaqe2nyW",
        "outputId": "a0f4fba6-f830-4d4f-f0c9-99dacc2ca447"
      },
      "source": [
        "print('Accuracy :', accuracy_score(y_test, y_pred))\n",
        "print('Precision:', precision_score(y_test, y_pred, average='micro'))\n",
        "print('Recall :', recall_score(y_test, y_pred, average='micro'))"
      ],
      "execution_count": 26,
      "outputs": [
        {
          "output_type": "stream",
          "text": [
            "Accuracy : 0.66668\n",
            "Precision: 0.66668\n",
            "Recall : 0.66668\n"
          ],
          "name": "stdout"
        }
      ]
    }
  ]
}